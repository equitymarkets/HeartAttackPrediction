{
 "cells": [
  {
   "cell_type": "code",
   "execution_count": 5,
   "metadata": {
    "colab": {
     "base_uri": "https://localhost:8080/"
    },
    "executionInfo": {
     "elapsed": 8231,
     "status": "ok",
     "timestamp": 1686622619808,
     "user": {
      "displayName": "Derek Price",
      "userId": "16305058385432768632"
     },
     "user_tz": 240
    },
    "id": "49XBA2GrFP4n",
    "outputId": "36a11e99-c6ce-4bc4-9d9c-93b217b8c954"
   },
   "outputs": [
    {
     "name": "stdout",
     "output_type": "stream",
     "text": [
      "\u001b[?25l     \u001b[90m━━━━━━━━━━━━━━━━━━━━━━━━━━━━━━━━━━━━━━━━\u001b[0m \u001b[32m0.0/176.1 kB\u001b[0m \u001b[31m?\u001b[0m eta \u001b[36m-:--:--\u001b[0m\r",
      "\u001b[2K     \u001b[90m━━━━━━━━━━━━━━━━━━━━━━━━━━━━━━━━━━━━━━━\u001b[0m \u001b[32m176.1/176.1 kB\u001b[0m \u001b[31m5.9 MB/s\u001b[0m eta \u001b[36m0:00:00\u001b[0m\n",
      "\u001b[?25h"
     ]
    }
   ],
   "source": [
    "#Only uncomment and run this in colab if needed, then restart runtime\n",
    "# !pip install xport\n",
    "\n",
    "#Run this if needed, no need to restart\n",
    "!pip install -q -U keras-tuner"
   ]
  },
  {
   "cell_type": "code",
   "execution_count": 6,
   "metadata": {
    "colab": {
     "base_uri": "https://localhost:8080/"
    },
    "executionInfo": {
     "elapsed": 1535,
     "status": "ok",
     "timestamp": 1686622625170,
     "user": {
      "displayName": "Derek Price",
      "userId": "16305058385432768632"
     },
     "user_tz": 240
    },
    "id": "r4kuCBDxdPtQ",
    "outputId": "840fecee-2f84-40ab-ac6b-78615c78c32b"
   },
   "outputs": [
    {
     "name": "stdout",
     "output_type": "stream",
     "text": [
      "Drive already mounted at /content/drive; to attempt to forcibly remount, call drive.mount(\"/content/drive\", force_remount=True).\n"
     ]
    }
   ],
   "source": [
    "#Run in colab once to open a kernel\n",
    "from google.colab import drive\n",
    "import h5py\n",
    "\n",
    "drive.mount('/content/drive')"
   ]
  },
  {
   "cell_type": "code",
   "execution_count": 7,
   "metadata": {
    "executionInfo": {
     "elapsed": 230,
     "status": "ok",
     "timestamp": 1686622628552,
     "user": {
      "displayName": "Derek Price",
      "userId": "16305058385432768632"
     },
     "user_tz": 240
    },
    "id": "dXiHvvHO8sFP"
   },
   "outputs": [],
   "source": [
    "#If xport does not run, run pip install at top\n",
    "from sklearn.model_selection import train_test_split\n",
    "from sklearn.preprocessing import StandardScaler\n",
    "import pandas as pd\n",
    "import tensorflow as tf\n",
    "import numpy as np \n",
    "import matplotlib.pyplot as plt\n",
    "\n",
    "\n"
   ]
  },
  {
   "cell_type": "code",
   "execution_count": 8,
   "metadata": {
    "colab": {
     "base_uri": "https://localhost:8080/"
    },
    "executionInfo": {
     "elapsed": 1153,
     "status": "ok",
     "timestamp": 1686622632618,
     "user": {
      "displayName": "Derek Price",
      "userId": "16305058385432768632"
     },
     "user_tz": 240
    },
    "id": "If5H0sBTENcf",
    "outputId": "fadcb83f-158c-493e-d251-0b680020f6c4"
   },
   "outputs": [
    {
     "data": {
      "text/plain": [
       "0        0\n",
       "1        0\n",
       "2        0\n",
       "3        0\n",
       "4        0\n",
       "        ..\n",
       "14885    0\n",
       "14886    0\n",
       "14887    0\n",
       "14888    0\n",
       "14889    1\n",
       "Name: heart_attack, Length: 14890, dtype: int64"
      ]
     },
     "execution_count": 8,
     "metadata": {},
     "output_type": "execute_result"
    }
   ],
   "source": [
    "file_path =   \"/content/drive/MyDrive/health_project/medical_conditions_age_based_cleaned.csv\"\n",
    "\n",
    "health_df = pd.read_csv(file_path)\n",
    "health_df['heart_attack']"
   ]
  },
  {
   "cell_type": "code",
   "execution_count": 9,
   "metadata": {
    "executionInfo": {
     "elapsed": 492,
     "status": "ok",
     "timestamp": 1686606834862,
     "user": {
      "displayName": "Derek Price",
      "userId": "16305058385432768632"
     },
     "user_tz": 240
    },
    "id": "yFJp2v7yiQD0"
   },
   "outputs": [],
   "source": [
    "# Get dummies if needed\n",
    "\n",
    "#number_health_df = pd.get_dummies(health_df)\n",
    "#number_health_df\n",
    "\n",
    "# number_health_df.to_csv(\"/content/drive/MyDrive/health_project/Resources/xyz.csv\")"
   ]
  },
  {
   "cell_type": "code",
   "execution_count": 21,
   "metadata": {
    "executionInfo": {
     "elapsed": 160,
     "status": "ok",
     "timestamp": 1686624990244,
     "user": {
      "displayName": "Derek Price",
      "userId": "16305058385432768632"
     },
     "user_tz": 240
    },
    "id": "CLzX3_rU-Dn8"
   },
   "outputs": [],
   "source": [
    "#Split our preprocessed data into our features and target arrays\n",
    "# X = number_health_df.drop([\"heart_attack\"],1).values \n",
    "negative,positive =list(health_df.groupby('heart_attack'))\n",
    "_, pos_df = positive\n",
    "_, neg_df = negative\n",
    "neg_df = neg_df.reset_index(drop=True)\n",
    "pos_df = pos_df.reset_index(drop=True)\n",
    "\n",
    "# Get double the number of negative samples\n",
    "negative_sample_rate = pos_df.shape[0] * .75 *2 / neg_df.shape[0]\n",
    "\n",
    "#Split the preprocessed data into a training and testing dataset\n",
    "neg_train, neg_test = train_test_split(neg_df, train_size=negative_sample_rate, random_state=42)\n",
    "pos_train, pos_test = train_test_split(pos_df, train_size=.75, random_state=42)\n",
    "\n",
    "train = pd.concat([neg_train, pos_train]).sample(frac=1).reset_index(drop=True)\n",
    "test = pd.concat([neg_test, pos_test]).sample(frac=1).reset_index(drop=True)\n",
    "\n",
    "X_train = train.drop([\"heart_attack\",\"heart_attack_age\",\"max_age\",\"id\"], axis=1)\n",
    "y_train = train[\"heart_attack\"]\n",
    "\n",
    "X_test = test.drop([\"heart_attack\",\"heart_attack_age\", \"max_age\",\"id\"], axis=1)\n",
    "y_test = test[\"heart_attack\"]"
   ]
  },
  {
   "cell_type": "code",
   "execution_count": 22,
   "metadata": {
    "colab": {
     "base_uri": "https://localhost:8080/"
    },
    "executionInfo": {
     "elapsed": 159,
     "status": "ok",
     "timestamp": 1686624993237,
     "user": {
      "displayName": "Derek Price",
      "userId": "16305058385432768632"
     },
     "user_tz": 240
    },
    "id": "YMSkowZgjhr7",
    "outputId": "854cd485-62f0-4038-d33b-e38ad87c9fa8"
   },
   "outputs": [
    {
     "name": "stdout",
     "output_type": "stream",
     "text": [
      "(13954, 35) (13954,) (936, 35) (936,)\n",
      "Index(['asthma_age', 'ever_overweight', 'heart_failure_age',\n",
      "       'age_chronic_heart_disease', 'angina_pectoris_age', 'stroke_age',\n",
      "       'thyroid_age', 'liver_age', 'fatty_liver', 'liver_fibrosis',\n",
      "       'liver_cirrhosis', 'liver_viral_hepatitis',\n",
      "       'liver_autoimmune_hepatitis', 'other_liver_disease',\n",
      "       'gallbladder_pr_age', 'relative_asthma', 'relative_diabetes',\n",
      "       'relative_heart_attack', 'asthma', 'heart_failure',\n",
      "       'chronic_heart_disease', 'angina_pectoris', 'stroke', 'thyroid',\n",
      "       'liver', 'gallbladder_pr', 'asthma_yrs', 'heart_failure_yrs',\n",
      "       'chronic_heart_disease_yrs', 'angina_pectoris_yrs', 'stroke_yrs',\n",
      "       'thyroid_yrs', 'liver_disease_yrs', 'gallbladder_pr_yrs',\n",
      "       'liver_disease'],\n",
      "      dtype='object')\n"
     ]
    }
   ],
   "source": [
    "print(X_test.shape, y_test.shape, X_train.shape, y_train.shape)\n",
    "print(X_test.columns)"
   ]
  },
  {
   "cell_type": "code",
   "execution_count": 23,
   "metadata": {
    "colab": {
     "base_uri": "https://localhost:8080/",
     "height": 488
    },
    "executionInfo": {
     "elapsed": 196,
     "status": "ok",
     "timestamp": 1686624995895,
     "user": {
      "displayName": "Derek Price",
      "userId": "16305058385432768632"
     },
     "user_tz": 240
    },
    "id": "9BaIOYghmAnq",
    "outputId": "6f6e0abf-af7a-4f83-8a3c-97fb59c28691"
   },
   "outputs": [
    {
     "data": {
      "text/html": [
       "\n",
       "  <div id=\"df-ec34c3a4-6d63-4982-83e8-cc217f49dcfd\">\n",
       "    <div class=\"colab-df-container\">\n",
       "      <div>\n",
       "<style scoped>\n",
       "    .dataframe tbody tr th:only-of-type {\n",
       "        vertical-align: middle;\n",
       "    }\n",
       "\n",
       "    .dataframe tbody tr th {\n",
       "        vertical-align: top;\n",
       "    }\n",
       "\n",
       "    .dataframe thead th {\n",
       "        text-align: right;\n",
       "    }\n",
       "</style>\n",
       "<table border=\"1\" class=\"dataframe\">\n",
       "  <thead>\n",
       "    <tr style=\"text-align: right;\">\n",
       "      <th></th>\n",
       "      <th>asthma_age</th>\n",
       "      <th>ever_overweight</th>\n",
       "      <th>heart_failure_age</th>\n",
       "      <th>age_chronic_heart_disease</th>\n",
       "      <th>angina_pectoris_age</th>\n",
       "      <th>stroke_age</th>\n",
       "      <th>thyroid_age</th>\n",
       "      <th>liver_age</th>\n",
       "      <th>fatty_liver</th>\n",
       "      <th>liver_fibrosis</th>\n",
       "      <th>...</th>\n",
       "      <th>gallbladder_pr</th>\n",
       "      <th>asthma_yrs</th>\n",
       "      <th>heart_failure_yrs</th>\n",
       "      <th>chronic_heart_disease_yrs</th>\n",
       "      <th>angina_pectoris_yrs</th>\n",
       "      <th>stroke_yrs</th>\n",
       "      <th>thyroid_yrs</th>\n",
       "      <th>liver_disease_yrs</th>\n",
       "      <th>gallbladder_pr_yrs</th>\n",
       "      <th>liver_disease</th>\n",
       "    </tr>\n",
       "  </thead>\n",
       "  <tbody>\n",
       "    <tr>\n",
       "      <th>0</th>\n",
       "      <td>0.0</td>\n",
       "      <td>1</td>\n",
       "      <td>0.0</td>\n",
       "      <td>0.0</td>\n",
       "      <td>0.0</td>\n",
       "      <td>0.0</td>\n",
       "      <td>0.0</td>\n",
       "      <td>0.0</td>\n",
       "      <td>0</td>\n",
       "      <td>0</td>\n",
       "      <td>...</td>\n",
       "      <td>0</td>\n",
       "      <td>0.0</td>\n",
       "      <td>0.0</td>\n",
       "      <td>0.0</td>\n",
       "      <td>0.0</td>\n",
       "      <td>0.0</td>\n",
       "      <td>0.0</td>\n",
       "      <td>0.0</td>\n",
       "      <td>0.0</td>\n",
       "      <td>0</td>\n",
       "    </tr>\n",
       "    <tr>\n",
       "      <th>1</th>\n",
       "      <td>0.0</td>\n",
       "      <td>0</td>\n",
       "      <td>0.0</td>\n",
       "      <td>0.0</td>\n",
       "      <td>0.0</td>\n",
       "      <td>0.0</td>\n",
       "      <td>0.0</td>\n",
       "      <td>69.0</td>\n",
       "      <td>1</td>\n",
       "      <td>0</td>\n",
       "      <td>...</td>\n",
       "      <td>1</td>\n",
       "      <td>0.0</td>\n",
       "      <td>0.0</td>\n",
       "      <td>0.0</td>\n",
       "      <td>0.0</td>\n",
       "      <td>0.0</td>\n",
       "      <td>0.0</td>\n",
       "      <td>0.0</td>\n",
       "      <td>0.0</td>\n",
       "      <td>1</td>\n",
       "    </tr>\n",
       "    <tr>\n",
       "      <th>2</th>\n",
       "      <td>0.0</td>\n",
       "      <td>0</td>\n",
       "      <td>0.0</td>\n",
       "      <td>0.0</td>\n",
       "      <td>0.0</td>\n",
       "      <td>0.0</td>\n",
       "      <td>0.0</td>\n",
       "      <td>0.0</td>\n",
       "      <td>0</td>\n",
       "      <td>0</td>\n",
       "      <td>...</td>\n",
       "      <td>0</td>\n",
       "      <td>0.0</td>\n",
       "      <td>0.0</td>\n",
       "      <td>0.0</td>\n",
       "      <td>0.0</td>\n",
       "      <td>0.0</td>\n",
       "      <td>0.0</td>\n",
       "      <td>0.0</td>\n",
       "      <td>0.0</td>\n",
       "      <td>0</td>\n",
       "    </tr>\n",
       "    <tr>\n",
       "      <th>3</th>\n",
       "      <td>0.0</td>\n",
       "      <td>0</td>\n",
       "      <td>0.0</td>\n",
       "      <td>0.0</td>\n",
       "      <td>0.0</td>\n",
       "      <td>0.0</td>\n",
       "      <td>0.0</td>\n",
       "      <td>0.0</td>\n",
       "      <td>0</td>\n",
       "      <td>0</td>\n",
       "      <td>...</td>\n",
       "      <td>0</td>\n",
       "      <td>0.0</td>\n",
       "      <td>0.0</td>\n",
       "      <td>0.0</td>\n",
       "      <td>0.0</td>\n",
       "      <td>0.0</td>\n",
       "      <td>0.0</td>\n",
       "      <td>0.0</td>\n",
       "      <td>0.0</td>\n",
       "      <td>0</td>\n",
       "    </tr>\n",
       "    <tr>\n",
       "      <th>4</th>\n",
       "      <td>0.0</td>\n",
       "      <td>0</td>\n",
       "      <td>0.0</td>\n",
       "      <td>0.0</td>\n",
       "      <td>0.0</td>\n",
       "      <td>0.0</td>\n",
       "      <td>0.0</td>\n",
       "      <td>0.0</td>\n",
       "      <td>0</td>\n",
       "      <td>0</td>\n",
       "      <td>...</td>\n",
       "      <td>0</td>\n",
       "      <td>0.0</td>\n",
       "      <td>0.0</td>\n",
       "      <td>0.0</td>\n",
       "      <td>0.0</td>\n",
       "      <td>0.0</td>\n",
       "      <td>0.0</td>\n",
       "      <td>0.0</td>\n",
       "      <td>0.0</td>\n",
       "      <td>0</td>\n",
       "    </tr>\n",
       "    <tr>\n",
       "      <th>...</th>\n",
       "      <td>...</td>\n",
       "      <td>...</td>\n",
       "      <td>...</td>\n",
       "      <td>...</td>\n",
       "      <td>...</td>\n",
       "      <td>...</td>\n",
       "      <td>...</td>\n",
       "      <td>...</td>\n",
       "      <td>...</td>\n",
       "      <td>...</td>\n",
       "      <td>...</td>\n",
       "      <td>...</td>\n",
       "      <td>...</td>\n",
       "      <td>...</td>\n",
       "      <td>...</td>\n",
       "      <td>...</td>\n",
       "      <td>...</td>\n",
       "      <td>...</td>\n",
       "      <td>...</td>\n",
       "      <td>...</td>\n",
       "      <td>...</td>\n",
       "    </tr>\n",
       "    <tr>\n",
       "      <th>931</th>\n",
       "      <td>0.0</td>\n",
       "      <td>0</td>\n",
       "      <td>0.0</td>\n",
       "      <td>0.0</td>\n",
       "      <td>0.0</td>\n",
       "      <td>0.0</td>\n",
       "      <td>0.0</td>\n",
       "      <td>0.0</td>\n",
       "      <td>0</td>\n",
       "      <td>0</td>\n",
       "      <td>...</td>\n",
       "      <td>0</td>\n",
       "      <td>0.0</td>\n",
       "      <td>0.0</td>\n",
       "      <td>0.0</td>\n",
       "      <td>0.0</td>\n",
       "      <td>0.0</td>\n",
       "      <td>0.0</td>\n",
       "      <td>0.0</td>\n",
       "      <td>0.0</td>\n",
       "      <td>0</td>\n",
       "    </tr>\n",
       "    <tr>\n",
       "      <th>932</th>\n",
       "      <td>0.0</td>\n",
       "      <td>0</td>\n",
       "      <td>0.0</td>\n",
       "      <td>0.0</td>\n",
       "      <td>0.0</td>\n",
       "      <td>0.0</td>\n",
       "      <td>0.0</td>\n",
       "      <td>0.0</td>\n",
       "      <td>0</td>\n",
       "      <td>0</td>\n",
       "      <td>...</td>\n",
       "      <td>1</td>\n",
       "      <td>0.0</td>\n",
       "      <td>0.0</td>\n",
       "      <td>0.0</td>\n",
       "      <td>0.0</td>\n",
       "      <td>0.0</td>\n",
       "      <td>0.0</td>\n",
       "      <td>0.0</td>\n",
       "      <td>0.0</td>\n",
       "      <td>1</td>\n",
       "    </tr>\n",
       "    <tr>\n",
       "      <th>933</th>\n",
       "      <td>0.0</td>\n",
       "      <td>0</td>\n",
       "      <td>0.0</td>\n",
       "      <td>0.0</td>\n",
       "      <td>0.0</td>\n",
       "      <td>0.0</td>\n",
       "      <td>0.0</td>\n",
       "      <td>0.0</td>\n",
       "      <td>0</td>\n",
       "      <td>0</td>\n",
       "      <td>...</td>\n",
       "      <td>0</td>\n",
       "      <td>0.0</td>\n",
       "      <td>0.0</td>\n",
       "      <td>0.0</td>\n",
       "      <td>0.0</td>\n",
       "      <td>0.0</td>\n",
       "      <td>0.0</td>\n",
       "      <td>0.0</td>\n",
       "      <td>0.0</td>\n",
       "      <td>0</td>\n",
       "    </tr>\n",
       "    <tr>\n",
       "      <th>934</th>\n",
       "      <td>0.0</td>\n",
       "      <td>1</td>\n",
       "      <td>55.0</td>\n",
       "      <td>55.0</td>\n",
       "      <td>0.0</td>\n",
       "      <td>0.0</td>\n",
       "      <td>45.0</td>\n",
       "      <td>0.0</td>\n",
       "      <td>0</td>\n",
       "      <td>0</td>\n",
       "      <td>...</td>\n",
       "      <td>1</td>\n",
       "      <td>0.0</td>\n",
       "      <td>0.0</td>\n",
       "      <td>0.0</td>\n",
       "      <td>0.0</td>\n",
       "      <td>0.0</td>\n",
       "      <td>10.0</td>\n",
       "      <td>0.0</td>\n",
       "      <td>0.0</td>\n",
       "      <td>1</td>\n",
       "    </tr>\n",
       "    <tr>\n",
       "      <th>935</th>\n",
       "      <td>0.0</td>\n",
       "      <td>0</td>\n",
       "      <td>0.0</td>\n",
       "      <td>0.0</td>\n",
       "      <td>0.0</td>\n",
       "      <td>0.0</td>\n",
       "      <td>0.0</td>\n",
       "      <td>0.0</td>\n",
       "      <td>0</td>\n",
       "      <td>0</td>\n",
       "      <td>...</td>\n",
       "      <td>0</td>\n",
       "      <td>0.0</td>\n",
       "      <td>0.0</td>\n",
       "      <td>0.0</td>\n",
       "      <td>0.0</td>\n",
       "      <td>0.0</td>\n",
       "      <td>0.0</td>\n",
       "      <td>0.0</td>\n",
       "      <td>0.0</td>\n",
       "      <td>0</td>\n",
       "    </tr>\n",
       "  </tbody>\n",
       "</table>\n",
       "<p>936 rows × 35 columns</p>\n",
       "</div>\n",
       "      <button class=\"colab-df-convert\" onclick=\"convertToInteractive('df-ec34c3a4-6d63-4982-83e8-cc217f49dcfd')\"\n",
       "              title=\"Convert this dataframe to an interactive table.\"\n",
       "              style=\"display:none;\">\n",
       "        \n",
       "  <svg xmlns=\"http://www.w3.org/2000/svg\" height=\"24px\"viewBox=\"0 0 24 24\"\n",
       "       width=\"24px\">\n",
       "    <path d=\"M0 0h24v24H0V0z\" fill=\"none\"/>\n",
       "    <path d=\"M18.56 5.44l.94 2.06.94-2.06 2.06-.94-2.06-.94-.94-2.06-.94 2.06-2.06.94zm-11 1L8.5 8.5l.94-2.06 2.06-.94-2.06-.94L8.5 2.5l-.94 2.06-2.06.94zm10 10l.94 2.06.94-2.06 2.06-.94-2.06-.94-.94-2.06-.94 2.06-2.06.94z\"/><path d=\"M17.41 7.96l-1.37-1.37c-.4-.4-.92-.59-1.43-.59-.52 0-1.04.2-1.43.59L10.3 9.45l-7.72 7.72c-.78.78-.78 2.05 0 2.83L4 21.41c.39.39.9.59 1.41.59.51 0 1.02-.2 1.41-.59l7.78-7.78 2.81-2.81c.8-.78.8-2.07 0-2.86zM5.41 20L4 18.59l7.72-7.72 1.47 1.35L5.41 20z\"/>\n",
       "  </svg>\n",
       "      </button>\n",
       "      \n",
       "  <style>\n",
       "    .colab-df-container {\n",
       "      display:flex;\n",
       "      flex-wrap:wrap;\n",
       "      gap: 12px;\n",
       "    }\n",
       "\n",
       "    .colab-df-convert {\n",
       "      background-color: #E8F0FE;\n",
       "      border: none;\n",
       "      border-radius: 50%;\n",
       "      cursor: pointer;\n",
       "      display: none;\n",
       "      fill: #1967D2;\n",
       "      height: 32px;\n",
       "      padding: 0 0 0 0;\n",
       "      width: 32px;\n",
       "    }\n",
       "\n",
       "    .colab-df-convert:hover {\n",
       "      background-color: #E2EBFA;\n",
       "      box-shadow: 0px 1px 2px rgba(60, 64, 67, 0.3), 0px 1px 3px 1px rgba(60, 64, 67, 0.15);\n",
       "      fill: #174EA6;\n",
       "    }\n",
       "\n",
       "    [theme=dark] .colab-df-convert {\n",
       "      background-color: #3B4455;\n",
       "      fill: #D2E3FC;\n",
       "    }\n",
       "\n",
       "    [theme=dark] .colab-df-convert:hover {\n",
       "      background-color: #434B5C;\n",
       "      box-shadow: 0px 1px 3px 1px rgba(0, 0, 0, 0.15);\n",
       "      filter: drop-shadow(0px 1px 2px rgba(0, 0, 0, 0.3));\n",
       "      fill: #FFFFFF;\n",
       "    }\n",
       "  </style>\n",
       "\n",
       "      <script>\n",
       "        const buttonEl =\n",
       "          document.querySelector('#df-ec34c3a4-6d63-4982-83e8-cc217f49dcfd button.colab-df-convert');\n",
       "        buttonEl.style.display =\n",
       "          google.colab.kernel.accessAllowed ? 'block' : 'none';\n",
       "\n",
       "        async function convertToInteractive(key) {\n",
       "          const element = document.querySelector('#df-ec34c3a4-6d63-4982-83e8-cc217f49dcfd');\n",
       "          const dataTable =\n",
       "            await google.colab.kernel.invokeFunction('convertToInteractive',\n",
       "                                                     [key], {});\n",
       "          if (!dataTable) return;\n",
       "\n",
       "          const docLinkHtml = 'Like what you see? Visit the ' +\n",
       "            '<a target=\"_blank\" href=https://colab.research.google.com/notebooks/data_table.ipynb>data table notebook</a>'\n",
       "            + ' to learn more about interactive tables.';\n",
       "          element.innerHTML = '';\n",
       "          dataTable['output_type'] = 'display_data';\n",
       "          await google.colab.output.renderOutput(dataTable, element);\n",
       "          const docLink = document.createElement('div');\n",
       "          docLink.innerHTML = docLinkHtml;\n",
       "          element.appendChild(docLink);\n",
       "        }\n",
       "      </script>\n",
       "    </div>\n",
       "  </div>\n",
       "  "
      ],
      "text/plain": [
       "     asthma_age  ever_overweight  heart_failure_age  \\\n",
       "0           0.0                1                0.0   \n",
       "1           0.0                0                0.0   \n",
       "2           0.0                0                0.0   \n",
       "3           0.0                0                0.0   \n",
       "4           0.0                0                0.0   \n",
       "..          ...              ...                ...   \n",
       "931         0.0                0                0.0   \n",
       "932         0.0                0                0.0   \n",
       "933         0.0                0                0.0   \n",
       "934         0.0                1               55.0   \n",
       "935         0.0                0                0.0   \n",
       "\n",
       "     age_chronic_heart_disease  angina_pectoris_age  stroke_age  thyroid_age  \\\n",
       "0                          0.0                  0.0         0.0          0.0   \n",
       "1                          0.0                  0.0         0.0          0.0   \n",
       "2                          0.0                  0.0         0.0          0.0   \n",
       "3                          0.0                  0.0         0.0          0.0   \n",
       "4                          0.0                  0.0         0.0          0.0   \n",
       "..                         ...                  ...         ...          ...   \n",
       "931                        0.0                  0.0         0.0          0.0   \n",
       "932                        0.0                  0.0         0.0          0.0   \n",
       "933                        0.0                  0.0         0.0          0.0   \n",
       "934                       55.0                  0.0         0.0         45.0   \n",
       "935                        0.0                  0.0         0.0          0.0   \n",
       "\n",
       "     liver_age  fatty_liver  liver_fibrosis  ...  gallbladder_pr  asthma_yrs  \\\n",
       "0          0.0            0               0  ...               0         0.0   \n",
       "1         69.0            1               0  ...               1         0.0   \n",
       "2          0.0            0               0  ...               0         0.0   \n",
       "3          0.0            0               0  ...               0         0.0   \n",
       "4          0.0            0               0  ...               0         0.0   \n",
       "..         ...          ...             ...  ...             ...         ...   \n",
       "931        0.0            0               0  ...               0         0.0   \n",
       "932        0.0            0               0  ...               1         0.0   \n",
       "933        0.0            0               0  ...               0         0.0   \n",
       "934        0.0            0               0  ...               1         0.0   \n",
       "935        0.0            0               0  ...               0         0.0   \n",
       "\n",
       "     heart_failure_yrs  chronic_heart_disease_yrs  angina_pectoris_yrs  \\\n",
       "0                  0.0                        0.0                  0.0   \n",
       "1                  0.0                        0.0                  0.0   \n",
       "2                  0.0                        0.0                  0.0   \n",
       "3                  0.0                        0.0                  0.0   \n",
       "4                  0.0                        0.0                  0.0   \n",
       "..                 ...                        ...                  ...   \n",
       "931                0.0                        0.0                  0.0   \n",
       "932                0.0                        0.0                  0.0   \n",
       "933                0.0                        0.0                  0.0   \n",
       "934                0.0                        0.0                  0.0   \n",
       "935                0.0                        0.0                  0.0   \n",
       "\n",
       "     stroke_yrs  thyroid_yrs  liver_disease_yrs  gallbladder_pr_yrs  \\\n",
       "0           0.0          0.0                0.0                 0.0   \n",
       "1           0.0          0.0                0.0                 0.0   \n",
       "2           0.0          0.0                0.0                 0.0   \n",
       "3           0.0          0.0                0.0                 0.0   \n",
       "4           0.0          0.0                0.0                 0.0   \n",
       "..          ...          ...                ...                 ...   \n",
       "931         0.0          0.0                0.0                 0.0   \n",
       "932         0.0          0.0                0.0                 0.0   \n",
       "933         0.0          0.0                0.0                 0.0   \n",
       "934         0.0         10.0                0.0                 0.0   \n",
       "935         0.0          0.0                0.0                 0.0   \n",
       "\n",
       "     liver_disease  \n",
       "0                0  \n",
       "1                1  \n",
       "2                0  \n",
       "3                0  \n",
       "4                0  \n",
       "..             ...  \n",
       "931              0  \n",
       "932              1  \n",
       "933              0  \n",
       "934              1  \n",
       "935              0  \n",
       "\n",
       "[936 rows x 35 columns]"
      ]
     },
     "execution_count": 23,
     "metadata": {},
     "output_type": "execute_result"
    }
   ],
   "source": [
    "X_train"
   ]
  },
  {
   "cell_type": "code",
   "execution_count": 24,
   "metadata": {
    "executionInfo": {
     "elapsed": 324,
     "status": "ok",
     "timestamp": 1686624998836,
     "user": {
      "displayName": "Derek Price",
      "userId": "16305058385432768632"
     },
     "user_tz": 240
    },
    "id": "MDha8u9Fucfa"
   },
   "outputs": [],
   "source": [
    "callback = tf.keras.callbacks.EarlyStopping(\n",
    "    monitor=\"val_loss\",\n",
    "    min_delta=0,\n",
    "    patience=1,\n",
    "    verbose=0,\n",
    "    mode=\"auto\",\n",
    "    baseline=None,\n",
    "    restore_best_weights=False,\n",
    "    start_from_epoch=0,\n",
    ")"
   ]
  },
  {
   "cell_type": "code",
   "execution_count": 25,
   "metadata": {
    "executionInfo": {
     "elapsed": 355,
     "status": "ok",
     "timestamp": 1686625003550,
     "user": {
      "displayName": "Derek Price",
      "userId": "16305058385432768632"
     },
     "user_tz": 240
    },
    "id": "ejVdMDDN-D1w"
   },
   "outputs": [],
   "source": [
    "# Create a StandardScaler instances\n",
    "scaler = StandardScaler()\n",
    "\n",
    "# Fit the StandardScaler\n",
    "X_scaler = scaler.fit(X_train)\n",
    "\n",
    "# Scale the data\n",
    "\n",
    "X_train_scaled = X_scaler.transform(X_train)\n",
    "X_test_scaled = X_scaler.transform(X_test)\n"
   ]
  },
  {
   "cell_type": "code",
   "execution_count": 26,
   "metadata": {
    "colab": {
     "base_uri": "https://localhost:8080/"
    },
    "executionInfo": {
     "elapsed": 354,
     "status": "ok",
     "timestamp": 1686625006691,
     "user": {
      "displayName": "Derek Price",
      "userId": "16305058385432768632"
     },
     "user_tz": 240
    },
    "id": "wxjQ4bDY-D58",
    "outputId": "f927ba0e-79e7-48dd-cf73-005d89656546"
   },
   "outputs": [
    {
     "name": "stdout",
     "output_type": "stream",
     "text": [
      "Model: \"sequential_1\"\n",
      "_________________________________________________________________\n",
      " Layer (type)                Output Shape              Param #   \n",
      "=================================================================\n",
      " dense_3 (Dense)             (None, 20)                720       \n",
      "                                                                 \n",
      " dense_4 (Dense)             (None, 30)                630       \n",
      "                                                                 \n",
      " dense_5 (Dense)             (None, 1)                 31        \n",
      "                                                                 \n",
      "=================================================================\n",
      "Total params: 1,381\n",
      "Trainable params: 1,381\n",
      "Non-trainable params: 0\n",
      "_________________________________________________________________\n"
     ]
    }
   ],
   "source": [
    "# Model may not be tuned (hyper parameters, number of layers, number of neurons etc)\n",
    "\n",
    "# keras tuner \n",
    "\n",
    "# Work with these, see report\n",
    "# Define the model - deep neural net, i.e., the number of input features and hidden nodes for each layer.\n",
    "nn = tf.keras.models.Sequential()\n",
    "\n",
    "# First hidden layer\n",
    "nn.add(tf.keras.layers.Dense(20, activation=\"relu\", input_shape=([35])))\n",
    "\n",
    "# Second hidden layer\n",
    "nn.add(tf.keras.layers.Dense(30, activation=\"relu\"))\n",
    "\n",
    "# Output layer\n",
    "nn.add(tf.keras.layers.Dense(1, activation=\"sigmoid\"))\n",
    "\n",
    "# Check the structure of the model\n",
    "nn.summary()"
   ]
  },
  {
   "cell_type": "code",
   "execution_count": 27,
   "metadata": {
    "executionInfo": {
     "elapsed": 241,
     "status": "ok",
     "timestamp": 1686625011424,
     "user": {
      "displayName": "Derek Price",
      "userId": "16305058385432768632"
     },
     "user_tz": 240
    },
    "id": "q7cbZ9Dl-D-h"
   },
   "outputs": [],
   "source": [
    "# Compile the data\n",
    "nn.compile(loss=\"binary_crossentropy\", optimizer=\"adam\", metrics=[\"accuracy\", tf.keras.metrics.Recall(), tf.keras.metrics.Precision()])"
   ]
  },
  {
   "cell_type": "code",
   "execution_count": 29,
   "metadata": {
    "colab": {
     "base_uri": "https://localhost:8080/"
    },
    "executionInfo": {
     "elapsed": 10628,
     "status": "ok",
     "timestamp": 1686625044066,
     "user": {
      "displayName": "Derek Price",
      "userId": "16305058385432768632"
     },
     "user_tz": 240
    },
    "id": "3OOEb2uo-EDF",
    "outputId": "196e91f6-5c0a-4d69-afb4-e6633f541e90"
   },
   "outputs": [
    {
     "name": "stdout",
     "output_type": "stream",
     "text": [
      "Epoch 1/75\n",
      "22/22 [==============================] - 2s 17ms/step - loss: 0.5483 - accuracy: 0.8533 - recall_1: 0.9664 - precision_1: 0.7077 - val_loss: 0.4201 - val_accuracy: 0.9744 - val_recall_1: 1.0000 - val_precision_1: 0.9250\n",
      "Epoch 2/75\n",
      "22/22 [==============================] - 0s 5ms/step - loss: 0.3180 - accuracy: 0.9786 - recall_1: 0.9832 - precision_1: 0.9551 - val_loss: 0.2186 - val_accuracy: 0.9915 - val_recall_1: 1.0000 - val_precision_1: 0.9737\n",
      "Epoch 3/75\n",
      "22/22 [==============================] - 0s 4ms/step - loss: 0.1551 - accuracy: 0.9886 - recall_1: 0.9916 - precision_1: 0.9752 - val_loss: 0.1041 - val_accuracy: 1.0000 - val_recall_1: 1.0000 - val_precision_1: 1.0000\n",
      "Epoch 4/75\n",
      "22/22 [==============================] - 0s 4ms/step - loss: 0.0768 - accuracy: 0.9943 - recall_1: 0.9958 - precision_1: 0.9875 - val_loss: 0.0545 - val_accuracy: 1.0000 - val_recall_1: 1.0000 - val_precision_1: 1.0000\n",
      "Epoch 5/75\n",
      "22/22 [==============================] - 0s 4ms/step - loss: 0.0432 - accuracy: 0.9943 - recall_1: 0.9958 - precision_1: 0.9875 - val_loss: 0.0326 - val_accuracy: 1.0000 - val_recall_1: 1.0000 - val_precision_1: 1.0000\n",
      "Epoch 6/75\n",
      "22/22 [==============================] - 0s 4ms/step - loss: 0.0270 - accuracy: 0.9972 - recall_1: 0.9958 - precision_1: 0.9958 - val_loss: 0.0224 - val_accuracy: 1.0000 - val_recall_1: 1.0000 - val_precision_1: 1.0000\n",
      "Epoch 7/75\n",
      "22/22 [==============================] - 0s 4ms/step - loss: 0.0189 - accuracy: 0.9972 - recall_1: 0.9958 - precision_1: 0.9958 - val_loss: 0.0165 - val_accuracy: 1.0000 - val_recall_1: 1.0000 - val_precision_1: 1.0000\n",
      "Epoch 8/75\n",
      "22/22 [==============================] - 0s 4ms/step - loss: 0.0139 - accuracy: 0.9972 - recall_1: 0.9958 - precision_1: 0.9958 - val_loss: 0.0127 - val_accuracy: 1.0000 - val_recall_1: 1.0000 - val_precision_1: 1.0000\n",
      "Epoch 9/75\n",
      "22/22 [==============================] - 0s 4ms/step - loss: 0.0106 - accuracy: 0.9986 - recall_1: 1.0000 - precision_1: 0.9958 - val_loss: 0.0101 - val_accuracy: 1.0000 - val_recall_1: 1.0000 - val_precision_1: 1.0000\n",
      "Epoch 10/75\n",
      "22/22 [==============================] - 0s 5ms/step - loss: 0.0082 - accuracy: 0.9986 - recall_1: 1.0000 - precision_1: 0.9958 - val_loss: 0.0082 - val_accuracy: 1.0000 - val_recall_1: 1.0000 - val_precision_1: 1.0000\n",
      "Epoch 11/75\n",
      "22/22 [==============================] - 0s 4ms/step - loss: 0.0064 - accuracy: 0.9986 - recall_1: 1.0000 - precision_1: 0.9958 - val_loss: 0.0070 - val_accuracy: 1.0000 - val_recall_1: 1.0000 - val_precision_1: 1.0000\n",
      "Epoch 12/75\n",
      "22/22 [==============================] - 0s 4ms/step - loss: 0.0052 - accuracy: 0.9986 - recall_1: 1.0000 - precision_1: 0.9958 - val_loss: 0.0059 - val_accuracy: 1.0000 - val_recall_1: 1.0000 - val_precision_1: 1.0000\n",
      "Epoch 13/75\n",
      "22/22 [==============================] - 0s 5ms/step - loss: 0.0042 - accuracy: 1.0000 - recall_1: 1.0000 - precision_1: 1.0000 - val_loss: 0.0051 - val_accuracy: 1.0000 - val_recall_1: 1.0000 - val_precision_1: 1.0000\n",
      "Epoch 14/75\n",
      "22/22 [==============================] - 0s 4ms/step - loss: 0.0034 - accuracy: 1.0000 - recall_1: 1.0000 - precision_1: 1.0000 - val_loss: 0.0045 - val_accuracy: 1.0000 - val_recall_1: 1.0000 - val_precision_1: 1.0000\n",
      "Epoch 15/75\n",
      "22/22 [==============================] - 0s 4ms/step - loss: 0.0028 - accuracy: 1.0000 - recall_1: 1.0000 - precision_1: 1.0000 - val_loss: 0.0040 - val_accuracy: 1.0000 - val_recall_1: 1.0000 - val_precision_1: 1.0000\n",
      "Epoch 16/75\n",
      "22/22 [==============================] - 0s 4ms/step - loss: 0.0023 - accuracy: 1.0000 - recall_1: 1.0000 - precision_1: 1.0000 - val_loss: 0.0036 - val_accuracy: 1.0000 - val_recall_1: 1.0000 - val_precision_1: 1.0000\n",
      "Epoch 17/75\n",
      "22/22 [==============================] - 0s 4ms/step - loss: 0.0020 - accuracy: 1.0000 - recall_1: 1.0000 - precision_1: 1.0000 - val_loss: 0.0033 - val_accuracy: 1.0000 - val_recall_1: 1.0000 - val_precision_1: 1.0000\n",
      "Epoch 18/75\n",
      "22/22 [==============================] - 0s 4ms/step - loss: 0.0017 - accuracy: 1.0000 - recall_1: 1.0000 - precision_1: 1.0000 - val_loss: 0.0030 - val_accuracy: 1.0000 - val_recall_1: 1.0000 - val_precision_1: 1.0000\n",
      "Epoch 19/75\n",
      "22/22 [==============================] - 0s 4ms/step - loss: 0.0015 - accuracy: 1.0000 - recall_1: 1.0000 - precision_1: 1.0000 - val_loss: 0.0027 - val_accuracy: 1.0000 - val_recall_1: 1.0000 - val_precision_1: 1.0000\n",
      "Epoch 20/75\n",
      "22/22 [==============================] - 0s 5ms/step - loss: 0.0013 - accuracy: 1.0000 - recall_1: 1.0000 - precision_1: 1.0000 - val_loss: 0.0025 - val_accuracy: 1.0000 - val_recall_1: 1.0000 - val_precision_1: 1.0000\n",
      "Epoch 21/75\n",
      "22/22 [==============================] - 0s 4ms/step - loss: 0.0011 - accuracy: 1.0000 - recall_1: 1.0000 - precision_1: 1.0000 - val_loss: 0.0023 - val_accuracy: 1.0000 - val_recall_1: 1.0000 - val_precision_1: 1.0000\n",
      "Epoch 22/75\n",
      "22/22 [==============================] - 0s 5ms/step - loss: 0.0010 - accuracy: 1.0000 - recall_1: 1.0000 - precision_1: 1.0000 - val_loss: 0.0022 - val_accuracy: 1.0000 - val_recall_1: 1.0000 - val_precision_1: 1.0000\n",
      "Epoch 23/75\n",
      "22/22 [==============================] - 0s 4ms/step - loss: 9.2321e-04 - accuracy: 1.0000 - recall_1: 1.0000 - precision_1: 1.0000 - val_loss: 0.0020 - val_accuracy: 1.0000 - val_recall_1: 1.0000 - val_precision_1: 1.0000\n",
      "Epoch 24/75\n",
      "22/22 [==============================] - 0s 4ms/step - loss: 8.3177e-04 - accuracy: 1.0000 - recall_1: 1.0000 - precision_1: 1.0000 - val_loss: 0.0019 - val_accuracy: 1.0000 - val_recall_1: 1.0000 - val_precision_1: 1.0000\n",
      "Epoch 25/75\n",
      "22/22 [==============================] - 0s 4ms/step - loss: 7.5348e-04 - accuracy: 1.0000 - recall_1: 1.0000 - precision_1: 1.0000 - val_loss: 0.0018 - val_accuracy: 1.0000 - val_recall_1: 1.0000 - val_precision_1: 1.0000\n",
      "Epoch 26/75\n",
      "22/22 [==============================] - 0s 4ms/step - loss: 6.8784e-04 - accuracy: 1.0000 - recall_1: 1.0000 - precision_1: 1.0000 - val_loss: 0.0017 - val_accuracy: 1.0000 - val_recall_1: 1.0000 - val_precision_1: 1.0000\n",
      "Epoch 27/75\n",
      "22/22 [==============================] - 0s 5ms/step - loss: 6.2935e-04 - accuracy: 1.0000 - recall_1: 1.0000 - precision_1: 1.0000 - val_loss: 0.0016 - val_accuracy: 1.0000 - val_recall_1: 1.0000 - val_precision_1: 1.0000\n",
      "Epoch 28/75\n",
      "22/22 [==============================] - 0s 4ms/step - loss: 5.7668e-04 - accuracy: 1.0000 - recall_1: 1.0000 - precision_1: 1.0000 - val_loss: 0.0015 - val_accuracy: 1.0000 - val_recall_1: 1.0000 - val_precision_1: 1.0000\n",
      "Epoch 29/75\n",
      "22/22 [==============================] - 0s 4ms/step - loss: 5.3081e-04 - accuracy: 1.0000 - recall_1: 1.0000 - precision_1: 1.0000 - val_loss: 0.0015 - val_accuracy: 1.0000 - val_recall_1: 1.0000 - val_precision_1: 1.0000\n",
      "Epoch 30/75\n",
      "22/22 [==============================] - 0s 4ms/step - loss: 4.9017e-04 - accuracy: 1.0000 - recall_1: 1.0000 - precision_1: 1.0000 - val_loss: 0.0014 - val_accuracy: 1.0000 - val_recall_1: 1.0000 - val_precision_1: 1.0000\n",
      "Epoch 31/75\n",
      "22/22 [==============================] - 0s 4ms/step - loss: 4.5564e-04 - accuracy: 1.0000 - recall_1: 1.0000 - precision_1: 1.0000 - val_loss: 0.0013 - val_accuracy: 1.0000 - val_recall_1: 1.0000 - val_precision_1: 1.0000\n",
      "Epoch 32/75\n",
      "22/22 [==============================] - 0s 4ms/step - loss: 4.2216e-04 - accuracy: 1.0000 - recall_1: 1.0000 - precision_1: 1.0000 - val_loss: 0.0013 - val_accuracy: 1.0000 - val_recall_1: 1.0000 - val_precision_1: 1.0000\n",
      "Epoch 33/75\n",
      "22/22 [==============================] - 0s 5ms/step - loss: 3.9249e-04 - accuracy: 1.0000 - recall_1: 1.0000 - precision_1: 1.0000 - val_loss: 0.0013 - val_accuracy: 1.0000 - val_recall_1: 1.0000 - val_precision_1: 1.0000\n",
      "Epoch 34/75\n",
      "22/22 [==============================] - 0s 4ms/step - loss: 3.6645e-04 - accuracy: 1.0000 - recall_1: 1.0000 - precision_1: 1.0000 - val_loss: 0.0012 - val_accuracy: 1.0000 - val_recall_1: 1.0000 - val_precision_1: 1.0000\n",
      "Epoch 35/75\n",
      "22/22 [==============================] - 0s 4ms/step - loss: 3.4110e-04 - accuracy: 1.0000 - recall_1: 1.0000 - precision_1: 1.0000 - val_loss: 0.0012 - val_accuracy: 1.0000 - val_recall_1: 1.0000 - val_precision_1: 1.0000\n",
      "Epoch 36/75\n",
      "22/22 [==============================] - 0s 4ms/step - loss: 3.1990e-04 - accuracy: 1.0000 - recall_1: 1.0000 - precision_1: 1.0000 - val_loss: 0.0011 - val_accuracy: 1.0000 - val_recall_1: 1.0000 - val_precision_1: 1.0000\n",
      "Epoch 37/75\n",
      "22/22 [==============================] - 0s 4ms/step - loss: 2.9974e-04 - accuracy: 1.0000 - recall_1: 1.0000 - precision_1: 1.0000 - val_loss: 0.0011 - val_accuracy: 1.0000 - val_recall_1: 1.0000 - val_precision_1: 1.0000\n",
      "Epoch 38/75\n",
      "22/22 [==============================] - 0s 4ms/step - loss: 2.8098e-04 - accuracy: 1.0000 - recall_1: 1.0000 - precision_1: 1.0000 - val_loss: 0.0010 - val_accuracy: 1.0000 - val_recall_1: 1.0000 - val_precision_1: 1.0000\n",
      "Epoch 39/75\n",
      "22/22 [==============================] - 0s 5ms/step - loss: 2.6439e-04 - accuracy: 1.0000 - recall_1: 1.0000 - precision_1: 1.0000 - val_loss: 0.0010 - val_accuracy: 1.0000 - val_recall_1: 1.0000 - val_precision_1: 1.0000\n",
      "Epoch 40/75\n",
      "22/22 [==============================] - 0s 4ms/step - loss: 2.4961e-04 - accuracy: 1.0000 - recall_1: 1.0000 - precision_1: 1.0000 - val_loss: 9.8200e-04 - val_accuracy: 1.0000 - val_recall_1: 1.0000 - val_precision_1: 1.0000\n",
      "Epoch 41/75\n",
      "22/22 [==============================] - 0s 4ms/step - loss: 2.3451e-04 - accuracy: 1.0000 - recall_1: 1.0000 - precision_1: 1.0000 - val_loss: 9.5511e-04 - val_accuracy: 1.0000 - val_recall_1: 1.0000 - val_precision_1: 1.0000\n",
      "Epoch 42/75\n",
      "22/22 [==============================] - 0s 5ms/step - loss: 2.2145e-04 - accuracy: 1.0000 - recall_1: 1.0000 - precision_1: 1.0000 - val_loss: 9.3072e-04 - val_accuracy: 1.0000 - val_recall_1: 1.0000 - val_precision_1: 1.0000\n",
      "Epoch 43/75\n",
      "22/22 [==============================] - 0s 4ms/step - loss: 2.1005e-04 - accuracy: 1.0000 - recall_1: 1.0000 - precision_1: 1.0000 - val_loss: 9.0117e-04 - val_accuracy: 1.0000 - val_recall_1: 1.0000 - val_precision_1: 1.0000\n",
      "Epoch 44/75\n",
      "22/22 [==============================] - 0s 4ms/step - loss: 1.9840e-04 - accuracy: 1.0000 - recall_1: 1.0000 - precision_1: 1.0000 - val_loss: 8.7816e-04 - val_accuracy: 1.0000 - val_recall_1: 1.0000 - val_precision_1: 1.0000\n",
      "Epoch 45/75\n",
      "22/22 [==============================] - 0s 4ms/step - loss: 1.8825e-04 - accuracy: 1.0000 - recall_1: 1.0000 - precision_1: 1.0000 - val_loss: 8.5578e-04 - val_accuracy: 1.0000 - val_recall_1: 1.0000 - val_precision_1: 1.0000\n",
      "Epoch 46/75\n",
      "22/22 [==============================] - 0s 4ms/step - loss: 1.7854e-04 - accuracy: 1.0000 - recall_1: 1.0000 - precision_1: 1.0000 - val_loss: 8.3581e-04 - val_accuracy: 1.0000 - val_recall_1: 1.0000 - val_precision_1: 1.0000\n",
      "Epoch 47/75\n",
      "22/22 [==============================] - 0s 4ms/step - loss: 1.6967e-04 - accuracy: 1.0000 - recall_1: 1.0000 - precision_1: 1.0000 - val_loss: 8.1799e-04 - val_accuracy: 1.0000 - val_recall_1: 1.0000 - val_precision_1: 1.0000\n",
      "Epoch 48/75\n",
      "22/22 [==============================] - 0s 4ms/step - loss: 1.6184e-04 - accuracy: 1.0000 - recall_1: 1.0000 - precision_1: 1.0000 - val_loss: 7.9658e-04 - val_accuracy: 1.0000 - val_recall_1: 1.0000 - val_precision_1: 1.0000\n",
      "Epoch 49/75\n",
      "22/22 [==============================] - 0s 4ms/step - loss: 1.5454e-04 - accuracy: 1.0000 - recall_1: 1.0000 - precision_1: 1.0000 - val_loss: 7.7611e-04 - val_accuracy: 1.0000 - val_recall_1: 1.0000 - val_precision_1: 1.0000\n",
      "Epoch 50/75\n",
      "22/22 [==============================] - 0s 5ms/step - loss: 1.4656e-04 - accuracy: 1.0000 - recall_1: 1.0000 - precision_1: 1.0000 - val_loss: 7.6044e-04 - val_accuracy: 1.0000 - val_recall_1: 1.0000 - val_precision_1: 1.0000\n",
      "Epoch 51/75\n",
      "22/22 [==============================] - 0s 4ms/step - loss: 1.3992e-04 - accuracy: 1.0000 - recall_1: 1.0000 - precision_1: 1.0000 - val_loss: 7.4433e-04 - val_accuracy: 1.0000 - val_recall_1: 1.0000 - val_precision_1: 1.0000\n",
      "Epoch 52/75\n",
      "22/22 [==============================] - 0s 5ms/step - loss: 1.3364e-04 - accuracy: 1.0000 - recall_1: 1.0000 - precision_1: 1.0000 - val_loss: 7.2807e-04 - val_accuracy: 1.0000 - val_recall_1: 1.0000 - val_precision_1: 1.0000\n",
      "Epoch 53/75\n",
      "22/22 [==============================] - 0s 4ms/step - loss: 1.2792e-04 - accuracy: 1.0000 - recall_1: 1.0000 - precision_1: 1.0000 - val_loss: 7.1200e-04 - val_accuracy: 1.0000 - val_recall_1: 1.0000 - val_precision_1: 1.0000\n",
      "Epoch 54/75\n",
      "22/22 [==============================] - 0s 4ms/step - loss: 1.2224e-04 - accuracy: 1.0000 - recall_1: 1.0000 - precision_1: 1.0000 - val_loss: 7.0062e-04 - val_accuracy: 1.0000 - val_recall_1: 1.0000 - val_precision_1: 1.0000\n",
      "Epoch 55/75\n",
      "22/22 [==============================] - 0s 4ms/step - loss: 1.1734e-04 - accuracy: 1.0000 - recall_1: 1.0000 - precision_1: 1.0000 - val_loss: 6.8426e-04 - val_accuracy: 1.0000 - val_recall_1: 1.0000 - val_precision_1: 1.0000\n",
      "Epoch 56/75\n",
      "22/22 [==============================] - 0s 4ms/step - loss: 1.1224e-04 - accuracy: 1.0000 - recall_1: 1.0000 - precision_1: 1.0000 - val_loss: 6.7184e-04 - val_accuracy: 1.0000 - val_recall_1: 1.0000 - val_precision_1: 1.0000\n",
      "Epoch 57/75\n",
      "22/22 [==============================] - 0s 7ms/step - loss: 1.0748e-04 - accuracy: 1.0000 - recall_1: 1.0000 - precision_1: 1.0000 - val_loss: 6.6038e-04 - val_accuracy: 1.0000 - val_recall_1: 1.0000 - val_precision_1: 1.0000\n",
      "Epoch 58/75\n",
      "22/22 [==============================] - 0s 8ms/step - loss: 1.0346e-04 - accuracy: 1.0000 - recall_1: 1.0000 - precision_1: 1.0000 - val_loss: 6.4688e-04 - val_accuracy: 1.0000 - val_recall_1: 1.0000 - val_precision_1: 1.0000\n",
      "Epoch 59/75\n",
      "22/22 [==============================] - 0s 6ms/step - loss: 9.9171e-05 - accuracy: 1.0000 - recall_1: 1.0000 - precision_1: 1.0000 - val_loss: 6.3482e-04 - val_accuracy: 1.0000 - val_recall_1: 1.0000 - val_precision_1: 1.0000\n",
      "Epoch 60/75\n",
      "22/22 [==============================] - 0s 6ms/step - loss: 9.5408e-05 - accuracy: 1.0000 - recall_1: 1.0000 - precision_1: 1.0000 - val_loss: 6.2628e-04 - val_accuracy: 1.0000 - val_recall_1: 1.0000 - val_precision_1: 1.0000\n",
      "Epoch 61/75\n",
      "22/22 [==============================] - 0s 6ms/step - loss: 9.1815e-05 - accuracy: 1.0000 - recall_1: 1.0000 - precision_1: 1.0000 - val_loss: 6.1382e-04 - val_accuracy: 1.0000 - val_recall_1: 1.0000 - val_precision_1: 1.0000\n",
      "Epoch 62/75\n",
      "22/22 [==============================] - 0s 6ms/step - loss: 8.8219e-05 - accuracy: 1.0000 - recall_1: 1.0000 - precision_1: 1.0000 - val_loss: 6.0426e-04 - val_accuracy: 1.0000 - val_recall_1: 1.0000 - val_precision_1: 1.0000\n",
      "Epoch 63/75\n",
      "22/22 [==============================] - 0s 6ms/step - loss: 8.5169e-05 - accuracy: 1.0000 - recall_1: 1.0000 - precision_1: 1.0000 - val_loss: 5.9301e-04 - val_accuracy: 1.0000 - val_recall_1: 1.0000 - val_precision_1: 1.0000\n",
      "Epoch 64/75\n",
      "22/22 [==============================] - 0s 6ms/step - loss: 8.1908e-05 - accuracy: 1.0000 - recall_1: 1.0000 - precision_1: 1.0000 - val_loss: 5.8376e-04 - val_accuracy: 1.0000 - val_recall_1: 1.0000 - val_precision_1: 1.0000\n",
      "Epoch 65/75\n",
      "22/22 [==============================] - 0s 9ms/step - loss: 7.8990e-05 - accuracy: 1.0000 - recall_1: 1.0000 - precision_1: 1.0000 - val_loss: 5.7474e-04 - val_accuracy: 1.0000 - val_recall_1: 1.0000 - val_precision_1: 1.0000\n",
      "Epoch 66/75\n",
      "22/22 [==============================] - 0s 9ms/step - loss: 7.6242e-05 - accuracy: 1.0000 - recall_1: 1.0000 - precision_1: 1.0000 - val_loss: 5.6522e-04 - val_accuracy: 1.0000 - val_recall_1: 1.0000 - val_precision_1: 1.0000\n",
      "Epoch 67/75\n",
      "22/22 [==============================] - 0s 7ms/step - loss: 7.3550e-05 - accuracy: 1.0000 - recall_1: 1.0000 - precision_1: 1.0000 - val_loss: 5.5727e-04 - val_accuracy: 1.0000 - val_recall_1: 1.0000 - val_precision_1: 1.0000\n",
      "Epoch 68/75\n",
      "22/22 [==============================] - 0s 7ms/step - loss: 7.1023e-05 - accuracy: 1.0000 - recall_1: 1.0000 - precision_1: 1.0000 - val_loss: 5.5012e-04 - val_accuracy: 1.0000 - val_recall_1: 1.0000 - val_precision_1: 1.0000\n",
      "Epoch 69/75\n",
      "22/22 [==============================] - 0s 6ms/step - loss: 6.8790e-05 - accuracy: 1.0000 - recall_1: 1.0000 - precision_1: 1.0000 - val_loss: 5.4005e-04 - val_accuracy: 1.0000 - val_recall_1: 1.0000 - val_precision_1: 1.0000\n",
      "Epoch 70/75\n",
      "22/22 [==============================] - 0s 6ms/step - loss: 6.6388e-05 - accuracy: 1.0000 - recall_1: 1.0000 - precision_1: 1.0000 - val_loss: 5.3303e-04 - val_accuracy: 1.0000 - val_recall_1: 1.0000 - val_precision_1: 1.0000\n",
      "Epoch 71/75\n",
      "22/22 [==============================] - 0s 7ms/step - loss: 6.4174e-05 - accuracy: 1.0000 - recall_1: 1.0000 - precision_1: 1.0000 - val_loss: 5.2580e-04 - val_accuracy: 1.0000 - val_recall_1: 1.0000 - val_precision_1: 1.0000\n",
      "Epoch 72/75\n",
      "22/22 [==============================] - 0s 7ms/step - loss: 6.2189e-05 - accuracy: 1.0000 - recall_1: 1.0000 - precision_1: 1.0000 - val_loss: 5.1720e-04 - val_accuracy: 1.0000 - val_recall_1: 1.0000 - val_precision_1: 1.0000\n",
      "Epoch 73/75\n",
      "22/22 [==============================] - 0s 7ms/step - loss: 6.0152e-05 - accuracy: 1.0000 - recall_1: 1.0000 - precision_1: 1.0000 - val_loss: 5.1037e-04 - val_accuracy: 1.0000 - val_recall_1: 1.0000 - val_precision_1: 1.0000\n",
      "Epoch 74/75\n",
      "22/22 [==============================] - 0s 6ms/step - loss: 5.8253e-05 - accuracy: 1.0000 - recall_1: 1.0000 - precision_1: 1.0000 - val_loss: 5.0340e-04 - val_accuracy: 1.0000 - val_recall_1: 1.0000 - val_precision_1: 1.0000\n",
      "Epoch 75/75\n",
      "22/22 [==============================] - 0s 6ms/step - loss: 5.6422e-05 - accuracy: 1.0000 - recall_1: 1.0000 - precision_1: 1.0000 - val_loss: 4.9744e-04 - val_accuracy: 1.0000 - val_recall_1: 1.0000 - val_precision_1: 1.0000\n"
     ]
    }
   ],
   "source": [
    "# Train the model\n",
    "csv_logger = tf.keras.callbacks.CSVLogger('/content/drive/MyDrive/neural_network_no_opt.csv')\n",
    "fit_model = nn.fit(X_train_scaled,y_train,epochs=75, callbacks=[callback, csv_logger], validation_split=.25)"
   ]
  },
  {
   "cell_type": "code",
   "execution_count": 30,
   "metadata": {
    "colab": {
     "base_uri": "https://localhost:8080/"
    },
    "executionInfo": {
     "elapsed": 885,
     "status": "ok",
     "timestamp": 1686625062244,
     "user": {
      "displayName": "Derek Price",
      "userId": "16305058385432768632"
     },
     "user_tz": 240
    },
    "id": "2LWxCteEoEGJ",
    "outputId": "969befdd-29b1-42e6-a9ac-8ac4d29e8656"
   },
   "outputs": [
    {
     "name": "stdout",
     "output_type": "stream",
     "text": [
      "437/437 - 1s - loss: 0.0045 - accuracy: 0.9984 - recall_1: 1.0000 - precision_1: 0.8189 - 554ms/epoch - 1ms/step\n"
     ]
    },
    {
     "data": {
      "text/plain": [
       "[0.004549059551209211, 0.9983517527580261, 1.0, 0.8188976645469666]"
      ]
     },
     "execution_count": 30,
     "metadata": {},
     "output_type": "execute_result"
    }
   ],
   "source": [
    "nn.evaluate(X_test_scaled,y_test,verbose=2)"
   ]
  },
  {
   "cell_type": "code",
   "execution_count": 19,
   "metadata": {
    "colab": {
     "base_uri": "https://localhost:8080/",
     "height": 430
    },
    "executionInfo": {
     "elapsed": 1021,
     "status": "ok",
     "timestamp": 1686622749646,
     "user": {
      "displayName": "Derek Price",
      "userId": "16305058385432768632"
     },
     "user_tz": 240
    },
    "id": "70lY4Pk0-EMV",
    "outputId": "5c913ccb-f853-4767-8f65-cf078a0f3fc0"
   },
   "outputs": [
    {
     "data": {
      "image/png": "[encoded data removed]",
      "text/plain": [
       "<Figure size 640x480 with 1 Axes>"
      ]
     },
     "metadata": {},
     "output_type": "display_data"
    }
   ],
   "source": [
    "history_df = pd.DataFrame(fit_model.history)\n",
    "history_df.index += 1\n",
    "history_df.plot(y=\"loss\")\n",
    "plt.show()"
   ]
  },
  {
   "cell_type": "code",
   "execution_count": 20,
   "metadata": {
    "colab": {
     "base_uri": "https://localhost:8080/",
     "height": 430
    },
    "executionInfo": {
     "elapsed": 539,
     "status": "ok",
     "timestamp": 1686622753694,
     "user": {
      "displayName": "Derek Price",
      "userId": "16305058385432768632"
     },
     "user_tz": 240
    },
    "id": "Jz5PvegO-EQf",
    "outputId": "02e49505-9365-4e52-8ca0-96d9e84e5639"
   },
   "outputs": [
    {
     "data": {
      "image/png": "[encoded data removed]",
      "text/plain": [
       "<Figure size 640x480 with 1 Axes>"
      ]
     },
     "metadata": {},
     "output_type": "display_data"
    }
   ],
   "source": [
    "# Plot the accuracy\n",
    "history_df.plot(y=\"accuracy\")\n",
    "plt.show()"
   ]
  }
 ],
 "metadata": {
  "colab": {
   "authorship_tag": "ABX9TyN96aRHs50XG8R9S6LqsbaX",
   "provenance": []
  },
  "kernelspec": {
   "display_name": "Python 3 (ipykernel)",
   "language": "python",
   "name": "python3"
  },
  "language_info": {
   "codemirror_mode": {
    "name": "ipython",
    "version": 3
   },
   "file_extension": ".py",
   "mimetype": "text/x-python",
   "name": "python",
   "nbconvert_exporter": "python",
   "pygments_lexer": "ipython3",
   "version": "3.9.13"
  }
 },
 "nbformat": 4,
 "nbformat_minor": 1
}
