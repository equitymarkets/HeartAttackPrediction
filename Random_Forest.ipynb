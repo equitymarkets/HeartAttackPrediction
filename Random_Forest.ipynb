{
 "cells": [
  {
   "cell_type": "code",
   "execution_count": 1,
   "id": "53b6fe1e",
   "metadata": {},
   "outputs": [],
   "source": [
    "# Initial imports\n",
    "import pandas as pd\n",
    "from pathlib import Path\n",
    "from sklearn.ensemble import RandomForestClassifier\n",
    "from sklearn.preprocessing import StandardScaler\n",
    "from sklearn.model_selection import train_test_split\n",
    "from sklearn.metrics import confusion_matrix, accuracy_score, classification_report\n",
    "%matplotlib inline"
   ]
  },
  {
   "cell_type": "markdown",
   "id": "f2a0fd1b",
   "metadata": {},
   "source": [
    "# 1. Pre-Processing"
   ]
  },
  {
   "cell_type": "markdown",
   "id": "7daf87c9",
   "metadata": {},
   "source": [
    "### 1.1 Load Data"
   ]
  },
  {
   "cell_type": "code",
   "execution_count": 42,
   "id": "362513cc",
   "metadata": {},
   "outputs": [
    {
     "data": {
      "text/html": [
       "<div>\n",
       "<style scoped>\n",
       "    .dataframe tbody tr th:only-of-type {\n",
       "        vertical-align: middle;\n",
       "    }\n",
       "\n",
       "    .dataframe tbody tr th {\n",
       "        vertical-align: top;\n",
       "    }\n",
       "\n",
       "    .dataframe thead th {\n",
       "        text-align: right;\n",
       "    }\n",
       "</style>\n",
       "<table border=\"1\" class=\"dataframe\">\n",
       "  <thead>\n",
       "    <tr style=\"text-align: right;\">\n",
       "      <th></th>\n",
       "      <th>id</th>\n",
       "      <th>ever_overweight</th>\n",
       "      <th>blood_transfusion_yr</th>\n",
       "      <th>heart_attack_age</th>\n",
       "      <th>fatty_liver</th>\n",
       "      <th>liver_fibrosis</th>\n",
       "      <th>liver_cirrhosis</th>\n",
       "      <th>liver_viral_hepatitis</th>\n",
       "      <th>liver_autoimmune_hepatitis</th>\n",
       "      <th>other_liver_disease</th>\n",
       "      <th>...</th>\n",
       "      <th>stroke</th>\n",
       "      <th>thyroid</th>\n",
       "      <th>liver_disease</th>\n",
       "      <th>gallbladder_pr</th>\n",
       "      <th>Total_Cholesterol_mg_dL</th>\n",
       "      <th>Frequency_of_Drinking</th>\n",
       "      <th>Drinks_per_Day</th>\n",
       "      <th>Work</th>\n",
       "      <th>Recreational</th>\n",
       "      <th>100_Cigarettes</th>\n",
       "    </tr>\n",
       "  </thead>\n",
       "  <tbody>\n",
       "    <tr>\n",
       "      <th>0</th>\n",
       "      <td>109266.0</td>\n",
       "      <td>1</td>\n",
       "      <td>NaN</td>\n",
       "      <td>NaN</td>\n",
       "      <td>0</td>\n",
       "      <td>0</td>\n",
       "      <td>0</td>\n",
       "      <td>0</td>\n",
       "      <td>0</td>\n",
       "      <td>0</td>\n",
       "      <td>...</td>\n",
       "      <td>0</td>\n",
       "      <td>0</td>\n",
       "      <td>0</td>\n",
       "      <td>0</td>\n",
       "      <td>195.0</td>\n",
       "      <td>10.0</td>\n",
       "      <td>1.0</td>\n",
       "      <td>0</td>\n",
       "      <td>1</td>\n",
       "      <td>0</td>\n",
       "    </tr>\n",
       "    <tr>\n",
       "      <th>1</th>\n",
       "      <td>109274.0</td>\n",
       "      <td>1</td>\n",
       "      <td>NaN</td>\n",
       "      <td>NaN</td>\n",
       "      <td>0</td>\n",
       "      <td>0</td>\n",
       "      <td>0</td>\n",
       "      <td>0</td>\n",
       "      <td>0</td>\n",
       "      <td>0</td>\n",
       "      <td>...</td>\n",
       "      <td>0</td>\n",
       "      <td>0</td>\n",
       "      <td>0</td>\n",
       "      <td>0</td>\n",
       "      <td>105.0</td>\n",
       "      <td>4.0</td>\n",
       "      <td>2.0</td>\n",
       "      <td>1</td>\n",
       "      <td>0</td>\n",
       "      <td>0</td>\n",
       "    </tr>\n",
       "    <tr>\n",
       "      <th>2</th>\n",
       "      <td>109292.0</td>\n",
       "      <td>0</td>\n",
       "      <td>NaN</td>\n",
       "      <td>NaN</td>\n",
       "      <td>0</td>\n",
       "      <td>0</td>\n",
       "      <td>0</td>\n",
       "      <td>0</td>\n",
       "      <td>0</td>\n",
       "      <td>0</td>\n",
       "      <td>...</td>\n",
       "      <td>0</td>\n",
       "      <td>0</td>\n",
       "      <td>0</td>\n",
       "      <td>0</td>\n",
       "      <td>172.0</td>\n",
       "      <td>4.0</td>\n",
       "      <td>6.0</td>\n",
       "      <td>0</td>\n",
       "      <td>0</td>\n",
       "      <td>0</td>\n",
       "    </tr>\n",
       "    <tr>\n",
       "      <th>3</th>\n",
       "      <td>109297.0</td>\n",
       "      <td>0</td>\n",
       "      <td>NaN</td>\n",
       "      <td>NaN</td>\n",
       "      <td>0</td>\n",
       "      <td>0</td>\n",
       "      <td>0</td>\n",
       "      <td>0</td>\n",
       "      <td>0</td>\n",
       "      <td>0</td>\n",
       "      <td>...</td>\n",
       "      <td>0</td>\n",
       "      <td>0</td>\n",
       "      <td>0</td>\n",
       "      <td>0</td>\n",
       "      <td>214.0</td>\n",
       "      <td>6.0</td>\n",
       "      <td>2.0</td>\n",
       "      <td>1</td>\n",
       "      <td>0</td>\n",
       "      <td>0</td>\n",
       "    </tr>\n",
       "    <tr>\n",
       "      <th>4</th>\n",
       "      <td>109307.0</td>\n",
       "      <td>0</td>\n",
       "      <td>NaN</td>\n",
       "      <td>NaN</td>\n",
       "      <td>0</td>\n",
       "      <td>0</td>\n",
       "      <td>0</td>\n",
       "      <td>0</td>\n",
       "      <td>0</td>\n",
       "      <td>0</td>\n",
       "      <td>...</td>\n",
       "      <td>0</td>\n",
       "      <td>0</td>\n",
       "      <td>0</td>\n",
       "      <td>0</td>\n",
       "      <td>161.0</td>\n",
       "      <td>9.0</td>\n",
       "      <td>1.0</td>\n",
       "      <td>0</td>\n",
       "      <td>0</td>\n",
       "      <td>1</td>\n",
       "    </tr>\n",
       "  </tbody>\n",
       "</table>\n",
       "<p>5 rows × 28 columns</p>\n",
       "</div>"
      ],
      "text/plain": [
       "         id  ever_overweight  blood_transfusion_yr  heart_attack_age   \n",
       "0  109266.0                1                   NaN               NaN  \\\n",
       "1  109274.0                1                   NaN               NaN   \n",
       "2  109292.0                0                   NaN               NaN   \n",
       "3  109297.0                0                   NaN               NaN   \n",
       "4  109307.0                0                   NaN               NaN   \n",
       "\n",
       "   fatty_liver  liver_fibrosis  liver_cirrhosis  liver_viral_hepatitis   \n",
       "0            0               0                0                      0  \\\n",
       "1            0               0                0                      0   \n",
       "2            0               0                0                      0   \n",
       "3            0               0                0                      0   \n",
       "4            0               0                0                      0   \n",
       "\n",
       "   liver_autoimmune_hepatitis  other_liver_disease  ...  stroke  thyroid   \n",
       "0                           0                    0  ...       0        0  \\\n",
       "1                           0                    0  ...       0        0   \n",
       "2                           0                    0  ...       0        0   \n",
       "3                           0                    0  ...       0        0   \n",
       "4                           0                    0  ...       0        0   \n",
       "\n",
       "   liver_disease  gallbladder_pr  Total_Cholesterol_mg_dL   \n",
       "0              0               0                    195.0  \\\n",
       "1              0               0                    105.0   \n",
       "2              0               0                    172.0   \n",
       "3              0               0                    214.0   \n",
       "4              0               0                    161.0   \n",
       "\n",
       "   Frequency_of_Drinking  Drinks_per_Day  Work  Recreational  100_Cigarettes  \n",
       "0                   10.0             1.0     0             1               0  \n",
       "1                    4.0             2.0     1             0               0  \n",
       "2                    4.0             6.0     0             0               0  \n",
       "3                    6.0             2.0     1             0               0  \n",
       "4                    9.0             1.0     0             0               1  \n",
       "\n",
       "[5 rows x 28 columns]"
      ]
     },
     "execution_count": 42,
     "metadata": {},
     "output_type": "execute_result"
    }
   ],
   "source": [
    "df = pd.read_csv('Resources/heart_attack_final_table.csv')\n",
    "df.head()"
   ]
  },
  {
   "cell_type": "code",
   "execution_count": 43,
   "id": "71b14ac2",
   "metadata": {},
   "outputs": [
    {
     "name": "stdout",
     "output_type": "stream",
     "text": [
      "<class 'pandas.core.frame.DataFrame'>\n",
      "RangeIndex: 5502 entries, 0 to 5501\n",
      "Data columns (total 28 columns):\n",
      " #   Column                      Non-Null Count  Dtype  \n",
      "---  ------                      --------------  -----  \n",
      " 0   id                          5502 non-null   float64\n",
      " 1   ever_overweight             5502 non-null   int64  \n",
      " 2   blood_transfusion_yr        527 non-null    float64\n",
      " 3   heart_attack_age            199 non-null    float64\n",
      " 4   fatty_liver                 5502 non-null   int64  \n",
      " 5   liver_fibrosis              5502 non-null   int64  \n",
      " 6   liver_cirrhosis             5502 non-null   int64  \n",
      " 7   liver_viral_hepatitis       5502 non-null   int64  \n",
      " 8   liver_autoimmune_hepatitis  5502 non-null   int64  \n",
      " 9   other_liver_disease         5502 non-null   int64  \n",
      " 10  relative_asthma             5502 non-null   int64  \n",
      " 11  relative_diabetes           5502 non-null   int64  \n",
      " 12  relative_heart_attack       5502 non-null   int64  \n",
      " 13  heart_attack                5502 non-null   int64  \n",
      " 14  asthma                      5502 non-null   int64  \n",
      " 15  heart_failure               5502 non-null   int64  \n",
      " 16  chronic_heart_disease       5502 non-null   int64  \n",
      " 17  angina_pectoris             5502 non-null   int64  \n",
      " 18  stroke                      5502 non-null   int64  \n",
      " 19  thyroid                     5502 non-null   int64  \n",
      " 20  liver_disease               5502 non-null   int64  \n",
      " 21  gallbladder_pr              5502 non-null   int64  \n",
      " 22  Total_Cholesterol_mg_dL     5502 non-null   float64\n",
      " 23  Frequency_of_Drinking       5502 non-null   float64\n",
      " 24  Drinks_per_Day              5502 non-null   float64\n",
      " 25  Work                        5502 non-null   int64  \n",
      " 26  Recreational                5502 non-null   int64  \n",
      " 27  100_Cigarettes              5502 non-null   int64  \n",
      "dtypes: float64(6), int64(22)\n",
      "memory usage: 1.2 MB\n"
     ]
    }
   ],
   "source": [
    "df.info()"
   ]
  },
  {
   "cell_type": "code",
   "execution_count": 44,
   "id": "084643d5",
   "metadata": {},
   "outputs": [],
   "source": [
    "#remove columns that have null values and id since it is not useful for this\n",
    "df = df.drop(['blood_transfusion_yr', 'heart_attack_age', 'id'], axis=1)"
   ]
  },
  {
   "cell_type": "markdown",
   "id": "dfdd605d",
   "metadata": {},
   "source": [
    "### 1.2 Define Features Set and Target Vector"
   ]
  },
  {
   "cell_type": "code",
   "execution_count": 45,
   "id": "9601f05f",
   "metadata": {},
   "outputs": [
    {
     "data": {
      "text/html": [
       "<div>\n",
       "<style scoped>\n",
       "    .dataframe tbody tr th:only-of-type {\n",
       "        vertical-align: middle;\n",
       "    }\n",
       "\n",
       "    .dataframe tbody tr th {\n",
       "        vertical-align: top;\n",
       "    }\n",
       "\n",
       "    .dataframe thead th {\n",
       "        text-align: right;\n",
       "    }\n",
       "</style>\n",
       "<table border=\"1\" class=\"dataframe\">\n",
       "  <thead>\n",
       "    <tr style=\"text-align: right;\">\n",
       "      <th></th>\n",
       "      <th>ever_overweight</th>\n",
       "      <th>fatty_liver</th>\n",
       "      <th>liver_fibrosis</th>\n",
       "      <th>liver_cirrhosis</th>\n",
       "      <th>liver_viral_hepatitis</th>\n",
       "      <th>liver_autoimmune_hepatitis</th>\n",
       "      <th>other_liver_disease</th>\n",
       "      <th>relative_asthma</th>\n",
       "      <th>relative_diabetes</th>\n",
       "      <th>relative_heart_attack</th>\n",
       "      <th>...</th>\n",
       "      <th>stroke</th>\n",
       "      <th>thyroid</th>\n",
       "      <th>liver_disease</th>\n",
       "      <th>gallbladder_pr</th>\n",
       "      <th>Total_Cholesterol_mg_dL</th>\n",
       "      <th>Frequency_of_Drinking</th>\n",
       "      <th>Drinks_per_Day</th>\n",
       "      <th>Work</th>\n",
       "      <th>Recreational</th>\n",
       "      <th>100_Cigarettes</th>\n",
       "    </tr>\n",
       "  </thead>\n",
       "  <tbody>\n",
       "    <tr>\n",
       "      <th>0</th>\n",
       "      <td>1</td>\n",
       "      <td>0</td>\n",
       "      <td>0</td>\n",
       "      <td>0</td>\n",
       "      <td>0</td>\n",
       "      <td>0</td>\n",
       "      <td>0</td>\n",
       "      <td>0</td>\n",
       "      <td>1</td>\n",
       "      <td>0</td>\n",
       "      <td>...</td>\n",
       "      <td>0</td>\n",
       "      <td>0</td>\n",
       "      <td>0</td>\n",
       "      <td>0</td>\n",
       "      <td>195.0</td>\n",
       "      <td>10.0</td>\n",
       "      <td>1.0</td>\n",
       "      <td>0</td>\n",
       "      <td>1</td>\n",
       "      <td>0</td>\n",
       "    </tr>\n",
       "    <tr>\n",
       "      <th>1</th>\n",
       "      <td>1</td>\n",
       "      <td>0</td>\n",
       "      <td>0</td>\n",
       "      <td>0</td>\n",
       "      <td>0</td>\n",
       "      <td>0</td>\n",
       "      <td>0</td>\n",
       "      <td>0</td>\n",
       "      <td>1</td>\n",
       "      <td>0</td>\n",
       "      <td>...</td>\n",
       "      <td>0</td>\n",
       "      <td>0</td>\n",
       "      <td>0</td>\n",
       "      <td>0</td>\n",
       "      <td>105.0</td>\n",
       "      <td>4.0</td>\n",
       "      <td>2.0</td>\n",
       "      <td>1</td>\n",
       "      <td>0</td>\n",
       "      <td>0</td>\n",
       "    </tr>\n",
       "    <tr>\n",
       "      <th>2</th>\n",
       "      <td>0</td>\n",
       "      <td>0</td>\n",
       "      <td>0</td>\n",
       "      <td>0</td>\n",
       "      <td>0</td>\n",
       "      <td>0</td>\n",
       "      <td>0</td>\n",
       "      <td>0</td>\n",
       "      <td>1</td>\n",
       "      <td>0</td>\n",
       "      <td>...</td>\n",
       "      <td>0</td>\n",
       "      <td>0</td>\n",
       "      <td>0</td>\n",
       "      <td>0</td>\n",
       "      <td>172.0</td>\n",
       "      <td>4.0</td>\n",
       "      <td>6.0</td>\n",
       "      <td>0</td>\n",
       "      <td>0</td>\n",
       "      <td>0</td>\n",
       "    </tr>\n",
       "    <tr>\n",
       "      <th>3</th>\n",
       "      <td>0</td>\n",
       "      <td>0</td>\n",
       "      <td>0</td>\n",
       "      <td>0</td>\n",
       "      <td>0</td>\n",
       "      <td>0</td>\n",
       "      <td>0</td>\n",
       "      <td>0</td>\n",
       "      <td>1</td>\n",
       "      <td>0</td>\n",
       "      <td>...</td>\n",
       "      <td>0</td>\n",
       "      <td>0</td>\n",
       "      <td>0</td>\n",
       "      <td>0</td>\n",
       "      <td>214.0</td>\n",
       "      <td>6.0</td>\n",
       "      <td>2.0</td>\n",
       "      <td>1</td>\n",
       "      <td>0</td>\n",
       "      <td>0</td>\n",
       "    </tr>\n",
       "    <tr>\n",
       "      <th>4</th>\n",
       "      <td>0</td>\n",
       "      <td>0</td>\n",
       "      <td>0</td>\n",
       "      <td>0</td>\n",
       "      <td>0</td>\n",
       "      <td>0</td>\n",
       "      <td>0</td>\n",
       "      <td>0</td>\n",
       "      <td>0</td>\n",
       "      <td>0</td>\n",
       "      <td>...</td>\n",
       "      <td>0</td>\n",
       "      <td>0</td>\n",
       "      <td>0</td>\n",
       "      <td>0</td>\n",
       "      <td>161.0</td>\n",
       "      <td>9.0</td>\n",
       "      <td>1.0</td>\n",
       "      <td>0</td>\n",
       "      <td>0</td>\n",
       "      <td>1</td>\n",
       "    </tr>\n",
       "  </tbody>\n",
       "</table>\n",
       "<p>5 rows × 24 columns</p>\n",
       "</div>"
      ],
      "text/plain": [
       "   ever_overweight  fatty_liver  liver_fibrosis  liver_cirrhosis   \n",
       "0                1            0               0                0  \\\n",
       "1                1            0               0                0   \n",
       "2                0            0               0                0   \n",
       "3                0            0               0                0   \n",
       "4                0            0               0                0   \n",
       "\n",
       "   liver_viral_hepatitis  liver_autoimmune_hepatitis  other_liver_disease   \n",
       "0                      0                           0                    0  \\\n",
       "1                      0                           0                    0   \n",
       "2                      0                           0                    0   \n",
       "3                      0                           0                    0   \n",
       "4                      0                           0                    0   \n",
       "\n",
       "   relative_asthma  relative_diabetes  relative_heart_attack  ...  stroke   \n",
       "0                0                  1                      0  ...       0  \\\n",
       "1                0                  1                      0  ...       0   \n",
       "2                0                  1                      0  ...       0   \n",
       "3                0                  1                      0  ...       0   \n",
       "4                0                  0                      0  ...       0   \n",
       "\n",
       "   thyroid  liver_disease  gallbladder_pr  Total_Cholesterol_mg_dL   \n",
       "0        0              0               0                    195.0  \\\n",
       "1        0              0               0                    105.0   \n",
       "2        0              0               0                    172.0   \n",
       "3        0              0               0                    214.0   \n",
       "4        0              0               0                    161.0   \n",
       "\n",
       "   Frequency_of_Drinking  Drinks_per_Day  Work  Recreational  100_Cigarettes  \n",
       "0                   10.0             1.0     0             1               0  \n",
       "1                    4.0             2.0     1             0               0  \n",
       "2                    4.0             6.0     0             0               0  \n",
       "3                    6.0             2.0     1             0               0  \n",
       "4                    9.0             1.0     0             0               1  \n",
       "\n",
       "[5 rows x 24 columns]"
      ]
     },
     "execution_count": 45,
     "metadata": {},
     "output_type": "execute_result"
    }
   ],
   "source": [
    "X = df.copy()\n",
    "X.drop(\"heart_attack\", axis=1, inplace=True)\n",
    "X.head()"
   ]
  },
  {
   "cell_type": "code",
   "execution_count": 46,
   "id": "d85dbd97",
   "metadata": {},
   "outputs": [
    {
     "data": {
      "text/plain": [
       "array([0, 0, 0, 0, 0])"
      ]
     },
     "execution_count": 46,
     "metadata": {},
     "output_type": "execute_result"
    }
   ],
   "source": [
    "y = df[\"heart_attack\"].ravel()\n",
    "y[:5]"
   ]
  },
  {
   "cell_type": "markdown",
   "id": "42015d83",
   "metadata": {},
   "source": [
    "### 1.3 Split into Training and Testing Data Sets"
   ]
  },
  {
   "cell_type": "code",
   "execution_count": 47,
   "id": "058c6723",
   "metadata": {},
   "outputs": [],
   "source": [
    "X_train, X_test, y_train, y_test = train_test_split(X, y, random_state=42)"
   ]
  },
  {
   "cell_type": "markdown",
   "id": "6bc29f05",
   "metadata": {},
   "source": [
    "### 1.4 Scale Data"
   ]
  },
  {
   "cell_type": "code",
   "execution_count": 48,
   "id": "7bf99933",
   "metadata": {},
   "outputs": [],
   "source": [
    "scaler = StandardScaler()"
   ]
  },
  {
   "cell_type": "code",
   "execution_count": 49,
   "id": "7b113896",
   "metadata": {},
   "outputs": [],
   "source": [
    "X_scaler = scaler.fit(X_train)"
   ]
  },
  {
   "cell_type": "code",
   "execution_count": 50,
   "id": "aa1d9cda",
   "metadata": {},
   "outputs": [],
   "source": [
    "X_train_scaled = X_scaler.transform(X_train)\n",
    "X_test_scaled = X_scaler.transform(X_test)"
   ]
  },
  {
   "cell_type": "markdown",
   "id": "902c3892",
   "metadata": {},
   "source": [
    "# 2. Create Random Forest"
   ]
  },
  {
   "cell_type": "markdown",
   "id": "0cade66e",
   "metadata": {},
   "source": [
    "### 2.1 Fit the Model"
   ]
  },
  {
   "cell_type": "code",
   "execution_count": 51,
   "id": "b3077c87",
   "metadata": {},
   "outputs": [],
   "source": [
    "rf_model = RandomForestClassifier(n_estimators=500, random_state=78)"
   ]
  },
  {
   "cell_type": "code",
   "execution_count": 52,
   "id": "b6a46846",
   "metadata": {},
   "outputs": [],
   "source": [
    "rf_model = rf_model.fit(X_train_scaled, y_train)"
   ]
  },
  {
   "cell_type": "markdown",
   "id": "1e4b25eb",
   "metadata": {},
   "source": [
    "### 2.2 Make Predictions"
   ]
  },
  {
   "cell_type": "code",
   "execution_count": 53,
   "id": "723afe60",
   "metadata": {},
   "outputs": [],
   "source": [
    "predictions = rf_model.predict(X_test_scaled)"
   ]
  },
  {
   "cell_type": "markdown",
   "id": "ec027e46",
   "metadata": {},
   "source": [
    "### 2.3 Evaluate the Model"
   ]
  },
  {
   "cell_type": "code",
   "execution_count": 54,
   "id": "cfb6eaf9",
   "metadata": {},
   "outputs": [],
   "source": [
    "# Calculating the confusion matrix\n",
    "cm = confusion_matrix(y_test, predictions)\n",
    "cm_df = pd.DataFrame(\n",
    "    cm, index=[\"Actual 0\", \"Actual 1\"], columns=[\"Predicted 0\", \"Predicted 1\"]\n",
    ")\n",
    "\n",
    "# Calculating the accuracy score\n",
    "acc_score = accuracy_score(y_test, predictions)"
   ]
  },
  {
   "cell_type": "code",
   "execution_count": 55,
   "id": "ea8c5b83",
   "metadata": {},
   "outputs": [
    {
     "name": "stdout",
     "output_type": "stream",
     "text": [
      "Confusion Matrix\n"
     ]
    },
    {
     "data": {
      "text/html": [
       "<div>\n",
       "<style scoped>\n",
       "    .dataframe tbody tr th:only-of-type {\n",
       "        vertical-align: middle;\n",
       "    }\n",
       "\n",
       "    .dataframe tbody tr th {\n",
       "        vertical-align: top;\n",
       "    }\n",
       "\n",
       "    .dataframe thead th {\n",
       "        text-align: right;\n",
       "    }\n",
       "</style>\n",
       "<table border=\"1\" class=\"dataframe\">\n",
       "  <thead>\n",
       "    <tr style=\"text-align: right;\">\n",
       "      <th></th>\n",
       "      <th>Predicted 0</th>\n",
       "      <th>Predicted 1</th>\n",
       "    </tr>\n",
       "  </thead>\n",
       "  <tbody>\n",
       "    <tr>\n",
       "      <th>Actual 0</th>\n",
       "      <td>1335</td>\n",
       "      <td>0</td>\n",
       "    </tr>\n",
       "    <tr>\n",
       "      <th>Actual 1</th>\n",
       "      <td>8</td>\n",
       "      <td>33</td>\n",
       "    </tr>\n",
       "  </tbody>\n",
       "</table>\n",
       "</div>"
      ],
      "text/plain": [
       "          Predicted 0  Predicted 1\n",
       "Actual 0         1335            0\n",
       "Actual 1            8           33"
      ]
     },
     "metadata": {},
     "output_type": "display_data"
    },
    {
     "name": "stdout",
     "output_type": "stream",
     "text": [
      "Accuracy Score : 0.9941860465116279\n",
      "Classification Report\n",
      "              precision    recall  f1-score   support\n",
      "\n",
      "           0       0.99      1.00      1.00      1335\n",
      "           1       1.00      0.80      0.89        41\n",
      "\n",
      "    accuracy                           0.99      1376\n",
      "   macro avg       1.00      0.90      0.94      1376\n",
      "weighted avg       0.99      0.99      0.99      1376\n",
      "\n"
     ]
    }
   ],
   "source": [
    "print(\"Confusion Matrix\")\n",
    "display(cm_df)\n",
    "print(f\"Accuracy Score : {acc_score}\")\n",
    "print(\"Classification Report\")\n",
    "print(classification_report(y_test, predictions))"
   ]
  },
  {
   "cell_type": "markdown",
   "id": "7bc6c260",
   "metadata": {},
   "source": [
    "# 3. Feature Importances"
   ]
  },
  {
   "cell_type": "code",
   "execution_count": 56,
   "id": "7cf46152",
   "metadata": {},
   "outputs": [
    {
     "data": {
      "text/plain": [
       "[(0.2585526341913756, 'chronic_heart_disease'),\n",
       " (0.1253820193266512, 'heart_failure'),\n",
       " (0.12245860237769822, 'Total_Cholesterol_mg_dL'),\n",
       " (0.10506320764363768, 'angina_pectoris'),\n",
       " (0.09066739350864049, 'stroke'),\n",
       " (0.06652064898056814, 'asthma'),\n",
       " (0.0463700640565621, 'Frequency_of_Drinking'),\n",
       " (0.041957006153790714, 'gallbladder_pr'),\n",
       " (0.03943048677694573, 'Drinks_per_Day'),\n",
       " (0.022648803306446086, 'thyroid'),\n",
       " (0.020765667336722252, 'liver_disease'),\n",
       " (0.010136124160852576, 'ever_overweight'),\n",
       " (0.009185366280423182, 'relative_diabetes'),\n",
       " (0.009093324743151618, 'relative_asthma'),\n",
       " (0.00885501222828634, 'Work'),\n",
       " (0.008534190563943602, '100_Cigarettes'),\n",
       " (0.0080330624549707, 'relative_heart_attack'),\n",
       " (0.005577570645185483, 'Recreational'),\n",
       " (0.0007688152641482244, 'fatty_liver'),\n",
       " (0.0, 'other_liver_disease'),\n",
       " (0.0, 'liver_viral_hepatitis'),\n",
       " (0.0, 'liver_fibrosis'),\n",
       " (0.0, 'liver_cirrhosis'),\n",
       " (0.0, 'liver_autoimmune_hepatitis')]"
      ]
     },
     "execution_count": 56,
     "metadata": {},
     "output_type": "execute_result"
    }
   ],
   "source": [
    "importances = rf_model.feature_importances_\n",
    "sorted(zip(rf_model.feature_importances_, X.columns), reverse=True)"
   ]
  },
  {
   "cell_type": "code",
   "execution_count": 62,
   "id": "7ae0a4bd",
   "metadata": {},
   "outputs": [
    {
     "data": {
      "text/plain": [
       "<AxesSubplot:title={'center':'Features Importances'}, xlabel='Importance', ylabel='Feature'>"
      ]
     },
     "execution_count": 62,
     "metadata": {},
     "output_type": "execute_result"
    },
    {
     "data": {
      "image/png": "[encoded data removed]",
      "text/plain": [
       "<Figure size 640x480 with 1 Axes>"
      ]
     },
     "metadata": {},
     "output_type": "display_data"
    }
   ],
   "source": [
    "importances_df = pd.DataFrame(sorted(zip(rf_model.feature_importances_, X.columns), reverse=True))\n",
    "importances_df.set_index(importances_df[1], inplace=True)\n",
    "importances_df.drop(columns=1, inplace=True)\n",
    "importances_df.rename(columns={0: 'Feature Importances'}, inplace=True)\n",
    "importances_sorted = importances_df.sort_values(by='Feature Importances')\n",
    "importances_sorted.plot(kind='barh', color='blue', title= 'Features Importances', ylabel='Feature',\n",
    "                        xlabel='Importance', legend=False)"
   ]
  }
 ],
 "metadata": {
  "kernelspec": {
   "display_name": "Python 3 (ipykernel)",
   "language": "python",
   "name": "python3"
  },
  "language_info": {
   "codemirror_mode": {
    "name": "ipython",
    "version": 3
   },
   "file_extension": ".py",
   "mimetype": "text/x-python",
   "name": "python",
   "nbconvert_exporter": "python",
   "pygments_lexer": "ipython3",
   "version": "3.9.13"
  }
 },
 "nbformat": 4,
 "nbformat_minor": 5
}
