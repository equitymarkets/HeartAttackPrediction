{
 "cells": [
  {
   "cell_type": "markdown",
   "id": "f00659de",
   "metadata": {},
   "source": [
    "# 1. Load Data"
   ]
  },
  {
   "cell_type": "markdown",
   "id": "e30fb17a",
   "metadata": {},
   "source": [
    "### 1.1 Imports"
   ]
  },
  {
   "cell_type": "code",
   "execution_count": 1,
   "id": "69ebea8f",
   "metadata": {},
   "outputs": [],
   "source": [
    "import findspark\n",
    "findspark.init()\n",
    "from pyspark.sql import SparkSession\n",
    "import time\n",
    "from pyspark import SparkFiles\n",
    "import pandas as pd"
   ]
  },
  {
   "cell_type": "code",
   "execution_count": 2,
   "id": "61379791",
   "metadata": {},
   "outputs": [
    {
     "name": "stderr",
     "output_type": "stream",
     "text": [
      "Setting default log level to \"WARN\".\n",
      "To adjust logging level use sc.setLogLevel(newLevel). For SparkR, use setLogLevel(newLevel).\n"
     ]
    },
    {
     "name": "stdout",
     "output_type": "stream",
     "text": [
      "23/06/08 19:44:58 WARN NativeCodeLoader: Unable to load native-hadoop library for your platform... using builtin-java classes where applicable\n"
     ]
    }
   ],
   "source": [
    "# Create a SparkSession\n",
    "spark = SparkSession.builder.appName(\"SparkSQL\").getOrCreate()"
   ]
  },
  {
   "cell_type": "markdown",
   "id": "e59b9c40",
   "metadata": {},
   "source": [
    "### 1.2 Load Data"
   ]
  },
  {
   "cell_type": "markdown",
   "id": "224188dc",
   "metadata": {},
   "source": [
    "#### Medical Conditions"
   ]
  },
  {
   "cell_type": "code",
   "execution_count": 3,
   "id": "6d9edbbd",
   "metadata": {},
   "outputs": [
    {
     "name": "stderr",
     "output_type": "stream",
     "text": [
      "                                                                                \r"
     ]
    },
    {
     "name": "stdout",
     "output_type": "stream",
     "text": [
      "23/06/08 19:45:07 WARN package: Truncated the string representation of a plan since it was too large. This behavior can be adjusted by setting 'spark.sql.debug.maxToStringFields'.\n",
      "+--------+----------+---------------+-----------------+-------------------------+-------------------+----------------+----------+-----------+---------+-----------+--------------+---------------+---------------------+--------------------------+-------------------+------------------+---------------+-----------------+---------------------+------------+------+-------------+---------------------+---------------+------+-------+-----+--------------+----------+-----------------+-------------------------+-------------------+----------+-----------+-----------------+------------------+-------+\n",
      "|      id|asthma_age|ever_overweight|heart_failure_age|age_chronic_heart_disease|angina_pectoris_age|heart_attack_age|stroke_age|thyroid_age|liver_age|fatty_liver|liver_fibrosis|liver_cirrhosis|liver_viral_hepatitis|liver_autoimmune_hepatitis|other_liver_disease|gallbladder_pr_age|relative_asthma|relative_diabetes|relative_heart_attack|heart_attack|asthma|heart_failure|chronic_heart_disease|angina_pectoris|stroke|thyroid|liver|gallbladder_pr|asthma_yrs|heart_failure_yrs|chronic_heart_disease_yrs|angina_pectoris_yrs|stroke_yrs|thyroid_yrs|liver_disease_yrs|gallbladder_pr_yrs|max_age|\n",
      "+--------+----------+---------------+-----------------+-------------------------+-------------------+----------------+----------+-----------+---------+-----------+--------------+---------------+---------------------+--------------------------+-------------------+------------------+---------------+-----------------+---------------------+------------+------+-------------+---------------------+---------------+------+-------+-----+--------------+----------+-----------------+-------------------------+-------------------+----------+-----------+-----------------+------------------+-------+\n",
      "|109263.0|       0.0|              0|              0.0|                      0.0|                0.0|            null|       0.0|        0.0|      0.0|          0|             0|              0|                    0|                         0|                  0|               0.0|              0|                0|                    0|           0|     0|            0|                    0|              0|     0|      0|    0|             0|       0.0|              0.0|                      0.0|                0.0|       0.0|        0.0|              0.0|               0.0|    0.0|\n",
      "|109264.0|       0.0|              0|              0.0|                      0.0|                0.0|            null|       0.0|        0.0|      0.0|          0|             0|              0|                    0|                         0|                  0|               0.0|              1|                0|                    0|           0|     0|            0|                    0|              0|     0|      0|    0|             0|       0.0|              0.0|                      0.0|                0.0|       0.0|        0.0|              0.0|               0.0|    0.0|\n",
      "|109265.0|       0.0|              0|              0.0|                      0.0|                0.0|            null|       0.0|        0.0|      0.0|          0|             0|              0|                    0|                         0|                  0|               0.0|              0|                0|                    0|           0|     0|            0|                    0|              0|     0|      0|    0|             0|       0.0|              0.0|                      0.0|                0.0|       0.0|        0.0|              0.0|               0.0|    0.0|\n",
      "|109266.0|       0.0|              1|              0.0|                      0.0|                0.0|            null|       0.0|        0.0|      0.0|          0|             0|              0|                    0|                         0|                  0|               0.0|              0|                1|                    0|           0|     0|            0|                    0|              0|     0|      0|    0|             0|       0.0|              0.0|                      0.0|                0.0|       0.0|        0.0|              0.0|               0.0|    0.0|\n",
      "|109267.0|       0.0|              0|              0.0|                      0.0|                0.0|            null|       0.0|        0.0|      0.0|          0|             0|              0|                    0|                         0|                  0|               0.0|              0|                0|                    0|           0|     0|            0|                    0|              0|     0|      0|    0|             0|       0.0|              0.0|                      0.0|                0.0|       0.0|        0.0|              0.0|               0.0|    0.0|\n",
      "+--------+----------+---------------+-----------------+-------------------------+-------------------+----------------+----------+-----------+---------+-----------+--------------+---------------+---------------------+--------------------------+-------------------+------------------+---------------+-----------------+---------------------+------------+------+-------------+---------------------+---------------+------+-------+-----+--------------+----------+-----------------+-------------------------+-------------------+----------+-----------+-----------------+------------------+-------+\n",
      "only showing top 5 rows\n",
      "\n"
     ]
    }
   ],
   "source": [
    "spark.sparkContext.addFile('Resources/medical_conditions_cleaned.csv')\n",
    "medical_conditions = spark.read.csv(SparkFiles.get(\"medical_conditions_cleaned.csv\"), sep=\",\", header=True, inferSchema=True)\n",
    "medical_conditions.show(5)"
   ]
  },
  {
   "cell_type": "code",
   "execution_count": 4,
   "id": "a8dfd374",
   "metadata": {},
   "outputs": [],
   "source": [
    "medical_conditions.createOrReplaceTempView(\"medical_conditions\")"
   ]
  },
  {
   "cell_type": "code",
   "execution_count": 5,
   "id": "65c8083b",
   "metadata": {},
   "outputs": [
    {
     "name": "stdout",
     "output_type": "stream",
     "text": [
      "root\n",
      " |-- id: double (nullable = true)\n",
      " |-- asthma_age: double (nullable = true)\n",
      " |-- ever_overweight: integer (nullable = true)\n",
      " |-- heart_failure_age: double (nullable = true)\n",
      " |-- age_chronic_heart_disease: double (nullable = true)\n",
      " |-- angina_pectoris_age: double (nullable = true)\n",
      " |-- heart_attack_age: double (nullable = true)\n",
      " |-- stroke_age: double (nullable = true)\n",
      " |-- thyroid_age: double (nullable = true)\n",
      " |-- liver_age: double (nullable = true)\n",
      " |-- fatty_liver: integer (nullable = true)\n",
      " |-- liver_fibrosis: integer (nullable = true)\n",
      " |-- liver_cirrhosis: integer (nullable = true)\n",
      " |-- liver_viral_hepatitis: integer (nullable = true)\n",
      " |-- liver_autoimmune_hepatitis: integer (nullable = true)\n",
      " |-- other_liver_disease: integer (nullable = true)\n",
      " |-- gallbladder_pr_age: double (nullable = true)\n",
      " |-- relative_asthma: integer (nullable = true)\n",
      " |-- relative_diabetes: integer (nullable = true)\n",
      " |-- relative_heart_attack: integer (nullable = true)\n",
      " |-- heart_attack: integer (nullable = true)\n",
      " |-- asthma: integer (nullable = true)\n",
      " |-- heart_failure: integer (nullable = true)\n",
      " |-- chronic_heart_disease: integer (nullable = true)\n",
      " |-- angina_pectoris: integer (nullable = true)\n",
      " |-- stroke: integer (nullable = true)\n",
      " |-- thyroid: integer (nullable = true)\n",
      " |-- liver: integer (nullable = true)\n",
      " |-- gallbladder_pr: integer (nullable = true)\n",
      " |-- asthma_yrs: double (nullable = true)\n",
      " |-- heart_failure_yrs: double (nullable = true)\n",
      " |-- chronic_heart_disease_yrs: double (nullable = true)\n",
      " |-- angina_pectoris_yrs: double (nullable = true)\n",
      " |-- stroke_yrs: double (nullable = true)\n",
      " |-- thyroid_yrs: double (nullable = true)\n",
      " |-- liver_disease_yrs: double (nullable = true)\n",
      " |-- gallbladder_pr_yrs: double (nullable = true)\n",
      " |-- max_age: double (nullable = true)\n",
      "\n"
     ]
    }
   ],
   "source": [
    "medical_conditions.printSchema()"
   ]
  },
  {
   "cell_type": "code",
   "execution_count": 6,
   "id": "e1a96e98",
   "metadata": {},
   "outputs": [
    {
     "name": "stdout",
     "output_type": "stream",
     "text": [
      "+--------+\n",
      "|count(1)|\n",
      "+--------+\n",
      "|   14890|\n",
      "+--------+\n",
      "\n"
     ]
    }
   ],
   "source": [
    "spark.sql(\" \\\n",
    "            select count(*) \\\n",
    "            from medical_conditions \").show()"
   ]
  },
  {
   "cell_type": "code",
   "execution_count": 7,
   "id": "a53a712d",
   "metadata": {},
   "outputs": [
    {
     "name": "stdout",
     "output_type": "stream",
     "text": [
      "+--------+\n",
      "|count(1)|\n",
      "+--------+\n",
      "|     416|\n",
      "+--------+\n",
      "\n"
     ]
    }
   ],
   "source": [
    "spark.sql(\" \\\n",
    "            select count(*) \\\n",
    "            from medical_conditions \\\n",
    "            where heart_attack = 1 \").show()"
   ]
  },
  {
   "cell_type": "markdown",
   "id": "12a202c7",
   "metadata": {},
   "source": [
    "#### Health Habits"
   ]
  },
  {
   "cell_type": "code",
   "execution_count": 8,
   "id": "19caa147",
   "metadata": {},
   "outputs": [
    {
     "name": "stdout",
     "output_type": "stream",
     "text": [
      "+--------+-----------------------+---------------------+--------------+----+------------+--------------+\n",
      "|      id|Total_Cholesterol_mg_dL|Frequency_of_Drinking|Drinks_per_Day|Work|Recreational|100_Cigarettes|\n",
      "+--------+-----------------------+---------------------+--------------+----+------------+--------------+\n",
      "|109266.0|                  195.0|                 10.0|           1.0|   0|           1|             0|\n",
      "|109274.0|                  105.0|                  4.0|           2.0|   1|           0|             0|\n",
      "|109292.0|                  172.0|                  4.0|           6.0|   0|           0|             0|\n",
      "|109297.0|                  214.0|                  6.0|           2.0|   1|           0|             0|\n",
      "|109307.0|                  161.0|                  9.0|           1.0|   0|           0|             1|\n",
      "+--------+-----------------------+---------------------+--------------+----+------------+--------------+\n",
      "only showing top 5 rows\n",
      "\n"
     ]
    }
   ],
   "source": [
    "spark.sparkContext.addFile('Resources/total_df2.csv')\n",
    "health_habits = spark.read.csv(SparkFiles.get(\"total_df2.csv\"), sep=\",\", header=True, inferSchema=True)\n",
    "health_habits.show(5)"
   ]
  },
  {
   "cell_type": "code",
   "execution_count": 9,
   "id": "6ade2d71",
   "metadata": {},
   "outputs": [],
   "source": [
    "health_habits.createOrReplaceTempView(\"health_habits\")"
   ]
  },
  {
   "cell_type": "code",
   "execution_count": 10,
   "id": "94dea2e3",
   "metadata": {},
   "outputs": [
    {
     "name": "stdout",
     "output_type": "stream",
     "text": [
      "root\n",
      " |-- id: double (nullable = true)\n",
      " |-- Total_Cholesterol_mg_dL: double (nullable = true)\n",
      " |-- Frequency_of_Drinking: double (nullable = true)\n",
      " |-- Drinks_per_Day: double (nullable = true)\n",
      " |-- Work: integer (nullable = true)\n",
      " |-- Recreational: integer (nullable = true)\n",
      " |-- 100_Cigarettes: integer (nullable = true)\n",
      "\n"
     ]
    }
   ],
   "source": [
    "health_habits.printSchema()"
   ]
  },
  {
   "cell_type": "code",
   "execution_count": 11,
   "id": "d36de9d9",
   "metadata": {},
   "outputs": [
    {
     "name": "stdout",
     "output_type": "stream",
     "text": [
      "+--------+\n",
      "|count(1)|\n",
      "+--------+\n",
      "|    5502|\n",
      "+--------+\n",
      "\n"
     ]
    }
   ],
   "source": [
    "spark.sql(\" \\\n",
    "            select count(*) \\\n",
    "            from health_habits \").show()"
   ]
  },
  {
   "cell_type": "markdown",
   "id": "a26ab402",
   "metadata": {},
   "source": [
    "#### Demographics"
   ]
  },
  {
   "cell_type": "code",
   "execution_count": 12,
   "id": "81bc4a41",
   "metadata": {},
   "outputs": [
    {
     "name": "stdout",
     "output_type": "stream",
     "text": [
      "+--------+----+-------------+-----------+----------+----------+---------------------+----------+-------------------+----------+\n",
      "|      id| age|gender_female|gender_male|race_asian|race_black|race_mexican_american|race_other|race_other_hispanic|race_white|\n",
      "+--------+----+-------------+-----------+----------+----------+---------------------+----------+-------------------+----------+\n",
      "|109263.0| 2.0|            0|          1|         1|         0|                    0|         0|                  0|         0|\n",
      "|109264.0|13.0|            1|          0|         0|         0|                    1|         0|                  0|         0|\n",
      "|109265.0| 2.0|            0|          1|         0|         0|                    0|         0|                  0|         1|\n",
      "|109266.0|29.0|            1|          0|         1|         0|                    0|         0|                  0|         0|\n",
      "|109267.0|21.0|            1|          0|         0|         0|                    0|         0|                  1|         0|\n",
      "+--------+----+-------------+-----------+----------+----------+---------------------+----------+-------------------+----------+\n",
      "only showing top 5 rows\n",
      "\n"
     ]
    }
   ],
   "source": [
    "spark.sparkContext.addFile('Resources/demographics.csv')\n",
    "demo = spark.read.csv(SparkFiles.get(\"demographics.csv\"), sep=\",\", header=True, inferSchema=True)\n",
    "demo.show(5)"
   ]
  },
  {
   "cell_type": "code",
   "execution_count": 13,
   "id": "da31edd3",
   "metadata": {},
   "outputs": [],
   "source": [
    "demo.createOrReplaceTempView(\"demo\")"
   ]
  },
  {
   "cell_type": "code",
   "execution_count": 14,
   "id": "138354f4",
   "metadata": {},
   "outputs": [
    {
     "name": "stdout",
     "output_type": "stream",
     "text": [
      "root\n",
      " |-- id: double (nullable = true)\n",
      " |-- age: double (nullable = true)\n",
      " |-- gender_female: integer (nullable = true)\n",
      " |-- gender_male: integer (nullable = true)\n",
      " |-- race_asian: integer (nullable = true)\n",
      " |-- race_black: integer (nullable = true)\n",
      " |-- race_mexican_american: integer (nullable = true)\n",
      " |-- race_other: integer (nullable = true)\n",
      " |-- race_other_hispanic: integer (nullable = true)\n",
      " |-- race_white: integer (nullable = true)\n",
      "\n"
     ]
    }
   ],
   "source": [
    "demo.printSchema()"
   ]
  },
  {
   "cell_type": "code",
   "execution_count": 15,
   "id": "e9e407c6",
   "metadata": {},
   "outputs": [
    {
     "name": "stdout",
     "output_type": "stream",
     "text": [
      "+--------+\n",
      "|count(1)|\n",
      "+--------+\n",
      "|   15560|\n",
      "+--------+\n",
      "\n"
     ]
    }
   ],
   "source": [
    "spark.sql(\" \\\n",
    "            select count(*) \\\n",
    "            from demo \").show()"
   ]
  },
  {
   "cell_type": "markdown",
   "id": "41fa2d68",
   "metadata": {},
   "source": [
    "# 2. Join Tables"
   ]
  },
  {
   "cell_type": "markdown",
   "id": "c94313c4",
   "metadata": {},
   "source": [
    "### 2.1 Join"
   ]
  },
  {
   "cell_type": "code",
   "execution_count": 16,
   "id": "70f961c9",
   "metadata": {},
   "outputs": [
    {
     "name": "stdout",
     "output_type": "stream",
     "text": [
      "+--------+----------+---------------+-----------------+-------------------------+-------------------+----------------+----------+-----------+---------+-----------+--------------+---------------+---------------------+--------------------------+-------------------+------------------+---------------+-----------------+---------------------+------------+------+-------------+---------------------+---------------+------+-------+-----+--------------+----------+-----------------+-------------------------+-------------------+----------+-----------+-----------------+------------------+-------+-----------------------+---------------------+--------------+----+------------+--------------+----+-------------+-----------+----------+----------+---------------------+----------+-------------------+----------+\n",
      "|      id|asthma_age|ever_overweight|heart_failure_age|age_chronic_heart_disease|angina_pectoris_age|heart_attack_age|stroke_age|thyroid_age|liver_age|fatty_liver|liver_fibrosis|liver_cirrhosis|liver_viral_hepatitis|liver_autoimmune_hepatitis|other_liver_disease|gallbladder_pr_age|relative_asthma|relative_diabetes|relative_heart_attack|heart_attack|asthma|heart_failure|chronic_heart_disease|angina_pectoris|stroke|thyroid|liver|gallbladder_pr|asthma_yrs|heart_failure_yrs|chronic_heart_disease_yrs|angina_pectoris_yrs|stroke_yrs|thyroid_yrs|liver_disease_yrs|gallbladder_pr_yrs|max_age|Total_Cholesterol_mg_dL|Frequency_of_Drinking|Drinks_per_Day|Work|Recreational|100_Cigarettes| age|gender_female|gender_male|race_asian|race_black|race_mexican_american|race_other|race_other_hispanic|race_white|\n",
      "+--------+----------+---------------+-----------------+-------------------------+-------------------+----------------+----------+-----------+---------+-----------+--------------+---------------+---------------------+--------------------------+-------------------+------------------+---------------+-----------------+---------------------+------------+------+-------------+---------------------+---------------+------+-------+-----+--------------+----------+-----------------+-------------------------+-------------------+----------+-----------+-----------------+------------------+-------+-----------------------+---------------------+--------------+----+------------+--------------+----+-------------+-----------+----------+----------+---------------------+----------+-------------------+----------+\n",
      "|109266.0|       0.0|              1|              0.0|                      0.0|                0.0|            null|       0.0|        0.0|      0.0|          0|             0|              0|                    0|                         0|                  0|               0.0|              0|                1|                    0|           0|     0|            0|                    0|              0|     0|      0|    0|             0|       0.0|              0.0|                      0.0|                0.0|       0.0|        0.0|              0.0|               0.0|    0.0|                  195.0|                 10.0|           1.0|   0|           1|             0|29.0|            1|          0|         1|         0|                    0|         0|                  0|         0|\n",
      "|109274.0|       0.0|              1|              0.0|                      0.0|                0.0|            null|       0.0|        0.0|      0.0|          0|             0|              0|                    0|                         0|                  0|              58.0|              0|                1|                    0|           0|     0|            0|                    0|              0|     0|      0|    0|             1|       0.0|              0.0|                      0.0|                0.0|       0.0|        0.0|              0.0|               0.0|   58.0|                  105.0|                  4.0|           2.0|   1|           0|             0|68.0|            0|          1|         0|         0|                    0|         1|                  0|         0|\n",
      "|109292.0|      52.0|              0|              0.0|                      0.0|                0.0|            null|       0.0|        0.0|      0.0|          0|             0|              0|                    0|                         0|                  0|               0.0|              0|                1|                    0|           0|     1|            0|                    0|              0|     0|      0|    0|             0|       0.0|              0.0|                      0.0|                0.0|       0.0|        0.0|              0.0|               0.0|   52.0|                  172.0|                  4.0|           6.0|   0|           0|             0|58.0|            0|          1|         0|         0|                    0|         0|                  1|         0|\n",
      "|109297.0|       0.0|              0|              0.0|                      0.0|                0.0|            null|       0.0|        0.0|      0.0|          0|             0|              0|                    0|                         0|                  0|               0.0|              0|                1|                    0|           0|     0|            0|                    0|              0|     0|      0|    0|             0|       0.0|              0.0|                      0.0|                0.0|       0.0|        0.0|              0.0|               0.0|    0.0|                  214.0|                  6.0|           2.0|   1|           0|             0|30.0|            1|          0|         1|         0|                    0|         0|                  0|         0|\n",
      "|109307.0|       0.0|              0|              0.0|                      0.0|               42.0|            null|       0.0|        0.0|      0.0|          0|             0|              0|                    0|                         0|                  0|               0.0|              0|                0|                    0|           0|     0|            0|                    0|              1|     0|      0|    0|             0|       0.0|              0.0|                      0.0|                0.0|       0.0|        0.0|              0.0|               0.0|   42.0|                  161.0|                  9.0|           1.0|   0|           0|             1|47.0|            0|          1|         1|         0|                    0|         0|                  0|         0|\n",
      "+--------+----------+---------------+-----------------+-------------------------+-------------------+----------------+----------+-----------+---------+-----------+--------------+---------------+---------------------+--------------------------+-------------------+------------------+---------------+-----------------+---------------------+------------+------+-------------+---------------------+---------------+------+-------+-----+--------------+----------+-----------------+-------------------------+-------------------+----------+-----------+-----------------+------------------+-------+-----------------------+---------------------+--------------+----+------------+--------------+----+-------------+-----------+----------+----------+---------------------+----------+-------------------+----------+\n",
      "only showing top 5 rows\n",
      "\n"
     ]
    }
   ],
   "source": [
    "df_full = spark.sql(\" \\\n",
    "            select t1.*, \\\n",
    "                   t2.Total_Cholesterol_mg_dL, \\\n",
    "                   t2.Frequency_of_Drinking, \\\n",
    "                   t2.Drinks_per_Day, \\\n",
    "                   t2.Work, \\\n",
    "                   t2.Recreational, \\\n",
    "                   t2.100_Cigarettes, \\\n",
    "                   t3.age, \\\n",
    "                   t3.gender_female, \\\n",
    "                   t3.gender_male, \\\n",
    "                   t3.race_asian, \\\n",
    "                   t3.race_black, \\\n",
    "                   t3.race_mexican_american, \\\n",
    "                   t3.race_other, \\\n",
    "                   t3.race_other_hispanic, \\\n",
    "                   t3.race_white \\\n",
    "            from medical_conditions as t1 \\\n",
    "                join health_habits as t2 on t1.id = t2.id \\\n",
    "                join demo as t3 on t1.id = t3.id \")\n",
    "df_full.show(5)"
   ]
  },
  {
   "cell_type": "code",
   "execution_count": 17,
   "id": "f4fb750c",
   "metadata": {},
   "outputs": [],
   "source": [
    "df_full.createOrReplaceTempView(\"df_full\")"
   ]
  },
  {
   "cell_type": "code",
   "execution_count": 18,
   "id": "3d8bdd1f",
   "metadata": {
    "scrolled": true
   },
   "outputs": [
    {
     "name": "stdout",
     "output_type": "stream",
     "text": [
      "root\n",
      " |-- id: double (nullable = true)\n",
      " |-- asthma_age: double (nullable = true)\n",
      " |-- ever_overweight: integer (nullable = true)\n",
      " |-- heart_failure_age: double (nullable = true)\n",
      " |-- age_chronic_heart_disease: double (nullable = true)\n",
      " |-- angina_pectoris_age: double (nullable = true)\n",
      " |-- heart_attack_age: double (nullable = true)\n",
      " |-- stroke_age: double (nullable = true)\n",
      " |-- thyroid_age: double (nullable = true)\n",
      " |-- liver_age: double (nullable = true)\n",
      " |-- fatty_liver: integer (nullable = true)\n",
      " |-- liver_fibrosis: integer (nullable = true)\n",
      " |-- liver_cirrhosis: integer (nullable = true)\n",
      " |-- liver_viral_hepatitis: integer (nullable = true)\n",
      " |-- liver_autoimmune_hepatitis: integer (nullable = true)\n",
      " |-- other_liver_disease: integer (nullable = true)\n",
      " |-- gallbladder_pr_age: double (nullable = true)\n",
      " |-- relative_asthma: integer (nullable = true)\n",
      " |-- relative_diabetes: integer (nullable = true)\n",
      " |-- relative_heart_attack: integer (nullable = true)\n",
      " |-- heart_attack: integer (nullable = true)\n",
      " |-- asthma: integer (nullable = true)\n",
      " |-- heart_failure: integer (nullable = true)\n",
      " |-- chronic_heart_disease: integer (nullable = true)\n",
      " |-- angina_pectoris: integer (nullable = true)\n",
      " |-- stroke: integer (nullable = true)\n",
      " |-- thyroid: integer (nullable = true)\n",
      " |-- liver: integer (nullable = true)\n",
      " |-- gallbladder_pr: integer (nullable = true)\n",
      " |-- asthma_yrs: double (nullable = true)\n",
      " |-- heart_failure_yrs: double (nullable = true)\n",
      " |-- chronic_heart_disease_yrs: double (nullable = true)\n",
      " |-- angina_pectoris_yrs: double (nullable = true)\n",
      " |-- stroke_yrs: double (nullable = true)\n",
      " |-- thyroid_yrs: double (nullable = true)\n",
      " |-- liver_disease_yrs: double (nullable = true)\n",
      " |-- gallbladder_pr_yrs: double (nullable = true)\n",
      " |-- max_age: double (nullable = true)\n",
      " |-- Total_Cholesterol_mg_dL: double (nullable = true)\n",
      " |-- Frequency_of_Drinking: double (nullable = true)\n",
      " |-- Drinks_per_Day: double (nullable = true)\n",
      " |-- Work: integer (nullable = true)\n",
      " |-- Recreational: integer (nullable = true)\n",
      " |-- 100_Cigarettes: integer (nullable = true)\n",
      " |-- age: double (nullable = true)\n",
      " |-- gender_female: integer (nullable = true)\n",
      " |-- gender_male: integer (nullable = true)\n",
      " |-- race_asian: integer (nullable = true)\n",
      " |-- race_black: integer (nullable = true)\n",
      " |-- race_mexican_american: integer (nullable = true)\n",
      " |-- race_other: integer (nullable = true)\n",
      " |-- race_other_hispanic: integer (nullable = true)\n",
      " |-- race_white: integer (nullable = true)\n",
      "\n"
     ]
    }
   ],
   "source": [
    "df_full.printSchema()"
   ]
  },
  {
   "cell_type": "code",
   "execution_count": 19,
   "id": "2c18ad5d",
   "metadata": {},
   "outputs": [
    {
     "name": "stdout",
     "output_type": "stream",
     "text": [
      "+--------+\n",
      "|count(1)|\n",
      "+--------+\n",
      "|     195|\n",
      "+--------+\n",
      "\n"
     ]
    }
   ],
   "source": [
    "spark.sql(\" \\\n",
    "            select count(*) \\\n",
    "            from df_full \\\n",
    "            where heart_attack = 1 \").show()"
   ]
  },
  {
   "cell_type": "code",
   "execution_count": 20,
   "id": "1270c9e4",
   "metadata": {},
   "outputs": [
    {
     "name": "stdout",
     "output_type": "stream",
     "text": [
      "+--------+\n",
      "|count(1)|\n",
      "+--------+\n",
      "|     166|\n",
      "+--------+\n",
      "\n"
     ]
    }
   ],
   "source": [
    "spark.sql(\" \\\n",
    "            select count(*) \\\n",
    "            from df_full \\\n",
    "            where heart_attack = 0 \\\n",
    "                and stroke_age != 0.0\").show()"
   ]
  },
  {
   "cell_type": "markdown",
   "id": "247341d7",
   "metadata": {},
   "source": [
    "### 2.2 Conver to .csv file"
   ]
  },
  {
   "cell_type": "code",
   "execution_count": 21,
   "id": "7646a731",
   "metadata": {},
   "outputs": [
    {
     "name": "stderr",
     "output_type": "stream",
     "text": [
      "\r",
      "[Stage 34:>                                                         (0 + 1) / 1]\r",
      "\r",
      "                                                                                \r"
     ]
    },
    {
     "data": {
      "text/html": [
       "<div>\n",
       "<style scoped>\n",
       "    .dataframe tbody tr th:only-of-type {\n",
       "        vertical-align: middle;\n",
       "    }\n",
       "\n",
       "    .dataframe tbody tr th {\n",
       "        vertical-align: top;\n",
       "    }\n",
       "\n",
       "    .dataframe thead th {\n",
       "        text-align: right;\n",
       "    }\n",
       "</style>\n",
       "<table border=\"1\" class=\"dataframe\">\n",
       "  <thead>\n",
       "    <tr style=\"text-align: right;\">\n",
       "      <th></th>\n",
       "      <th>id</th>\n",
       "      <th>asthma_age</th>\n",
       "      <th>ever_overweight</th>\n",
       "      <th>heart_failure_age</th>\n",
       "      <th>age_chronic_heart_disease</th>\n",
       "      <th>angina_pectoris_age</th>\n",
       "      <th>heart_attack_age</th>\n",
       "      <th>stroke_age</th>\n",
       "      <th>thyroid_age</th>\n",
       "      <th>liver_age</th>\n",
       "      <th>...</th>\n",
       "      <th>100_Cigarettes</th>\n",
       "      <th>age</th>\n",
       "      <th>gender_female</th>\n",
       "      <th>gender_male</th>\n",
       "      <th>race_asian</th>\n",
       "      <th>race_black</th>\n",
       "      <th>race_mexican_american</th>\n",
       "      <th>race_other</th>\n",
       "      <th>race_other_hispanic</th>\n",
       "      <th>race_white</th>\n",
       "    </tr>\n",
       "  </thead>\n",
       "  <tbody>\n",
       "    <tr>\n",
       "      <th>0</th>\n",
       "      <td>109266.0</td>\n",
       "      <td>0.0</td>\n",
       "      <td>1</td>\n",
       "      <td>0.0</td>\n",
       "      <td>0.0</td>\n",
       "      <td>0.0</td>\n",
       "      <td>NaN</td>\n",
       "      <td>0.0</td>\n",
       "      <td>0.0</td>\n",
       "      <td>0.0</td>\n",
       "      <td>...</td>\n",
       "      <td>0</td>\n",
       "      <td>29.0</td>\n",
       "      <td>1</td>\n",
       "      <td>0</td>\n",
       "      <td>1</td>\n",
       "      <td>0</td>\n",
       "      <td>0</td>\n",
       "      <td>0</td>\n",
       "      <td>0</td>\n",
       "      <td>0</td>\n",
       "    </tr>\n",
       "    <tr>\n",
       "      <th>1</th>\n",
       "      <td>109274.0</td>\n",
       "      <td>0.0</td>\n",
       "      <td>1</td>\n",
       "      <td>0.0</td>\n",
       "      <td>0.0</td>\n",
       "      <td>0.0</td>\n",
       "      <td>NaN</td>\n",
       "      <td>0.0</td>\n",
       "      <td>0.0</td>\n",
       "      <td>0.0</td>\n",
       "      <td>...</td>\n",
       "      <td>0</td>\n",
       "      <td>68.0</td>\n",
       "      <td>0</td>\n",
       "      <td>1</td>\n",
       "      <td>0</td>\n",
       "      <td>0</td>\n",
       "      <td>0</td>\n",
       "      <td>1</td>\n",
       "      <td>0</td>\n",
       "      <td>0</td>\n",
       "    </tr>\n",
       "    <tr>\n",
       "      <th>2</th>\n",
       "      <td>109292.0</td>\n",
       "      <td>52.0</td>\n",
       "      <td>0</td>\n",
       "      <td>0.0</td>\n",
       "      <td>0.0</td>\n",
       "      <td>0.0</td>\n",
       "      <td>NaN</td>\n",
       "      <td>0.0</td>\n",
       "      <td>0.0</td>\n",
       "      <td>0.0</td>\n",
       "      <td>...</td>\n",
       "      <td>0</td>\n",
       "      <td>58.0</td>\n",
       "      <td>0</td>\n",
       "      <td>1</td>\n",
       "      <td>0</td>\n",
       "      <td>0</td>\n",
       "      <td>0</td>\n",
       "      <td>0</td>\n",
       "      <td>1</td>\n",
       "      <td>0</td>\n",
       "    </tr>\n",
       "    <tr>\n",
       "      <th>3</th>\n",
       "      <td>109297.0</td>\n",
       "      <td>0.0</td>\n",
       "      <td>0</td>\n",
       "      <td>0.0</td>\n",
       "      <td>0.0</td>\n",
       "      <td>0.0</td>\n",
       "      <td>NaN</td>\n",
       "      <td>0.0</td>\n",
       "      <td>0.0</td>\n",
       "      <td>0.0</td>\n",
       "      <td>...</td>\n",
       "      <td>0</td>\n",
       "      <td>30.0</td>\n",
       "      <td>1</td>\n",
       "      <td>0</td>\n",
       "      <td>1</td>\n",
       "      <td>0</td>\n",
       "      <td>0</td>\n",
       "      <td>0</td>\n",
       "      <td>0</td>\n",
       "      <td>0</td>\n",
       "    </tr>\n",
       "    <tr>\n",
       "      <th>4</th>\n",
       "      <td>109307.0</td>\n",
       "      <td>0.0</td>\n",
       "      <td>0</td>\n",
       "      <td>0.0</td>\n",
       "      <td>0.0</td>\n",
       "      <td>42.0</td>\n",
       "      <td>NaN</td>\n",
       "      <td>0.0</td>\n",
       "      <td>0.0</td>\n",
       "      <td>0.0</td>\n",
       "      <td>...</td>\n",
       "      <td>1</td>\n",
       "      <td>47.0</td>\n",
       "      <td>0</td>\n",
       "      <td>1</td>\n",
       "      <td>1</td>\n",
       "      <td>0</td>\n",
       "      <td>0</td>\n",
       "      <td>0</td>\n",
       "      <td>0</td>\n",
       "      <td>0</td>\n",
       "    </tr>\n",
       "  </tbody>\n",
       "</table>\n",
       "<p>5 rows × 53 columns</p>\n",
       "</div>"
      ],
      "text/plain": [
       "         id  asthma_age  ever_overweight  heart_failure_age   \n",
       "0  109266.0         0.0                1                0.0  \\\n",
       "1  109274.0         0.0                1                0.0   \n",
       "2  109292.0        52.0                0                0.0   \n",
       "3  109297.0         0.0                0                0.0   \n",
       "4  109307.0         0.0                0                0.0   \n",
       "\n",
       "   age_chronic_heart_disease  angina_pectoris_age  heart_attack_age   \n",
       "0                        0.0                  0.0               NaN  \\\n",
       "1                        0.0                  0.0               NaN   \n",
       "2                        0.0                  0.0               NaN   \n",
       "3                        0.0                  0.0               NaN   \n",
       "4                        0.0                 42.0               NaN   \n",
       "\n",
       "   stroke_age  thyroid_age  liver_age  ...  100_Cigarettes   age   \n",
       "0         0.0          0.0        0.0  ...               0  29.0  \\\n",
       "1         0.0          0.0        0.0  ...               0  68.0   \n",
       "2         0.0          0.0        0.0  ...               0  58.0   \n",
       "3         0.0          0.0        0.0  ...               0  30.0   \n",
       "4         0.0          0.0        0.0  ...               1  47.0   \n",
       "\n",
       "   gender_female  gender_male  race_asian  race_black  race_mexican_american   \n",
       "0              1            0           1           0                      0  \\\n",
       "1              0            1           0           0                      0   \n",
       "2              0            1           0           0                      0   \n",
       "3              1            0           1           0                      0   \n",
       "4              0            1           1           0                      0   \n",
       "\n",
       "   race_other  race_other_hispanic  race_white  \n",
       "0           0                    0           0  \n",
       "1           1                    0           0  \n",
       "2           0                    1           0  \n",
       "3           0                    0           0  \n",
       "4           0                    0           0  \n",
       "\n",
       "[5 rows x 53 columns]"
      ]
     },
     "execution_count": 21,
     "metadata": {},
     "output_type": "execute_result"
    }
   ],
   "source": [
    "df_full_pandas = df_full.toPandas()\n",
    "df_full_pandas.head()"
   ]
  },
  {
   "cell_type": "code",
   "execution_count": 22,
   "id": "7fb2241e",
   "metadata": {},
   "outputs": [
    {
     "name": "stdout",
     "output_type": "stream",
     "text": [
      "<class 'pandas.core.frame.DataFrame'>\n",
      "RangeIndex: 5478 entries, 0 to 5477\n",
      "Data columns (total 53 columns):\n",
      " #   Column                      Non-Null Count  Dtype  \n",
      "---  ------                      --------------  -----  \n",
      " 0   id                          5478 non-null   float64\n",
      " 1   asthma_age                  5478 non-null   float64\n",
      " 2   ever_overweight             5478 non-null   int32  \n",
      " 3   heart_failure_age           5478 non-null   float64\n",
      " 4   age_chronic_heart_disease   5478 non-null   float64\n",
      " 5   angina_pectoris_age         5478 non-null   float64\n",
      " 6   heart_attack_age            195 non-null    float64\n",
      " 7   stroke_age                  5478 non-null   float64\n",
      " 8   thyroid_age                 5478 non-null   float64\n",
      " 9   liver_age                   5478 non-null   float64\n",
      " 10  fatty_liver                 5478 non-null   int32  \n",
      " 11  liver_fibrosis              5478 non-null   int32  \n",
      " 12  liver_cirrhosis             5478 non-null   int32  \n",
      " 13  liver_viral_hepatitis       5478 non-null   int32  \n",
      " 14  liver_autoimmune_hepatitis  5478 non-null   int32  \n",
      " 15  other_liver_disease         5478 non-null   int32  \n",
      " 16  gallbladder_pr_age          5478 non-null   float64\n",
      " 17  relative_asthma             5478 non-null   int32  \n",
      " 18  relative_diabetes           5478 non-null   int32  \n",
      " 19  relative_heart_attack       5478 non-null   int32  \n",
      " 20  heart_attack                5478 non-null   int32  \n",
      " 21  asthma                      5478 non-null   int32  \n",
      " 22  heart_failure               5478 non-null   int32  \n",
      " 23  chronic_heart_disease       5478 non-null   int32  \n",
      " 24  angina_pectoris             5478 non-null   int32  \n",
      " 25  stroke                      5478 non-null   int32  \n",
      " 26  thyroid                     5478 non-null   int32  \n",
      " 27  liver                       5478 non-null   int32  \n",
      " 28  gallbladder_pr              5478 non-null   int32  \n",
      " 29  asthma_yrs                  5478 non-null   float64\n",
      " 30  heart_failure_yrs           5478 non-null   float64\n",
      " 31  chronic_heart_disease_yrs   5478 non-null   float64\n",
      " 32  angina_pectoris_yrs         5478 non-null   float64\n",
      " 33  stroke_yrs                  5478 non-null   float64\n",
      " 34  thyroid_yrs                 5478 non-null   float64\n",
      " 35  liver_disease_yrs           5478 non-null   float64\n",
      " 36  gallbladder_pr_yrs          5478 non-null   float64\n",
      " 37  max_age                     5478 non-null   float64\n",
      " 38  Total_Cholesterol_mg_dL     5478 non-null   float64\n",
      " 39  Frequency_of_Drinking       5478 non-null   float64\n",
      " 40  Drinks_per_Day              5478 non-null   float64\n",
      " 41  Work                        5478 non-null   int32  \n",
      " 42  Recreational                5478 non-null   int32  \n",
      " 43  100_Cigarettes              5478 non-null   int32  \n",
      " 44  age                         5478 non-null   float64\n",
      " 45  gender_female               5478 non-null   int32  \n",
      " 46  gender_male                 5478 non-null   int32  \n",
      " 47  race_asian                  5478 non-null   int32  \n",
      " 48  race_black                  5478 non-null   int32  \n",
      " 49  race_mexican_american       5478 non-null   int32  \n",
      " 50  race_other                  5478 non-null   int32  \n",
      " 51  race_other_hispanic         5478 non-null   int32  \n",
      " 52  race_white                  5478 non-null   int32  \n",
      "dtypes: float64(23), int32(30)\n",
      "memory usage: 1.6 MB\n"
     ]
    }
   ],
   "source": [
    "df_full_pandas.info()"
   ]
  },
  {
   "cell_type": "code",
   "execution_count": 23,
   "id": "53228c22",
   "metadata": {},
   "outputs": [],
   "source": [
    "df_full_pandas.to_csv('Resources/heart_attack_final_table.csv', index=False)"
   ]
  }
 ],
 "metadata": {
  "kernelspec": {
   "display_name": "Python 3 (ipykernel)",
   "language": "python",
   "name": "python3"
  },
  "language_info": {
   "codemirror_mode": {
    "name": "ipython",
    "version": 3
   },
   "file_extension": ".py",
   "mimetype": "text/x-python",
   "name": "python",
   "nbconvert_exporter": "python",
   "pygments_lexer": "ipython3",
   "version": "3.9.13"
  }
 },
 "nbformat": 4,
 "nbformat_minor": 5
}
