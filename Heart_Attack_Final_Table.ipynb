{
 "cells": [
  {
   "cell_type": "markdown",
   "id": "f00659de",
   "metadata": {},
   "source": [
    "# 1. Load Data"
   ]
  },
  {
   "cell_type": "markdown",
   "id": "e30fb17a",
   "metadata": {},
   "source": [
    "### 1.1 Imports"
   ]
  },
  {
   "cell_type": "code",
   "execution_count": 1,
   "id": "69ebea8f",
   "metadata": {},
   "outputs": [],
   "source": [
    "import findspark\n",
    "findspark.init()\n",
    "from pyspark.sql import SparkSession\n",
    "import time\n",
    "from pyspark import SparkFiles\n",
    "import pandas as pd"
   ]
  },
  {
   "cell_type": "code",
   "execution_count": 2,
   "id": "61379791",
   "metadata": {},
   "outputs": [
    {
     "name": "stderr",
     "output_type": "stream",
     "text": [
      "Setting default log level to \"WARN\".\n",
      "To adjust logging level use sc.setLogLevel(newLevel). For SparkR, use setLogLevel(newLevel).\n"
     ]
    },
    {
     "name": "stdout",
     "output_type": "stream",
     "text": [
      "23/06/05 19:34:12 WARN NativeCodeLoader: Unable to load native-hadoop library for your platform... using builtin-java classes where applicable\n"
     ]
    }
   ],
   "source": [
    "# Create a SparkSession\n",
    "spark = SparkSession.builder.appName(\"SparkSQL\").getOrCreate()"
   ]
  },
  {
   "cell_type": "markdown",
   "id": "e59b9c40",
   "metadata": {},
   "source": [
    "### 1.2 Load Data"
   ]
  },
  {
   "cell_type": "markdown",
   "id": "224188dc",
   "metadata": {},
   "source": [
    "#### Medical Conditions"
   ]
  },
  {
   "cell_type": "code",
   "execution_count": 3,
   "id": "6d9edbbd",
   "metadata": {},
   "outputs": [
    {
     "name": "stderr",
     "output_type": "stream",
     "text": [
      "\r",
      "[Stage 1:>                                                          (0 + 1) / 1]\r",
      "\r",
      "                                                                                \r"
     ]
    },
    {
     "name": "stdout",
     "output_type": "stream",
     "text": [
      "+--------+---------------+--------------------+----------------+-----------+--------------+---------------+---------------------+--------------------------+-------------------+---------------+-----------------+---------------------+------+-------------+---------------------+---------------+------+-------+-------------+--------------+\n",
      "|      id|ever_overweight|blood_transfusion_yr|heart_attack_age|fatty_liver|liver_fibrosis|liver_cirrhosis|liver_viral_hepatitis|liver_autoimmune_hepatitis|other_liver_disease|relative_asthma|relative_diabetes|relative_heart_attack|asthma|heart_failure|chronic_heart_disease|angina_pectoris|stroke|thyroid|liver_disease|gallbladder_pr|\n",
      "+--------+---------------+--------------------+----------------+-----------+--------------+---------------+---------------------+--------------------------+-------------------+---------------+-----------------+---------------------+------+-------------+---------------------+---------------+------+-------+-------------+--------------+\n",
      "|109263.0|              0|                null|            null|          0|             0|              0|                    0|                         0|                  0|              0|                0|                    0|     0|            0|                    0|              0|     0|      0|            0|             0|\n",
      "|109264.0|              0|                null|            null|          0|             0|              0|                    0|                         0|                  0|              1|                0|                    0|     0|            0|                    0|              0|     0|      0|            0|             0|\n",
      "|109265.0|              0|                null|            null|          0|             0|              0|                    0|                         0|                  0|              0|                0|                    0|     0|            0|                    0|              0|     0|      0|            0|             0|\n",
      "|109266.0|              1|                null|            null|          0|             0|              0|                    0|                         0|                  0|              0|                1|                    0|     0|            0|                    0|              0|     0|      0|            0|             0|\n",
      "|109267.0|              0|                null|            null|          0|             0|              0|                    0|                         0|                  0|              0|                0|                    0|     0|            0|                    0|              0|     0|      0|            0|             0|\n",
      "+--------+---------------+--------------------+----------------+-----------+--------------+---------------+---------------------+--------------------------+-------------------+---------------+-----------------+---------------------+------+-------------+---------------------+---------------+------+-------+-------------+--------------+\n",
      "only showing top 5 rows\n",
      "\n"
     ]
    }
   ],
   "source": [
    "spark.sparkContext.addFile('Resources/medical_conditions_cleaned.csv')\n",
    "medical_conditions = spark.read.csv(SparkFiles.get(\"medical_conditions_cleaned.csv\"), sep=\",\", header=True, inferSchema=True)\n",
    "medical_conditions.show(5)"
   ]
  },
  {
   "cell_type": "code",
   "execution_count": 4,
   "id": "a8dfd374",
   "metadata": {},
   "outputs": [],
   "source": [
    "medical_conditions.createOrReplaceTempView(\"medical_conditions\")"
   ]
  },
  {
   "cell_type": "code",
   "execution_count": 5,
   "id": "65c8083b",
   "metadata": {},
   "outputs": [
    {
     "name": "stdout",
     "output_type": "stream",
     "text": [
      "root\n",
      " |-- id: double (nullable = true)\n",
      " |-- ever_overweight: integer (nullable = true)\n",
      " |-- blood_transfusion_yr: double (nullable = true)\n",
      " |-- heart_attack_age: double (nullable = true)\n",
      " |-- fatty_liver: integer (nullable = true)\n",
      " |-- liver_fibrosis: integer (nullable = true)\n",
      " |-- liver_cirrhosis: integer (nullable = true)\n",
      " |-- liver_viral_hepatitis: integer (nullable = true)\n",
      " |-- liver_autoimmune_hepatitis: integer (nullable = true)\n",
      " |-- other_liver_disease: integer (nullable = true)\n",
      " |-- relative_asthma: integer (nullable = true)\n",
      " |-- relative_diabetes: integer (nullable = true)\n",
      " |-- relative_heart_attack: integer (nullable = true)\n",
      " |-- asthma: integer (nullable = true)\n",
      " |-- heart_failure: integer (nullable = true)\n",
      " |-- chronic_heart_disease: integer (nullable = true)\n",
      " |-- angina_pectoris: integer (nullable = true)\n",
      " |-- stroke: integer (nullable = true)\n",
      " |-- thyroid: integer (nullable = true)\n",
      " |-- liver_disease: integer (nullable = true)\n",
      " |-- gallbladder_pr: integer (nullable = true)\n",
      "\n"
     ]
    }
   ],
   "source": [
    "medical_conditions.printSchema()"
   ]
  },
  {
   "cell_type": "code",
   "execution_count": 6,
   "id": "e1a96e98",
   "metadata": {},
   "outputs": [
    {
     "name": "stdout",
     "output_type": "stream",
     "text": [
      "+--------+\n",
      "|count(1)|\n",
      "+--------+\n",
      "|   14986|\n",
      "+--------+\n",
      "\n"
     ]
    }
   ],
   "source": [
    "spark.sql(\" \\\n",
    "            select count(*) \\\n",
    "            from medical_conditions \").show()"
   ]
  },
  {
   "cell_type": "markdown",
   "id": "12a202c7",
   "metadata": {},
   "source": [
    "#### Demographics"
   ]
  },
  {
   "cell_type": "code",
   "execution_count": 7,
   "id": "19caa147",
   "metadata": {},
   "outputs": [
    {
     "name": "stdout",
     "output_type": "stream",
     "text": [
      "+--------+-----------------------+---------------------+--------------+----+------------+--------------+\n",
      "|      id|Total_Cholesterol_mg_dL|Frequency_of_Drinking|Drinks_per_Day|Work|Recreational|100_Cigarettes|\n",
      "+--------+-----------------------+---------------------+--------------+----+------------+--------------+\n",
      "|109266.0|                  195.0|                 10.0|           1.0|   0|           1|             0|\n",
      "|109274.0|                  105.0|                  4.0|           2.0|   1|           0|             0|\n",
      "|109292.0|                  172.0|                  4.0|           6.0|   0|           0|             0|\n",
      "|109297.0|                  214.0|                  6.0|           2.0|   1|           0|             0|\n",
      "|109307.0|                  161.0|                  9.0|           1.0|   0|           0|             1|\n",
      "+--------+-----------------------+---------------------+--------------+----+------------+--------------+\n",
      "only showing top 5 rows\n",
      "\n"
     ]
    }
   ],
   "source": [
    "spark.sparkContext.addFile('Resources/total_df2.csv')\n",
    "demo = spark.read.csv(SparkFiles.get(\"total_df2.csv\"), sep=\",\", header=True, inferSchema=True)\n",
    "demo.show(5)"
   ]
  },
  {
   "cell_type": "code",
   "execution_count": 8,
   "id": "6ade2d71",
   "metadata": {},
   "outputs": [],
   "source": [
    "demo.createOrReplaceTempView(\"demo\")"
   ]
  },
  {
   "cell_type": "code",
   "execution_count": 9,
   "id": "94dea2e3",
   "metadata": {},
   "outputs": [
    {
     "name": "stdout",
     "output_type": "stream",
     "text": [
      "root\n",
      " |-- id: double (nullable = true)\n",
      " |-- Total_Cholesterol_mg_dL: double (nullable = true)\n",
      " |-- Frequency_of_Drinking: double (nullable = true)\n",
      " |-- Drinks_per_Day: double (nullable = true)\n",
      " |-- Work: integer (nullable = true)\n",
      " |-- Recreational: integer (nullable = true)\n",
      " |-- 100_Cigarettes: integer (nullable = true)\n",
      "\n"
     ]
    }
   ],
   "source": [
    "demo.printSchema()"
   ]
  },
  {
   "cell_type": "code",
   "execution_count": 10,
   "id": "d36de9d9",
   "metadata": {},
   "outputs": [
    {
     "name": "stdout",
     "output_type": "stream",
     "text": [
      "+--------+\n",
      "|count(1)|\n",
      "+--------+\n",
      "|    5502|\n",
      "+--------+\n",
      "\n"
     ]
    }
   ],
   "source": [
    "spark.sql(\" \\\n",
    "            select count(*) \\\n",
    "            from demo \").show()"
   ]
  },
  {
   "cell_type": "markdown",
   "id": "41fa2d68",
   "metadata": {},
   "source": [
    "# 2. Join Tables"
   ]
  },
  {
   "cell_type": "markdown",
   "id": "03d7b14f",
   "metadata": {},
   "source": [
    "### 2.1 Join"
   ]
  },
  {
   "cell_type": "code",
   "execution_count": 12,
   "id": "70f961c9",
   "metadata": {},
   "outputs": [
    {
     "name": "stdout",
     "output_type": "stream",
     "text": [
      "23/06/05 19:35:14 WARN package: Truncated the string representation of a plan since it was too large. This behavior can be adjusted by setting 'spark.sql.debug.maxToStringFields'.\n",
      "+--------+---------------+--------------------+----------------+-----------+--------------+---------------+---------------------+--------------------------+-------------------+---------------+-----------------+---------------------+------+-------------+---------------------+---------------+------+-------+-------------+--------------+-----------------------+---------------------+--------------+----+------------+--------------+\n",
      "|      id|ever_overweight|blood_transfusion_yr|heart_attack_age|fatty_liver|liver_fibrosis|liver_cirrhosis|liver_viral_hepatitis|liver_autoimmune_hepatitis|other_liver_disease|relative_asthma|relative_diabetes|relative_heart_attack|asthma|heart_failure|chronic_heart_disease|angina_pectoris|stroke|thyroid|liver_disease|gallbladder_pr|Total_Cholesterol_mg_dL|Frequency_of_Drinking|Drinks_per_Day|Work|Recreational|100_Cigarettes|\n",
      "+--------+---------------+--------------------+----------------+-----------+--------------+---------------+---------------------+--------------------------+-------------------+---------------+-----------------+---------------------+------+-------------+---------------------+---------------+------+-------+-------------+--------------+-----------------------+---------------------+--------------+----+------------+--------------+\n",
      "|109266.0|              1|                null|            null|          0|             0|              0|                    0|                         0|                  0|              0|                1|                    0|     0|            0|                    0|              0|     0|      0|            0|             0|                  195.0|                 10.0|           1.0|   0|           1|             0|\n",
      "|109274.0|              1|                null|            null|          0|             0|              0|                    0|                         0|                  0|              0|                1|                    0|     0|            0|                    0|              0|     0|      0|            0|             0|                  105.0|                  4.0|           2.0|   1|           0|             0|\n",
      "|109292.0|              0|                null|            null|          0|             0|              0|                    0|                         0|                  0|              0|                1|                    0|     0|            0|                    0|              0|     0|      0|            0|             0|                  172.0|                  4.0|           6.0|   0|           0|             0|\n",
      "|109297.0|              0|                null|            null|          0|             0|              0|                    0|                         0|                  0|              0|                1|                    0|     0|            0|                    0|              0|     0|      0|            0|             0|                  214.0|                  6.0|           2.0|   1|           0|             0|\n",
      "|109307.0|              0|                null|            null|          0|             0|              0|                    0|                         0|                  0|              0|                0|                    0|     0|            0|                    0|              0|     0|      0|            0|             0|                  161.0|                  9.0|           1.0|   0|           0|             1|\n",
      "+--------+---------------+--------------------+----------------+-----------+--------------+---------------+---------------------+--------------------------+-------------------+---------------+-----------------+---------------------+------+-------------+---------------------+---------------+------+-------+-------------+--------------+-----------------------+---------------------+--------------+----+------------+--------------+\n",
      "only showing top 5 rows\n",
      "\n"
     ]
    }
   ],
   "source": [
    "df_full = spark.sql(\" \\\n",
    "            select t1.*, \\\n",
    "                   t2.Total_Cholesterol_mg_dL, \\\n",
    "                   t2.Frequency_of_Drinking, \\\n",
    "                   t2.Drinks_per_Day, \\\n",
    "                   t2.Work, \\\n",
    "                   t2.Recreational, \\\n",
    "                   t2.100_Cigarettes \\\n",
    "            from medical_conditions as t1 \\\n",
    "                join demo as t2 \\\n",
    "                on t1.id = t2.id \")\n",
    "df_full.show(5)"
   ]
  },
  {
   "cell_type": "code",
   "execution_count": 19,
   "id": "3d8bdd1f",
   "metadata": {},
   "outputs": [
    {
     "name": "stdout",
     "output_type": "stream",
     "text": [
      "root\n",
      " |-- id: double (nullable = true)\n",
      " |-- ever_overweight: integer (nullable = true)\n",
      " |-- blood_transfusion_yr: double (nullable = true)\n",
      " |-- heart_attack_age: double (nullable = true)\n",
      " |-- fatty_liver: integer (nullable = true)\n",
      " |-- liver_fibrosis: integer (nullable = true)\n",
      " |-- liver_cirrhosis: integer (nullable = true)\n",
      " |-- liver_viral_hepatitis: integer (nullable = true)\n",
      " |-- liver_autoimmune_hepatitis: integer (nullable = true)\n",
      " |-- other_liver_disease: integer (nullable = true)\n",
      " |-- relative_asthma: integer (nullable = true)\n",
      " |-- relative_diabetes: integer (nullable = true)\n",
      " |-- relative_heart_attack: integer (nullable = true)\n",
      " |-- asthma: integer (nullable = true)\n",
      " |-- heart_failure: integer (nullable = true)\n",
      " |-- chronic_heart_disease: integer (nullable = true)\n",
      " |-- angina_pectoris: integer (nullable = true)\n",
      " |-- stroke: integer (nullable = true)\n",
      " |-- thyroid: integer (nullable = true)\n",
      " |-- liver_disease: integer (nullable = true)\n",
      " |-- gallbladder_pr: integer (nullable = true)\n",
      " |-- Total_Cholesterol_mg_dL: double (nullable = true)\n",
      " |-- Frequency_of_Drinking: double (nullable = true)\n",
      " |-- Drinks_per_Day: double (nullable = true)\n",
      " |-- Work: integer (nullable = true)\n",
      " |-- Recreational: integer (nullable = true)\n",
      " |-- 100_Cigarettes: integer (nullable = true)\n",
      "\n"
     ]
    }
   ],
   "source": [
    "df_full.printSchema()"
   ]
  },
  {
   "cell_type": "markdown",
   "id": "b7b88639",
   "metadata": {},
   "source": [
    "### 2.2 Conver to .csv file"
   ]
  },
  {
   "cell_type": "code",
   "execution_count": 16,
   "id": "71dfb01a",
   "metadata": {},
   "outputs": [
    {
     "data": {
      "text/html": [
       "<div>\n",
       "<style scoped>\n",
       "    .dataframe tbody tr th:only-of-type {\n",
       "        vertical-align: middle;\n",
       "    }\n",
       "\n",
       "    .dataframe tbody tr th {\n",
       "        vertical-align: top;\n",
       "    }\n",
       "\n",
       "    .dataframe thead th {\n",
       "        text-align: right;\n",
       "    }\n",
       "</style>\n",
       "<table border=\"1\" class=\"dataframe\">\n",
       "  <thead>\n",
       "    <tr style=\"text-align: right;\">\n",
       "      <th></th>\n",
       "      <th>id</th>\n",
       "      <th>ever_overweight</th>\n",
       "      <th>blood_transfusion_yr</th>\n",
       "      <th>heart_attack_age</th>\n",
       "      <th>fatty_liver</th>\n",
       "      <th>liver_fibrosis</th>\n",
       "      <th>liver_cirrhosis</th>\n",
       "      <th>liver_viral_hepatitis</th>\n",
       "      <th>liver_autoimmune_hepatitis</th>\n",
       "      <th>other_liver_disease</th>\n",
       "      <th>...</th>\n",
       "      <th>stroke</th>\n",
       "      <th>thyroid</th>\n",
       "      <th>liver_disease</th>\n",
       "      <th>gallbladder_pr</th>\n",
       "      <th>Total_Cholesterol_mg_dL</th>\n",
       "      <th>Frequency_of_Drinking</th>\n",
       "      <th>Drinks_per_Day</th>\n",
       "      <th>Work</th>\n",
       "      <th>Recreational</th>\n",
       "      <th>100_Cigarettes</th>\n",
       "    </tr>\n",
       "  </thead>\n",
       "  <tbody>\n",
       "    <tr>\n",
       "      <th>0</th>\n",
       "      <td>109266.0</td>\n",
       "      <td>1</td>\n",
       "      <td>NaN</td>\n",
       "      <td>NaN</td>\n",
       "      <td>0</td>\n",
       "      <td>0</td>\n",
       "      <td>0</td>\n",
       "      <td>0</td>\n",
       "      <td>0</td>\n",
       "      <td>0</td>\n",
       "      <td>...</td>\n",
       "      <td>0</td>\n",
       "      <td>0</td>\n",
       "      <td>0</td>\n",
       "      <td>0</td>\n",
       "      <td>195.0</td>\n",
       "      <td>10.0</td>\n",
       "      <td>1.0</td>\n",
       "      <td>0</td>\n",
       "      <td>1</td>\n",
       "      <td>0</td>\n",
       "    </tr>\n",
       "    <tr>\n",
       "      <th>1</th>\n",
       "      <td>109274.0</td>\n",
       "      <td>1</td>\n",
       "      <td>NaN</td>\n",
       "      <td>NaN</td>\n",
       "      <td>0</td>\n",
       "      <td>0</td>\n",
       "      <td>0</td>\n",
       "      <td>0</td>\n",
       "      <td>0</td>\n",
       "      <td>0</td>\n",
       "      <td>...</td>\n",
       "      <td>0</td>\n",
       "      <td>0</td>\n",
       "      <td>0</td>\n",
       "      <td>0</td>\n",
       "      <td>105.0</td>\n",
       "      <td>4.0</td>\n",
       "      <td>2.0</td>\n",
       "      <td>1</td>\n",
       "      <td>0</td>\n",
       "      <td>0</td>\n",
       "    </tr>\n",
       "    <tr>\n",
       "      <th>2</th>\n",
       "      <td>109292.0</td>\n",
       "      <td>0</td>\n",
       "      <td>NaN</td>\n",
       "      <td>NaN</td>\n",
       "      <td>0</td>\n",
       "      <td>0</td>\n",
       "      <td>0</td>\n",
       "      <td>0</td>\n",
       "      <td>0</td>\n",
       "      <td>0</td>\n",
       "      <td>...</td>\n",
       "      <td>0</td>\n",
       "      <td>0</td>\n",
       "      <td>0</td>\n",
       "      <td>0</td>\n",
       "      <td>172.0</td>\n",
       "      <td>4.0</td>\n",
       "      <td>6.0</td>\n",
       "      <td>0</td>\n",
       "      <td>0</td>\n",
       "      <td>0</td>\n",
       "    </tr>\n",
       "    <tr>\n",
       "      <th>3</th>\n",
       "      <td>109297.0</td>\n",
       "      <td>0</td>\n",
       "      <td>NaN</td>\n",
       "      <td>NaN</td>\n",
       "      <td>0</td>\n",
       "      <td>0</td>\n",
       "      <td>0</td>\n",
       "      <td>0</td>\n",
       "      <td>0</td>\n",
       "      <td>0</td>\n",
       "      <td>...</td>\n",
       "      <td>0</td>\n",
       "      <td>0</td>\n",
       "      <td>0</td>\n",
       "      <td>0</td>\n",
       "      <td>214.0</td>\n",
       "      <td>6.0</td>\n",
       "      <td>2.0</td>\n",
       "      <td>1</td>\n",
       "      <td>0</td>\n",
       "      <td>0</td>\n",
       "    </tr>\n",
       "    <tr>\n",
       "      <th>4</th>\n",
       "      <td>109307.0</td>\n",
       "      <td>0</td>\n",
       "      <td>NaN</td>\n",
       "      <td>NaN</td>\n",
       "      <td>0</td>\n",
       "      <td>0</td>\n",
       "      <td>0</td>\n",
       "      <td>0</td>\n",
       "      <td>0</td>\n",
       "      <td>0</td>\n",
       "      <td>...</td>\n",
       "      <td>0</td>\n",
       "      <td>0</td>\n",
       "      <td>0</td>\n",
       "      <td>0</td>\n",
       "      <td>161.0</td>\n",
       "      <td>9.0</td>\n",
       "      <td>1.0</td>\n",
       "      <td>0</td>\n",
       "      <td>0</td>\n",
       "      <td>1</td>\n",
       "    </tr>\n",
       "  </tbody>\n",
       "</table>\n",
       "<p>5 rows × 27 columns</p>\n",
       "</div>"
      ],
      "text/plain": [
       "         id  ever_overweight  blood_transfusion_yr  heart_attack_age   \n",
       "0  109266.0                1                   NaN               NaN  \\\n",
       "1  109274.0                1                   NaN               NaN   \n",
       "2  109292.0                0                   NaN               NaN   \n",
       "3  109297.0                0                   NaN               NaN   \n",
       "4  109307.0                0                   NaN               NaN   \n",
       "\n",
       "   fatty_liver  liver_fibrosis  liver_cirrhosis  liver_viral_hepatitis   \n",
       "0            0               0                0                      0  \\\n",
       "1            0               0                0                      0   \n",
       "2            0               0                0                      0   \n",
       "3            0               0                0                      0   \n",
       "4            0               0                0                      0   \n",
       "\n",
       "   liver_autoimmune_hepatitis  other_liver_disease  ...  stroke  thyroid   \n",
       "0                           0                    0  ...       0        0  \\\n",
       "1                           0                    0  ...       0        0   \n",
       "2                           0                    0  ...       0        0   \n",
       "3                           0                    0  ...       0        0   \n",
       "4                           0                    0  ...       0        0   \n",
       "\n",
       "   liver_disease  gallbladder_pr  Total_Cholesterol_mg_dL   \n",
       "0              0               0                    195.0  \\\n",
       "1              0               0                    105.0   \n",
       "2              0               0                    172.0   \n",
       "3              0               0                    214.0   \n",
       "4              0               0                    161.0   \n",
       "\n",
       "   Frequency_of_Drinking  Drinks_per_Day  Work  Recreational  100_Cigarettes  \n",
       "0                   10.0             1.0     0             1               0  \n",
       "1                    4.0             2.0     1             0               0  \n",
       "2                    4.0             6.0     0             0               0  \n",
       "3                    6.0             2.0     1             0               0  \n",
       "4                    9.0             1.0     0             0               1  \n",
       "\n",
       "[5 rows x 27 columns]"
      ]
     },
     "execution_count": 16,
     "metadata": {},
     "output_type": "execute_result"
    }
   ],
   "source": [
    "df_full_pandas = df_full.toPandas()\n",
    "df_full_pandas.head()"
   ]
  },
  {
   "cell_type": "code",
   "execution_count": 17,
   "id": "0b42255a",
   "metadata": {},
   "outputs": [
    {
     "name": "stdout",
     "output_type": "stream",
     "text": [
      "<class 'pandas.core.frame.DataFrame'>\n",
      "RangeIndex: 5502 entries, 0 to 5501\n",
      "Data columns (total 27 columns):\n",
      " #   Column                      Non-Null Count  Dtype  \n",
      "---  ------                      --------------  -----  \n",
      " 0   id                          5502 non-null   float64\n",
      " 1   ever_overweight             5502 non-null   int32  \n",
      " 2   blood_transfusion_yr        527 non-null    float64\n",
      " 3   heart_attack_age            199 non-null    float64\n",
      " 4   fatty_liver                 5502 non-null   int32  \n",
      " 5   liver_fibrosis              5502 non-null   int32  \n",
      " 6   liver_cirrhosis             5502 non-null   int32  \n",
      " 7   liver_viral_hepatitis       5502 non-null   int32  \n",
      " 8   liver_autoimmune_hepatitis  5502 non-null   int32  \n",
      " 9   other_liver_disease         5502 non-null   int32  \n",
      " 10  relative_asthma             5502 non-null   int32  \n",
      " 11  relative_diabetes           5502 non-null   int32  \n",
      " 12  relative_heart_attack       5502 non-null   int32  \n",
      " 13  asthma                      5502 non-null   int32  \n",
      " 14  heart_failure               5502 non-null   int32  \n",
      " 15  chronic_heart_disease       5502 non-null   int32  \n",
      " 16  angina_pectoris             5502 non-null   int32  \n",
      " 17  stroke                      5502 non-null   int32  \n",
      " 18  thyroid                     5502 non-null   int32  \n",
      " 19  liver_disease               5502 non-null   int32  \n",
      " 20  gallbladder_pr              5502 non-null   int32  \n",
      " 21  Total_Cholesterol_mg_dL     5502 non-null   float64\n",
      " 22  Frequency_of_Drinking       5502 non-null   float64\n",
      " 23  Drinks_per_Day              5502 non-null   float64\n",
      " 24  Work                        5502 non-null   int32  \n",
      " 25  Recreational                5502 non-null   int32  \n",
      " 26  100_Cigarettes              5502 non-null   int32  \n",
      "dtypes: float64(6), int32(21)\n",
      "memory usage: 709.4 KB\n"
     ]
    }
   ],
   "source": [
    "df_full_pandas.info()"
   ]
  },
  {
   "cell_type": "code",
   "execution_count": 23,
   "id": "9f0ed814",
   "metadata": {},
   "outputs": [],
   "source": [
    "df_full_pandas.to_csv('Resources/heart_attack_final_table.csv', index=False)"
   ]
  }
 ],
 "metadata": {
  "kernelspec": {
   "display_name": "Python 3 (ipykernel)",
   "language": "python",
   "name": "python3"
  },
  "language_info": {
   "codemirror_mode": {
    "name": "ipython",
    "version": 3
   },
   "file_extension": ".py",
   "mimetype": "text/x-python",
   "name": "python",
   "nbconvert_exporter": "python",
   "pygments_lexer": "ipython3",
   "version": "3.9.13"
  }
 },
 "nbformat": 4,
 "nbformat_minor": 5
}
