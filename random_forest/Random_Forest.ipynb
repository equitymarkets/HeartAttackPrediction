{
 "cells": [
  {
   "cell_type": "code",
   "execution_count": 2,
   "id": "fda2cecf",
   "metadata": {},
   "outputs": [],
   "source": [
    "# Initial imports\n",
    "import pandas as pd\n",
    "from pathlib import Path\n",
    "from sklearn.ensemble import RandomForestClassifier\n",
    "from sklearn.preprocessing import StandardScaler\n",
    "from sklearn.model_selection import train_test_split\n",
    "from sklearn.metrics import confusion_matrix, accuracy_score, classification_report\n",
    "from sklearn import preprocessing\n",
    "from boruta import BorutaPy\n",
    "%matplotlib inline"
   ]
  },
  {
   "cell_type": "markdown",
   "id": "5fa23dc5",
   "metadata": {},
   "source": [
    "# 1. Pre-Processing"
   ]
  },
  {
   "cell_type": "markdown",
   "id": "f1962df9",
   "metadata": {},
   "source": [
    "### 1.1 Load Data"
   ]
  },
  {
   "cell_type": "code",
   "execution_count": 8,
   "id": "7afceeaa",
   "metadata": {},
   "outputs": [
    {
     "data": {
      "text/html": [
       "<div>\n",
       "<style scoped>\n",
       "    .dataframe tbody tr th:only-of-type {\n",
       "        vertical-align: middle;\n",
       "    }\n",
       "\n",
       "    .dataframe tbody tr th {\n",
       "        vertical-align: top;\n",
       "    }\n",
       "\n",
       "    .dataframe thead th {\n",
       "        text-align: right;\n",
       "    }\n",
       "</style>\n",
       "<table border=\"1\" class=\"dataframe\">\n",
       "  <thead>\n",
       "    <tr style=\"text-align: right;\">\n",
       "      <th></th>\n",
       "      <th>id</th>\n",
       "      <th>asthma_age</th>\n",
       "      <th>ever_overweight</th>\n",
       "      <th>heart_failure_age</th>\n",
       "      <th>age_chronic_heart_disease</th>\n",
       "      <th>angina_pectoris_age</th>\n",
       "      <th>heart_attack_age</th>\n",
       "      <th>stroke_age</th>\n",
       "      <th>thyroid_age</th>\n",
       "      <th>liver_age</th>\n",
       "      <th>...</th>\n",
       "      <th>100_Cigarettes</th>\n",
       "      <th>age</th>\n",
       "      <th>gender_female</th>\n",
       "      <th>gender_male</th>\n",
       "      <th>race_asian</th>\n",
       "      <th>race_black</th>\n",
       "      <th>race_mexican_american</th>\n",
       "      <th>race_other</th>\n",
       "      <th>race_other_hispanic</th>\n",
       "      <th>race_white</th>\n",
       "    </tr>\n",
       "  </thead>\n",
       "  <tbody>\n",
       "    <tr>\n",
       "      <th>0</th>\n",
       "      <td>109266.0</td>\n",
       "      <td>0.0</td>\n",
       "      <td>1</td>\n",
       "      <td>0.0</td>\n",
       "      <td>0.0</td>\n",
       "      <td>0.0</td>\n",
       "      <td>NaN</td>\n",
       "      <td>0.0</td>\n",
       "      <td>0.0</td>\n",
       "      <td>0.0</td>\n",
       "      <td>...</td>\n",
       "      <td>0</td>\n",
       "      <td>29.0</td>\n",
       "      <td>1</td>\n",
       "      <td>0</td>\n",
       "      <td>1</td>\n",
       "      <td>0</td>\n",
       "      <td>0</td>\n",
       "      <td>0</td>\n",
       "      <td>0</td>\n",
       "      <td>0</td>\n",
       "    </tr>\n",
       "    <tr>\n",
       "      <th>1</th>\n",
       "      <td>109274.0</td>\n",
       "      <td>0.0</td>\n",
       "      <td>1</td>\n",
       "      <td>0.0</td>\n",
       "      <td>0.0</td>\n",
       "      <td>0.0</td>\n",
       "      <td>NaN</td>\n",
       "      <td>0.0</td>\n",
       "      <td>0.0</td>\n",
       "      <td>0.0</td>\n",
       "      <td>...</td>\n",
       "      <td>0</td>\n",
       "      <td>68.0</td>\n",
       "      <td>0</td>\n",
       "      <td>1</td>\n",
       "      <td>0</td>\n",
       "      <td>0</td>\n",
       "      <td>0</td>\n",
       "      <td>1</td>\n",
       "      <td>0</td>\n",
       "      <td>0</td>\n",
       "    </tr>\n",
       "    <tr>\n",
       "      <th>2</th>\n",
       "      <td>109292.0</td>\n",
       "      <td>52.0</td>\n",
       "      <td>0</td>\n",
       "      <td>0.0</td>\n",
       "      <td>0.0</td>\n",
       "      <td>0.0</td>\n",
       "      <td>NaN</td>\n",
       "      <td>0.0</td>\n",
       "      <td>0.0</td>\n",
       "      <td>0.0</td>\n",
       "      <td>...</td>\n",
       "      <td>0</td>\n",
       "      <td>58.0</td>\n",
       "      <td>0</td>\n",
       "      <td>1</td>\n",
       "      <td>0</td>\n",
       "      <td>0</td>\n",
       "      <td>0</td>\n",
       "      <td>0</td>\n",
       "      <td>1</td>\n",
       "      <td>0</td>\n",
       "    </tr>\n",
       "    <tr>\n",
       "      <th>3</th>\n",
       "      <td>109297.0</td>\n",
       "      <td>0.0</td>\n",
       "      <td>0</td>\n",
       "      <td>0.0</td>\n",
       "      <td>0.0</td>\n",
       "      <td>0.0</td>\n",
       "      <td>NaN</td>\n",
       "      <td>0.0</td>\n",
       "      <td>0.0</td>\n",
       "      <td>0.0</td>\n",
       "      <td>...</td>\n",
       "      <td>0</td>\n",
       "      <td>30.0</td>\n",
       "      <td>1</td>\n",
       "      <td>0</td>\n",
       "      <td>1</td>\n",
       "      <td>0</td>\n",
       "      <td>0</td>\n",
       "      <td>0</td>\n",
       "      <td>0</td>\n",
       "      <td>0</td>\n",
       "    </tr>\n",
       "    <tr>\n",
       "      <th>4</th>\n",
       "      <td>109307.0</td>\n",
       "      <td>0.0</td>\n",
       "      <td>0</td>\n",
       "      <td>0.0</td>\n",
       "      <td>0.0</td>\n",
       "      <td>42.0</td>\n",
       "      <td>NaN</td>\n",
       "      <td>0.0</td>\n",
       "      <td>0.0</td>\n",
       "      <td>0.0</td>\n",
       "      <td>...</td>\n",
       "      <td>1</td>\n",
       "      <td>47.0</td>\n",
       "      <td>0</td>\n",
       "      <td>1</td>\n",
       "      <td>1</td>\n",
       "      <td>0</td>\n",
       "      <td>0</td>\n",
       "      <td>0</td>\n",
       "      <td>0</td>\n",
       "      <td>0</td>\n",
       "    </tr>\n",
       "  </tbody>\n",
       "</table>\n",
       "<p>5 rows × 53 columns</p>\n",
       "</div>"
      ],
      "text/plain": [
       "         id  asthma_age  ever_overweight  heart_failure_age  \\\n",
       "0  109266.0         0.0                1                0.0   \n",
       "1  109274.0         0.0                1                0.0   \n",
       "2  109292.0        52.0                0                0.0   \n",
       "3  109297.0         0.0                0                0.0   \n",
       "4  109307.0         0.0                0                0.0   \n",
       "\n",
       "   age_chronic_heart_disease  angina_pectoris_age  heart_attack_age  \\\n",
       "0                        0.0                  0.0               NaN   \n",
       "1                        0.0                  0.0               NaN   \n",
       "2                        0.0                  0.0               NaN   \n",
       "3                        0.0                  0.0               NaN   \n",
       "4                        0.0                 42.0               NaN   \n",
       "\n",
       "   stroke_age  thyroid_age  liver_age  ...  100_Cigarettes   age  \\\n",
       "0         0.0          0.0        0.0  ...               0  29.0   \n",
       "1         0.0          0.0        0.0  ...               0  68.0   \n",
       "2         0.0          0.0        0.0  ...               0  58.0   \n",
       "3         0.0          0.0        0.0  ...               0  30.0   \n",
       "4         0.0          0.0        0.0  ...               1  47.0   \n",
       "\n",
       "   gender_female  gender_male  race_asian  race_black  race_mexican_american  \\\n",
       "0              1            0           1           0                      0   \n",
       "1              0            1           0           0                      0   \n",
       "2              0            1           0           0                      0   \n",
       "3              1            0           1           0                      0   \n",
       "4              0            1           1           0                      0   \n",
       "\n",
       "   race_other  race_other_hispanic  race_white  \n",
       "0           0                    0           0  \n",
       "1           1                    0           0  \n",
       "2           0                    1           0  \n",
       "3           0                    0           0  \n",
       "4           0                    0           0  \n",
       "\n",
       "[5 rows x 53 columns]"
      ]
     },
     "execution_count": 8,
     "metadata": {},
     "output_type": "execute_result"
    }
   ],
   "source": [
    "df = pd.read_csv('Resources/heart_attack_final_table.csv')\n",
    "df.head()"
   ]
  },
  {
   "cell_type": "code",
   "execution_count": 9,
   "id": "77ca8fff",
   "metadata": {
    "scrolled": true
   },
   "outputs": [
    {
     "name": "stdout",
     "output_type": "stream",
     "text": [
      "<class 'pandas.core.frame.DataFrame'>\n",
      "RangeIndex: 5478 entries, 0 to 5477\n",
      "Data columns (total 53 columns):\n",
      " #   Column                      Non-Null Count  Dtype  \n",
      "---  ------                      --------------  -----  \n",
      " 0   id                          5478 non-null   float64\n",
      " 1   asthma_age                  5478 non-null   float64\n",
      " 2   ever_overweight             5478 non-null   int64  \n",
      " 3   heart_failure_age           5478 non-null   float64\n",
      " 4   age_chronic_heart_disease   5478 non-null   float64\n",
      " 5   angina_pectoris_age         5478 non-null   float64\n",
      " 6   heart_attack_age            195 non-null    float64\n",
      " 7   stroke_age                  5478 non-null   float64\n",
      " 8   thyroid_age                 5478 non-null   float64\n",
      " 9   liver_age                   5478 non-null   float64\n",
      " 10  fatty_liver                 5478 non-null   int64  \n",
      " 11  liver_fibrosis              5478 non-null   int64  \n",
      " 12  liver_cirrhosis             5478 non-null   int64  \n",
      " 13  liver_viral_hepatitis       5478 non-null   int64  \n",
      " 14  liver_autoimmune_hepatitis  5478 non-null   int64  \n",
      " 15  other_liver_disease         5478 non-null   int64  \n",
      " 16  gallbladder_pr_age          5478 non-null   float64\n",
      " 17  relative_asthma             5478 non-null   int64  \n",
      " 18  relative_diabetes           5478 non-null   int64  \n",
      " 19  relative_heart_attack       5478 non-null   int64  \n",
      " 20  heart_attack                5478 non-null   int64  \n",
      " 21  asthma                      5478 non-null   int64  \n",
      " 22  heart_failure               5478 non-null   int64  \n",
      " 23  chronic_heart_disease       5478 non-null   int64  \n",
      " 24  angina_pectoris             5478 non-null   int64  \n",
      " 25  stroke                      5478 non-null   int64  \n",
      " 26  thyroid                     5478 non-null   int64  \n",
      " 27  liver                       5478 non-null   int64  \n",
      " 28  gallbladder_pr              5478 non-null   int64  \n",
      " 29  asthma_yrs                  5478 non-null   float64\n",
      " 30  heart_failure_yrs           5478 non-null   float64\n",
      " 31  chronic_heart_disease_yrs   5478 non-null   float64\n",
      " 32  angina_pectoris_yrs         5478 non-null   float64\n",
      " 33  stroke_yrs                  5478 non-null   float64\n",
      " 34  thyroid_yrs                 5478 non-null   float64\n",
      " 35  liver_disease_yrs           5478 non-null   float64\n",
      " 36  gallbladder_pr_yrs          5478 non-null   float64\n",
      " 37  max_age                     5478 non-null   float64\n",
      " 38  Total_Cholesterol_mg_dL     5478 non-null   float64\n",
      " 39  Frequency_of_Drinking       5478 non-null   float64\n",
      " 40  Drinks_per_Day              5478 non-null   float64\n",
      " 41  Work                        5478 non-null   int64  \n",
      " 42  Recreational                5478 non-null   int64  \n",
      " 43  100_Cigarettes              5478 non-null   int64  \n",
      " 44  age                         5478 non-null   float64\n",
      " 45  gender_female               5478 non-null   int64  \n",
      " 46  gender_male                 5478 non-null   int64  \n",
      " 47  race_asian                  5478 non-null   int64  \n",
      " 48  race_black                  5478 non-null   int64  \n",
      " 49  race_mexican_american       5478 non-null   int64  \n",
      " 50  race_other                  5478 non-null   int64  \n",
      " 51  race_other_hispanic         5478 non-null   int64  \n",
      " 52  race_white                  5478 non-null   int64  \n",
      "dtypes: float64(23), int64(30)\n",
      "memory usage: 2.2 MB\n"
     ]
    }
   ],
   "source": [
    "df.info()"
   ]
  },
  {
   "cell_type": "code",
   "execution_count": 10,
   "id": "af2fd332",
   "metadata": {},
   "outputs": [],
   "source": [
    "#remove columns that have null values and id since it is not useful for this\n",
    "df = df.drop(['id', 'heart_attack_age', 'Total_Cholesterol_mg_dL'], axis=1)"
   ]
  },
  {
   "cell_type": "markdown",
   "id": "6738b3dd",
   "metadata": {},
   "source": [
    "### 1.2 Define Features Set and Target Vector"
   ]
  },
  {
   "cell_type": "code",
   "execution_count": 11,
   "id": "c69ddccd",
   "metadata": {},
   "outputs": [
    {
     "data": {
      "text/html": [
       "<div>\n",
       "<style scoped>\n",
       "    .dataframe tbody tr th:only-of-type {\n",
       "        vertical-align: middle;\n",
       "    }\n",
       "\n",
       "    .dataframe tbody tr th {\n",
       "        vertical-align: top;\n",
       "    }\n",
       "\n",
       "    .dataframe thead th {\n",
       "        text-align: right;\n",
       "    }\n",
       "</style>\n",
       "<table border=\"1\" class=\"dataframe\">\n",
       "  <thead>\n",
       "    <tr style=\"text-align: right;\">\n",
       "      <th></th>\n",
       "      <th>asthma_age</th>\n",
       "      <th>ever_overweight</th>\n",
       "      <th>heart_failure_age</th>\n",
       "      <th>age_chronic_heart_disease</th>\n",
       "      <th>angina_pectoris_age</th>\n",
       "      <th>stroke_age</th>\n",
       "      <th>thyroid_age</th>\n",
       "      <th>liver_age</th>\n",
       "      <th>fatty_liver</th>\n",
       "      <th>liver_fibrosis</th>\n",
       "      <th>...</th>\n",
       "      <th>100_Cigarettes</th>\n",
       "      <th>age</th>\n",
       "      <th>gender_female</th>\n",
       "      <th>gender_male</th>\n",
       "      <th>race_asian</th>\n",
       "      <th>race_black</th>\n",
       "      <th>race_mexican_american</th>\n",
       "      <th>race_other</th>\n",
       "      <th>race_other_hispanic</th>\n",
       "      <th>race_white</th>\n",
       "    </tr>\n",
       "  </thead>\n",
       "  <tbody>\n",
       "    <tr>\n",
       "      <th>0</th>\n",
       "      <td>0.0</td>\n",
       "      <td>1</td>\n",
       "      <td>0.0</td>\n",
       "      <td>0.0</td>\n",
       "      <td>0.0</td>\n",
       "      <td>0.0</td>\n",
       "      <td>0.0</td>\n",
       "      <td>0.0</td>\n",
       "      <td>0</td>\n",
       "      <td>0</td>\n",
       "      <td>...</td>\n",
       "      <td>0</td>\n",
       "      <td>29.0</td>\n",
       "      <td>1</td>\n",
       "      <td>0</td>\n",
       "      <td>1</td>\n",
       "      <td>0</td>\n",
       "      <td>0</td>\n",
       "      <td>0</td>\n",
       "      <td>0</td>\n",
       "      <td>0</td>\n",
       "    </tr>\n",
       "    <tr>\n",
       "      <th>1</th>\n",
       "      <td>0.0</td>\n",
       "      <td>1</td>\n",
       "      <td>0.0</td>\n",
       "      <td>0.0</td>\n",
       "      <td>0.0</td>\n",
       "      <td>0.0</td>\n",
       "      <td>0.0</td>\n",
       "      <td>0.0</td>\n",
       "      <td>0</td>\n",
       "      <td>0</td>\n",
       "      <td>...</td>\n",
       "      <td>0</td>\n",
       "      <td>68.0</td>\n",
       "      <td>0</td>\n",
       "      <td>1</td>\n",
       "      <td>0</td>\n",
       "      <td>0</td>\n",
       "      <td>0</td>\n",
       "      <td>1</td>\n",
       "      <td>0</td>\n",
       "      <td>0</td>\n",
       "    </tr>\n",
       "    <tr>\n",
       "      <th>2</th>\n",
       "      <td>52.0</td>\n",
       "      <td>0</td>\n",
       "      <td>0.0</td>\n",
       "      <td>0.0</td>\n",
       "      <td>0.0</td>\n",
       "      <td>0.0</td>\n",
       "      <td>0.0</td>\n",
       "      <td>0.0</td>\n",
       "      <td>0</td>\n",
       "      <td>0</td>\n",
       "      <td>...</td>\n",
       "      <td>0</td>\n",
       "      <td>58.0</td>\n",
       "      <td>0</td>\n",
       "      <td>1</td>\n",
       "      <td>0</td>\n",
       "      <td>0</td>\n",
       "      <td>0</td>\n",
       "      <td>0</td>\n",
       "      <td>1</td>\n",
       "      <td>0</td>\n",
       "    </tr>\n",
       "    <tr>\n",
       "      <th>3</th>\n",
       "      <td>0.0</td>\n",
       "      <td>0</td>\n",
       "      <td>0.0</td>\n",
       "      <td>0.0</td>\n",
       "      <td>0.0</td>\n",
       "      <td>0.0</td>\n",
       "      <td>0.0</td>\n",
       "      <td>0.0</td>\n",
       "      <td>0</td>\n",
       "      <td>0</td>\n",
       "      <td>...</td>\n",
       "      <td>0</td>\n",
       "      <td>30.0</td>\n",
       "      <td>1</td>\n",
       "      <td>0</td>\n",
       "      <td>1</td>\n",
       "      <td>0</td>\n",
       "      <td>0</td>\n",
       "      <td>0</td>\n",
       "      <td>0</td>\n",
       "      <td>0</td>\n",
       "    </tr>\n",
       "    <tr>\n",
       "      <th>4</th>\n",
       "      <td>0.0</td>\n",
       "      <td>0</td>\n",
       "      <td>0.0</td>\n",
       "      <td>0.0</td>\n",
       "      <td>42.0</td>\n",
       "      <td>0.0</td>\n",
       "      <td>0.0</td>\n",
       "      <td>0.0</td>\n",
       "      <td>0</td>\n",
       "      <td>0</td>\n",
       "      <td>...</td>\n",
       "      <td>1</td>\n",
       "      <td>47.0</td>\n",
       "      <td>0</td>\n",
       "      <td>1</td>\n",
       "      <td>1</td>\n",
       "      <td>0</td>\n",
       "      <td>0</td>\n",
       "      <td>0</td>\n",
       "      <td>0</td>\n",
       "      <td>0</td>\n",
       "    </tr>\n",
       "  </tbody>\n",
       "</table>\n",
       "<p>5 rows × 49 columns</p>\n",
       "</div>"
      ],
      "text/plain": [
       "   asthma_age  ever_overweight  heart_failure_age  age_chronic_heart_disease  \\\n",
       "0         0.0                1                0.0                        0.0   \n",
       "1         0.0                1                0.0                        0.0   \n",
       "2        52.0                0                0.0                        0.0   \n",
       "3         0.0                0                0.0                        0.0   \n",
       "4         0.0                0                0.0                        0.0   \n",
       "\n",
       "   angina_pectoris_age  stroke_age  thyroid_age  liver_age  fatty_liver  \\\n",
       "0                  0.0         0.0          0.0        0.0            0   \n",
       "1                  0.0         0.0          0.0        0.0            0   \n",
       "2                  0.0         0.0          0.0        0.0            0   \n",
       "3                  0.0         0.0          0.0        0.0            0   \n",
       "4                 42.0         0.0          0.0        0.0            0   \n",
       "\n",
       "   liver_fibrosis  ...  100_Cigarettes   age  gender_female  gender_male  \\\n",
       "0               0  ...               0  29.0              1            0   \n",
       "1               0  ...               0  68.0              0            1   \n",
       "2               0  ...               0  58.0              0            1   \n",
       "3               0  ...               0  30.0              1            0   \n",
       "4               0  ...               1  47.0              0            1   \n",
       "\n",
       "   race_asian  race_black  race_mexican_american  race_other  \\\n",
       "0           1           0                      0           0   \n",
       "1           0           0                      0           1   \n",
       "2           0           0                      0           0   \n",
       "3           1           0                      0           0   \n",
       "4           1           0                      0           0   \n",
       "\n",
       "   race_other_hispanic  race_white  \n",
       "0                    0           0  \n",
       "1                    0           0  \n",
       "2                    1           0  \n",
       "3                    0           0  \n",
       "4                    0           0  \n",
       "\n",
       "[5 rows x 49 columns]"
      ]
     },
     "execution_count": 11,
     "metadata": {},
     "output_type": "execute_result"
    }
   ],
   "source": [
    "X = df.copy()\n",
    "X.drop(\"heart_attack\", axis=1, inplace=True)\n",
    "X.head()"
   ]
  },
  {
   "cell_type": "code",
   "execution_count": 12,
   "id": "0b9130cd",
   "metadata": {},
   "outputs": [
    {
     "data": {
      "text/plain": [
       "array([0, 0, 0, 0, 0])"
      ]
     },
     "execution_count": 12,
     "metadata": {},
     "output_type": "execute_result"
    }
   ],
   "source": [
    "y = df[\"heart_attack\"].ravel()\n",
    "y[:5]"
   ]
  },
  {
   "cell_type": "markdown",
   "id": "b5aa2d3e",
   "metadata": {},
   "source": [
    "### 1.3 Split into Training and Testing Data Sets"
   ]
  },
  {
   "cell_type": "code",
   "execution_count": 13,
   "id": "e64808c5",
   "metadata": {},
   "outputs": [],
   "source": [
    "X_train, X_test, y_train, y_test = train_test_split(X, y, random_state=42)"
   ]
  },
  {
   "cell_type": "markdown",
   "id": "aa2a7c2c",
   "metadata": {},
   "source": [
    "### 1.4 Scale Data"
   ]
  },
  {
   "cell_type": "code",
   "execution_count": 14,
   "id": "a48f8e34",
   "metadata": {},
   "outputs": [],
   "source": [
    "scaler = StandardScaler()"
   ]
  },
  {
   "cell_type": "code",
   "execution_count": 15,
   "id": "d5eb724e",
   "metadata": {},
   "outputs": [],
   "source": [
    "X_scaler = scaler.fit(X_train)"
   ]
  },
  {
   "cell_type": "code",
   "execution_count": 16,
   "id": "f91ff673",
   "metadata": {},
   "outputs": [],
   "source": [
    "X_train_scaled = X_scaler.transform(X_train)\n",
    "X_test_scaled = X_scaler.transform(X_test)"
   ]
  },
  {
   "cell_type": "markdown",
   "id": "24c077b0",
   "metadata": {},
   "source": [
    "# 2. Create Random Forest"
   ]
  },
  {
   "cell_type": "markdown",
   "id": "175cbdc9",
   "metadata": {},
   "source": [
    "### 2.1 Fit the Model"
   ]
  },
  {
   "cell_type": "code",
   "execution_count": 17,
   "id": "34458882",
   "metadata": {},
   "outputs": [],
   "source": [
    "rf_model = RandomForestClassifier(n_estimators=500, random_state=78)"
   ]
  },
  {
   "cell_type": "code",
   "execution_count": 18,
   "id": "8edece64",
   "metadata": {},
   "outputs": [],
   "source": [
    "rf_model = rf_model.fit(X_train_scaled, y_train)"
   ]
  },
  {
   "cell_type": "markdown",
   "id": "bd904ab2",
   "metadata": {},
   "source": [
    "### 2.2 Make Predictions"
   ]
  },
  {
   "cell_type": "code",
   "execution_count": 19,
   "id": "406eac23",
   "metadata": {},
   "outputs": [],
   "source": [
    "predictions = rf_model.predict(X_test_scaled)"
   ]
  },
  {
   "cell_type": "markdown",
   "id": "35fbeb71",
   "metadata": {},
   "source": [
    "### 2.3 Evaluate the Model"
   ]
  },
  {
   "cell_type": "code",
   "execution_count": 20,
   "id": "ed6c2dd1",
   "metadata": {},
   "outputs": [],
   "source": [
    "# Calculating the confusion matrix\n",
    "cm = confusion_matrix(y_test, predictions)\n",
    "cm_df = pd.DataFrame(\n",
    "    cm, index=[\"Actual 0\", \"Actual 1\"], columns=[\"Predicted 0\", \"Predicted 1\"]\n",
    ")\n",
    "\n",
    "# Calculating the accuracy score\n",
    "acc_score = accuracy_score(y_test, predictions)"
   ]
  },
  {
   "cell_type": "code",
   "execution_count": 21,
   "id": "a615b803",
   "metadata": {},
   "outputs": [
    {
     "name": "stdout",
     "output_type": "stream",
     "text": [
      "Confusion Matrix\n"
     ]
    },
    {
     "data": {
      "text/html": [
       "<div>\n",
       "<style scoped>\n",
       "    .dataframe tbody tr th:only-of-type {\n",
       "        vertical-align: middle;\n",
       "    }\n",
       "\n",
       "    .dataframe tbody tr th {\n",
       "        vertical-align: top;\n",
       "    }\n",
       "\n",
       "    .dataframe thead th {\n",
       "        text-align: right;\n",
       "    }\n",
       "</style>\n",
       "<table border=\"1\" class=\"dataframe\">\n",
       "  <thead>\n",
       "    <tr style=\"text-align: right;\">\n",
       "      <th></th>\n",
       "      <th>Predicted 0</th>\n",
       "      <th>Predicted 1</th>\n",
       "    </tr>\n",
       "  </thead>\n",
       "  <tbody>\n",
       "    <tr>\n",
       "      <th>Actual 0</th>\n",
       "      <td>1325</td>\n",
       "      <td>4</td>\n",
       "    </tr>\n",
       "    <tr>\n",
       "      <th>Actual 1</th>\n",
       "      <td>24</td>\n",
       "      <td>17</td>\n",
       "    </tr>\n",
       "  </tbody>\n",
       "</table>\n",
       "</div>"
      ],
      "text/plain": [
       "          Predicted 0  Predicted 1\n",
       "Actual 0         1325            4\n",
       "Actual 1           24           17"
      ]
     },
     "metadata": {},
     "output_type": "display_data"
    },
    {
     "name": "stdout",
     "output_type": "stream",
     "text": [
      "Accuracy Score : 0.9795620437956204\n",
      "Classification Report\n",
      "              precision    recall  f1-score   support\n",
      "\n",
      "           0       0.98      1.00      0.99      1329\n",
      "           1       0.81      0.41      0.55        41\n",
      "\n",
      "    accuracy                           0.98      1370\n",
      "   macro avg       0.90      0.71      0.77      1370\n",
      "weighted avg       0.98      0.98      0.98      1370\n",
      "\n"
     ]
    }
   ],
   "source": [
    "print(\"Confusion Matrix\")\n",
    "display(cm_df)\n",
    "print(f\"Accuracy Score : {acc_score}\")\n",
    "print(\"Classification Report\")\n",
    "print(classification_report(y_test, predictions))"
   ]
  },
  {
   "cell_type": "markdown",
   "id": "6579196c",
   "metadata": {},
   "source": [
    "# 3. Feature Importances"
   ]
  },
  {
   "cell_type": "code",
   "execution_count": 22,
   "id": "374572a2",
   "metadata": {},
   "outputs": [
    {
     "data": {
      "text/plain": [
       "[(0.08158287387908224, 'age'),\n",
       " (0.07812281593726571, 'chronic_heart_disease'),\n",
       " (0.07790371694064645, 'asthma_yrs'),\n",
       " (0.07756220658721218, 'age_chronic_heart_disease'),\n",
       " (0.0566285434178598, 'max_age'),\n",
       " (0.052446873027509826, 'Frequency_of_Drinking'),\n",
       " (0.04463116791343404, 'Drinks_per_Day'),\n",
       " (0.041414716767574355, 'angina_pectoris'),\n",
       " (0.03641588073454633, 'angina_pectoris_age'),\n",
       " (0.035351208455580936, 'gallbladder_pr_yrs'),\n",
       " (0.03252898024953835, 'heart_failure'),\n",
       " (0.030068346441611882, 'stroke_yrs'),\n",
       " (0.026944675056314305, 'heart_failure_age'),\n",
       " (0.020612267540026326, 'stroke_age'),\n",
       " (0.01800574723949477, 'heart_failure_yrs'),\n",
       " (0.016242403798972134, 'stroke'),\n",
       " (0.016242137901586094, '100_Cigarettes'),\n",
       " (0.016194019381251257, 'relative_diabetes'),\n",
       " (0.015762289377443905, 'relative_asthma'),\n",
       " (0.01488751635628835, 'ever_overweight'),\n",
       " (0.014860469052312099, 'angina_pectoris_yrs'),\n",
       " (0.013540017189838608, 'Work'),\n",
       " (0.01331099264055625, 'liver_disease_yrs'),\n",
       " (0.013099720348618305, 'Recreational'),\n",
       " (0.012861941669378289, 'relative_heart_attack'),\n",
       " (0.01083780923525656, 'race_white'),\n",
       " (0.01081194872278795, 'gallbladder_pr_age'),\n",
       " (0.010574668564424008, 'thyroid_yrs'),\n",
       " (0.010406178547071033, 'thyroid_age'),\n",
       " (0.009601191140108711, 'race_black'),\n",
       " (0.009015353917088713, 'race_other_hispanic'),\n",
       " (0.008660906617036206, 'asthma_age'),\n",
       " (0.008494242832829232, 'gender_male'),\n",
       " (0.008418775966212405, 'thyroid'),\n",
       " (0.008322606894270376, 'gender_female'),\n",
       " (0.00749721070191685, 'race_mexican_american'),\n",
       " (0.007058814277261955, 'asthma'),\n",
       " (0.005755137861533061, 'gallbladder_pr'),\n",
       " (0.005626575412250192, 'chronic_heart_disease_yrs'),\n",
       " (0.004575165044007369, 'race_other'),\n",
       " (0.004272176540678144, 'race_asian'),\n",
       " (0.003680800092051736, 'other_liver_disease'),\n",
       " (0.003341418068196674, 'liver'),\n",
       " (0.0026819237781176464, 'liver_age'),\n",
       " (0.0011626246219899362, 'fatty_liver'),\n",
       " (0.0010132928649037624, 'liver_cirrhosis'),\n",
       " (0.0009428622345962011, 'liver_viral_hepatitis'),\n",
       " (1.8601275003665948e-05, 'liver_fibrosis'),\n",
       " (8.186886464967918e-06, 'liver_autoimmune_hepatitis')]"
      ]
     },
     "execution_count": 22,
     "metadata": {},
     "output_type": "execute_result"
    }
   ],
   "source": [
    "importances = rf_model.feature_importances_\n",
    "sorted(zip(rf_model.feature_importances_, X.columns), reverse=True)"
   ]
  },
  {
   "cell_type": "code",
   "execution_count": 23,
   "id": "47bc36bc",
   "metadata": {},
   "outputs": [
    {
     "data": {
      "text/plain": [
       "<AxesSubplot:title={'center':'Features Importances'}, ylabel='Importance'>"
      ]
     },
     "execution_count": 23,
     "metadata": {},
     "output_type": "execute_result"
    },
    {
     "data": {
      "image/png": "[encoded data removed]",
      "text/plain": [
       "<Figure size 640x480 with 1 Axes>"
      ]
     },
     "metadata": {},
     "output_type": "display_data"
    }
   ],
   "source": [
    "importances_df = pd.DataFrame(sorted(zip(rf_model.feature_importances_, X.columns), reverse=True))\n",
    "importances_df.set_index(importances_df[1], inplace=True)\n",
    "importances_df.drop(columns=1, inplace=True)\n",
    "importances_df.rename(columns={0: 'Feature Importances'}, inplace=True)\n",
    "importances_sorted = importances_df.sort_values(by='Feature Importances')\n",
    "importances_sorted.plot(kind='barh', color='blue', title= 'Features Importances', ylabel='Feature',\n",
    "                        xlabel='Importance', legend=False)"
   ]
  },
  {
   "cell_type": "code",
   "execution_count": null,
   "id": "0b6d3b3a",
   "metadata": {},
   "outputs": [],
   "source": []
  },
  {
   "cell_type": "code",
   "execution_count": null,
   "id": "a6c82e72",
   "metadata": {},
   "outputs": [],
   "source": []
  }
 ],
 "metadata": {
  "kernelspec": {
   "display_name": "Python 3 (ipykernel)",
   "language": "python",
   "name": "python3"
  },
  "language_info": {
   "codemirror_mode": {
    "name": "ipython",
    "version": 3
   },
   "file_extension": ".py",
   "mimetype": "text/x-python",
   "name": "python",
   "nbconvert_exporter": "python",
   "pygments_lexer": "ipython3",
   "version": "3.9.13"
  }
 },
 "nbformat": 4,
 "nbformat_minor": 5
}
