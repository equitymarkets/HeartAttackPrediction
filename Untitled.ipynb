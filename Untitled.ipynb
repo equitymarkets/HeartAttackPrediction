{
 "cells": [
  {
   "cell_type": "markdown",
   "id": "f00659de",
   "metadata": {},
   "source": [
    "# 1. Load Data"
   ]
  },
  {
   "cell_type": "markdown",
   "id": "e30fb17a",
   "metadata": {},
   "source": [
    "### 1.1 Imports"
   ]
  },
  {
   "cell_type": "code",
   "execution_count": 1,
   "id": "69ebea8f",
   "metadata": {},
   "outputs": [],
   "source": [
    "import findspark\n",
    "findspark.init()\n",
    "from pyspark.sql import SparkSession\n",
    "import time\n",
    "from pyspark import SparkFiles\n",
    "import pandas as pd"
   ]
  },
  {
   "cell_type": "code",
   "execution_count": 2,
   "id": "61379791",
   "metadata": {},
   "outputs": [
    {
     "name": "stderr",
     "output_type": "stream",
     "text": [
      "Setting default log level to \"WARN\".\n",
      "To adjust logging level use sc.setLogLevel(newLevel). For SparkR, use setLogLevel(newLevel).\n"
     ]
    },
    {
     "name": "stdout",
     "output_type": "stream",
     "text": [
      "23/06/05 18:53:29 WARN NativeCodeLoader: Unable to load native-hadoop library for your platform... using builtin-java classes where applicable\n"
     ]
    }
   ],
   "source": [
    "# Create a SparkSession\n",
    "spark = SparkSession.builder.appName(\"SparkSQL\").getOrCreate()"
   ]
  },
  {
   "cell_type": "markdown",
   "id": "e59b9c40",
   "metadata": {},
   "source": [
    "### 1.2 Load Data"
   ]
  },
  {
   "cell_type": "code",
   "execution_count": 5,
   "id": "6d9edbbd",
   "metadata": {},
   "outputs": [
    {
     "name": "stderr",
     "output_type": "stream",
     "text": [
      "                                                                                \r"
     ]
    },
    {
     "name": "stdout",
     "output_type": "stream",
     "text": [
      "+--------+---------------+--------------------+----------------+-----------+--------------+---------------+---------------------+--------------------------+-------------------+---------------+-----------------+---------------------+------+-------------+---------------------+---------------+------+-------+-------------+--------------+\n",
      "|      id|ever_overweight|blood_transfusion_yr|heart_attack_age|fatty_liver|liver_fibrosis|liver_cirrhosis|liver_viral_hepatitis|liver_autoimmune_hepatitis|other_liver_disease|relative_asthma|relative_diabetes|relative_heart_attack|asthma|heart_failure|chronic_heart_disease|angina_pectoris|stroke|thyroid|liver_disease|gallbladder_pr|\n",
      "+--------+---------------+--------------------+----------------+-----------+--------------+---------------+---------------------+--------------------------+-------------------+---------------+-----------------+---------------------+------+-------------+---------------------+---------------+------+-------+-------------+--------------+\n",
      "|109263.0|              0|                null|            null|          0|             0|              0|                    0|                         0|                  0|              0|                0|                    0|     0|            0|                    0|              0|     0|      0|            0|             0|\n",
      "|109264.0|              0|                null|            null|          0|             0|              0|                    0|                         0|                  0|              1|                0|                    0|     0|            0|                    0|              0|     0|      0|            0|             0|\n",
      "|109265.0|              0|                null|            null|          0|             0|              0|                    0|                         0|                  0|              0|                0|                    0|     0|            0|                    0|              0|     0|      0|            0|             0|\n",
      "|109266.0|              1|                null|            null|          0|             0|              0|                    0|                         0|                  0|              0|                1|                    0|     0|            0|                    0|              0|     0|      0|            0|             0|\n",
      "|109267.0|              0|                null|            null|          0|             0|              0|                    0|                         0|                  0|              0|                0|                    0|     0|            0|                    0|              0|     0|      0|            0|             0|\n",
      "+--------+---------------+--------------------+----------------+-----------+--------------+---------------+---------------------+--------------------------+-------------------+---------------+-----------------+---------------------+------+-------------+---------------------+---------------+------+-------+-------------+--------------+\n",
      "only showing top 5 rows\n",
      "\n"
     ]
    }
   ],
   "source": [
    "spark.sparkContext.addFile('Resources/medical_conditions_cleaned.csv')\n",
    "medical_conditions = spark.read.csv(SparkFiles.get(\"medical_conditions_cleaned.csv\"), sep=\",\", header=True, inferSchema=True)\n",
    "medical_conditions.show(5)"
   ]
  },
  {
   "cell_type": "code",
   "execution_count": 6,
   "id": "a8dfd374",
   "metadata": {},
   "outputs": [],
   "source": [
    "medical_conditions.createOrReplaceTempView(\"medical_conditions\")"
   ]
  },
  {
   "cell_type": "code",
   "execution_count": 7,
   "id": "65c8083b",
   "metadata": {},
   "outputs": [
    {
     "name": "stdout",
     "output_type": "stream",
     "text": [
      "root\n",
      " |-- id: double (nullable = true)\n",
      " |-- ever_overweight: integer (nullable = true)\n",
      " |-- blood_transfusion_yr: double (nullable = true)\n",
      " |-- heart_attack_age: double (nullable = true)\n",
      " |-- fatty_liver: integer (nullable = true)\n",
      " |-- liver_fibrosis: integer (nullable = true)\n",
      " |-- liver_cirrhosis: integer (nullable = true)\n",
      " |-- liver_viral_hepatitis: integer (nullable = true)\n",
      " |-- liver_autoimmune_hepatitis: integer (nullable = true)\n",
      " |-- other_liver_disease: integer (nullable = true)\n",
      " |-- relative_asthma: integer (nullable = true)\n",
      " |-- relative_diabetes: integer (nullable = true)\n",
      " |-- relative_heart_attack: integer (nullable = true)\n",
      " |-- asthma: integer (nullable = true)\n",
      " |-- heart_failure: integer (nullable = true)\n",
      " |-- chronic_heart_disease: integer (nullable = true)\n",
      " |-- angina_pectoris: integer (nullable = true)\n",
      " |-- stroke: integer (nullable = true)\n",
      " |-- thyroid: integer (nullable = true)\n",
      " |-- liver_disease: integer (nullable = true)\n",
      " |-- gallbladder_pr: integer (nullable = true)\n",
      "\n"
     ]
    }
   ],
   "source": [
    "medical_conditions.printSchema()"
   ]
  },
  {
   "cell_type": "code",
   "execution_count": null,
   "id": "e1a96e98",
   "metadata": {},
   "outputs": [],
   "source": []
  }
 ],
 "metadata": {
  "kernelspec": {
   "display_name": "Python 3 (ipykernel)",
   "language": "python",
   "name": "python3"
  },
  "language_info": {
   "codemirror_mode": {
    "name": "ipython",
    "version": 3
   },
   "file_extension": ".py",
   "mimetype": "text/x-python",
   "name": "python",
   "nbconvert_exporter": "python",
   "pygments_lexer": "ipython3",
   "version": "3.9.13"
  }
 },
 "nbformat": 4,
 "nbformat_minor": 5
}
